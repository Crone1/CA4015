{
 "cells": [
  {
   "cell_type": "markdown",
   "metadata": {},
   "source": [
    "## Importing Relevant Libraries"
   ]
  },
  {
   "cell_type": "markdown",
   "metadata": {},
   "source": [
    "#### General"
   ]
  },
  {
   "cell_type": "code",
   "execution_count": 1,
   "metadata": {},
   "outputs": [],
   "source": [
    "import pandas as pd\n",
    "import numpy as np"
   ]
  },
  {
   "cell_type": "markdown",
   "metadata": {},
   "source": [
    "#### For clustering"
   ]
  },
  {
   "cell_type": "code",
   "execution_count": 2,
   "metadata": {},
   "outputs": [],
   "source": [
    "from sklearn.cluster import KMeans\n",
    "from sklearn.cluster import SpectralClustering\n",
    "from sklearn import metrics\n",
    "from scipy.spatial.distance import cdist\n",
    "from sklearn.metrics import silhouette_score"
   ]
  },
  {
   "cell_type": "markdown",
   "metadata": {},
   "source": [
    "#### For principal component analysis"
   ]
  },
  {
   "cell_type": "code",
   "execution_count": 3,
   "metadata": {},
   "outputs": [],
   "source": [
    "from sklearn.preprocessing import StandardScaler, normalize, MinMaxScaler\n",
    "from sklearn.decomposition import PCA"
   ]
  },
  {
   "cell_type": "markdown",
   "metadata": {},
   "source": [
    "#### For plotting"
   ]
  },
  {
   "cell_type": "code",
   "execution_count": 4,
   "metadata": {},
   "outputs": [],
   "source": [
    "import matplotlib.pyplot as plt\n",
    "import seaborn as sns"
   ]
  },
  {
   "cell_type": "markdown",
   "metadata": {},
   "source": [
    "# =============================================================\n",
    "# 1. Reading In The Data\n",
    "# ============================================================="
   ]
  },
  {
   "cell_type": "markdown",
   "metadata": {},
   "source": [
    "### Read in data from PVL-Delta model"
   ]
  },
  {
   "cell_type": "code",
   "execution_count": 5,
   "metadata": {},
   "outputs": [],
   "source": [
    "df_pvl_delta = pd.read_csv(\"./data/parameter_igt_pvl_delta.csv\")"
   ]
  },
  {
   "cell_type": "markdown",
   "metadata": {},
   "source": [
    "#### Inspect the data"
   ]
  },
  {
   "cell_type": "code",
   "execution_count": 6,
   "metadata": {
    "scrolled": true
   },
   "outputs": [
    {
     "data": {
      "text/html": [
       "<div>\n",
       "<style scoped>\n",
       "    .dataframe tbody tr th:only-of-type {\n",
       "        vertical-align: middle;\n",
       "    }\n",
       "\n",
       "    .dataframe tbody tr th {\n",
       "        vertical-align: top;\n",
       "    }\n",
       "\n",
       "    .dataframe thead th {\n",
       "        text-align: right;\n",
       "    }\n",
       "</style>\n",
       "<table border=\"1\" class=\"dataframe\">\n",
       "  <thead>\n",
       "    <tr style=\"text-align: right;\">\n",
       "      <th></th>\n",
       "      <th>group</th>\n",
       "      <th>SubID</th>\n",
       "      <th>LR</th>\n",
       "      <th>Outcome_Sens</th>\n",
       "      <th>Response_cons</th>\n",
       "      <th>Loss_Aver</th>\n",
       "    </tr>\n",
       "  </thead>\n",
       "  <tbody>\n",
       "    <tr>\n",
       "      <th>0</th>\n",
       "      <td>young</td>\n",
       "      <td>1</td>\n",
       "      <td>0.159011</td>\n",
       "      <td>0.487522</td>\n",
       "      <td>0.686815</td>\n",
       "      <td>0.954498</td>\n",
       "    </tr>\n",
       "    <tr>\n",
       "      <th>1</th>\n",
       "      <td>young</td>\n",
       "      <td>2</td>\n",
       "      <td>0.064666</td>\n",
       "      <td>0.511008</td>\n",
       "      <td>1.391790</td>\n",
       "      <td>0.295529</td>\n",
       "    </tr>\n",
       "    <tr>\n",
       "      <th>2</th>\n",
       "      <td>young</td>\n",
       "      <td>3</td>\n",
       "      <td>0.113089</td>\n",
       "      <td>0.465141</td>\n",
       "      <td>0.918734</td>\n",
       "      <td>0.533232</td>\n",
       "    </tr>\n",
       "    <tr>\n",
       "      <th>3</th>\n",
       "      <td>young</td>\n",
       "      <td>4</td>\n",
       "      <td>0.089273</td>\n",
       "      <td>0.500391</td>\n",
       "      <td>0.703737</td>\n",
       "      <td>0.869859</td>\n",
       "    </tr>\n",
       "    <tr>\n",
       "      <th>4</th>\n",
       "      <td>young</td>\n",
       "      <td>5</td>\n",
       "      <td>0.233898</td>\n",
       "      <td>0.488053</td>\n",
       "      <td>0.897867</td>\n",
       "      <td>0.511095</td>\n",
       "    </tr>\n",
       "  </tbody>\n",
       "</table>\n",
       "</div>"
      ],
      "text/plain": [
       "   group  SubID        LR  Outcome_Sens  Response_cons  Loss_Aver\n",
       "0  young      1  0.159011      0.487522       0.686815   0.954498\n",
       "1  young      2  0.064666      0.511008       1.391790   0.295529\n",
       "2  young      3  0.113089      0.465141       0.918734   0.533232\n",
       "3  young      4  0.089273      0.500391       0.703737   0.869859\n",
       "4  young      5  0.233898      0.488053       0.897867   0.511095"
      ]
     },
     "execution_count": 6,
     "metadata": {},
     "output_type": "execute_result"
    }
   ],
   "source": [
    "df_pvl_delta.head()"
   ]
  },
  {
   "cell_type": "code",
   "execution_count": 7,
   "metadata": {},
   "outputs": [
    {
     "data": {
      "text/plain": [
       "<matplotlib.collections.PathCollection at 0x17a39a3ef40>"
      ]
     },
     "execution_count": 7,
     "metadata": {},
     "output_type": "execute_result"
    },
    {
     "data": {
      "image/png": "[encoded data removed]",
      "text/plain": [
       "<Figure size 432x288 with 1 Axes>"
      ]
     },
     "metadata": {
      "needs_background": "light"
     },
     "output_type": "display_data"
    }
   ],
   "source": [
    "plt.scatter(df_pvl_delta[\"LR\"], df_pvl_delta[\"Outcome_Sens\"])"
   ]
  },
  {
   "cell_type": "markdown",
   "metadata": {},
   "source": [
    "#### Processing\n",
    "'SubID' column can be dropped as it is not used for analysis."
   ]
  },
  {
   "cell_type": "code",
   "execution_count": 8,
   "metadata": {},
   "outputs": [],
   "source": [
    "df_pvl_delta.drop(columns=['SubID'], inplace=True)"
   ]
  },
  {
   "cell_type": "code",
   "execution_count": 9,
   "metadata": {},
   "outputs": [
    {
     "data": {
      "text/html": [
       "<div>\n",
       "<style scoped>\n",
       "    .dataframe tbody tr th:only-of-type {\n",
       "        vertical-align: middle;\n",
       "    }\n",
       "\n",
       "    .dataframe tbody tr th {\n",
       "        vertical-align: top;\n",
       "    }\n",
       "\n",
       "    .dataframe thead th {\n",
       "        text-align: right;\n",
       "    }\n",
       "</style>\n",
       "<table border=\"1\" class=\"dataframe\">\n",
       "  <thead>\n",
       "    <tr style=\"text-align: right;\">\n",
       "      <th></th>\n",
       "      <th>group</th>\n",
       "      <th>LR</th>\n",
       "      <th>Outcome_Sens</th>\n",
       "      <th>Response_cons</th>\n",
       "      <th>Loss_Aver</th>\n",
       "    </tr>\n",
       "  </thead>\n",
       "  <tbody>\n",
       "    <tr>\n",
       "      <th>0</th>\n",
       "      <td>young</td>\n",
       "      <td>0.159011</td>\n",
       "      <td>0.487522</td>\n",
       "      <td>0.686815</td>\n",
       "      <td>0.954498</td>\n",
       "    </tr>\n",
       "    <tr>\n",
       "      <th>1</th>\n",
       "      <td>young</td>\n",
       "      <td>0.064666</td>\n",
       "      <td>0.511008</td>\n",
       "      <td>1.391790</td>\n",
       "      <td>0.295529</td>\n",
       "    </tr>\n",
       "    <tr>\n",
       "      <th>2</th>\n",
       "      <td>young</td>\n",
       "      <td>0.113089</td>\n",
       "      <td>0.465141</td>\n",
       "      <td>0.918734</td>\n",
       "      <td>0.533232</td>\n",
       "    </tr>\n",
       "    <tr>\n",
       "      <th>3</th>\n",
       "      <td>young</td>\n",
       "      <td>0.089273</td>\n",
       "      <td>0.500391</td>\n",
       "      <td>0.703737</td>\n",
       "      <td>0.869859</td>\n",
       "    </tr>\n",
       "    <tr>\n",
       "      <th>4</th>\n",
       "      <td>young</td>\n",
       "      <td>0.233898</td>\n",
       "      <td>0.488053</td>\n",
       "      <td>0.897867</td>\n",
       "      <td>0.511095</td>\n",
       "    </tr>\n",
       "  </tbody>\n",
       "</table>\n",
       "</div>"
      ],
      "text/plain": [
       "   group        LR  Outcome_Sens  Response_cons  Loss_Aver\n",
       "0  young  0.159011      0.487522       0.686815   0.954498\n",
       "1  young  0.064666      0.511008       1.391790   0.295529\n",
       "2  young  0.113089      0.465141       0.918734   0.533232\n",
       "3  young  0.089273      0.500391       0.703737   0.869859\n",
       "4  young  0.233898      0.488053       0.897867   0.511095"
      ]
     },
     "execution_count": 9,
     "metadata": {},
     "output_type": "execute_result"
    }
   ],
   "source": [
    "df_pvl_delta.head()"
   ]
  },
  {
   "cell_type": "markdown",
   "metadata": {},
   "source": [
    "### Read in data from the ORL model"
   ]
  },
  {
   "cell_type": "code",
   "execution_count": 10,
   "metadata": {},
   "outputs": [],
   "source": [
    "df_orl = pd.read_csv(\"./data/parameter_igt_orl.csv\")"
   ]
  },
  {
   "cell_type": "markdown",
   "metadata": {},
   "source": [
    "#### Inspect the data"
   ]
  },
  {
   "cell_type": "code",
   "execution_count": 11,
   "metadata": {
    "scrolled": true
   },
   "outputs": [
    {
     "data": {
      "text/html": [
       "<div>\n",
       "<style scoped>\n",
       "    .dataframe tbody tr th:only-of-type {\n",
       "        vertical-align: middle;\n",
       "    }\n",
       "\n",
       "    .dataframe tbody tr th {\n",
       "        vertical-align: top;\n",
       "    }\n",
       "\n",
       "    .dataframe thead th {\n",
       "        text-align: right;\n",
       "    }\n",
       "</style>\n",
       "<table border=\"1\" class=\"dataframe\">\n",
       "  <thead>\n",
       "    <tr style=\"text-align: right;\">\n",
       "      <th></th>\n",
       "      <th>subjID</th>\n",
       "      <th>A+</th>\n",
       "      <th>A-</th>\n",
       "      <th>K</th>\n",
       "      <th>BetaF</th>\n",
       "      <th>BetaP</th>\n",
       "      <th>A+-A-</th>\n",
       "    </tr>\n",
       "  </thead>\n",
       "  <tbody>\n",
       "    <tr>\n",
       "      <th>0</th>\n",
       "      <td>old</td>\n",
       "      <td>0.324444</td>\n",
       "      <td>0.068862</td>\n",
       "      <td>1.502130</td>\n",
       "      <td>2.523191</td>\n",
       "      <td>-5.547480</td>\n",
       "      <td>0.255581</td>\n",
       "    </tr>\n",
       "    <tr>\n",
       "      <th>1</th>\n",
       "      <td>old</td>\n",
       "      <td>0.885744</td>\n",
       "      <td>0.120145</td>\n",
       "      <td>0.012591</td>\n",
       "      <td>3.193244</td>\n",
       "      <td>-9.159800</td>\n",
       "      <td>0.765598</td>\n",
       "    </tr>\n",
       "    <tr>\n",
       "      <th>2</th>\n",
       "      <td>old</td>\n",
       "      <td>0.318205</td>\n",
       "      <td>0.078128</td>\n",
       "      <td>1.927309</td>\n",
       "      <td>0.615708</td>\n",
       "      <td>9.272336</td>\n",
       "      <td>0.240077</td>\n",
       "    </tr>\n",
       "    <tr>\n",
       "      <th>3</th>\n",
       "      <td>old</td>\n",
       "      <td>0.728192</td>\n",
       "      <td>0.106737</td>\n",
       "      <td>0.388407</td>\n",
       "      <td>2.595746</td>\n",
       "      <td>-2.239555</td>\n",
       "      <td>0.621455</td>\n",
       "    </tr>\n",
       "    <tr>\n",
       "      <th>4</th>\n",
       "      <td>old</td>\n",
       "      <td>0.356229</td>\n",
       "      <td>0.091987</td>\n",
       "      <td>1.810674</td>\n",
       "      <td>0.508605</td>\n",
       "      <td>9.825699</td>\n",
       "      <td>0.264241</td>\n",
       "    </tr>\n",
       "  </tbody>\n",
       "</table>\n",
       "</div>"
      ],
      "text/plain": [
       "  subjID        A+        A-         K     BetaF     BetaP     A+-A-\n",
       "0    old  0.324444  0.068862  1.502130  2.523191 -5.547480  0.255581\n",
       "1    old  0.885744  0.120145  0.012591  3.193244 -9.159800  0.765598\n",
       "2    old  0.318205  0.078128  1.927309  0.615708  9.272336  0.240077\n",
       "3    old  0.728192  0.106737  0.388407  2.595746 -2.239555  0.621455\n",
       "4    old  0.356229  0.091987  1.810674  0.508605  9.825699  0.264241"
      ]
     },
     "execution_count": 11,
     "metadata": {},
     "output_type": "execute_result"
    }
   ],
   "source": [
    "df_orl.head()"
   ]
  },
  {
   "cell_type": "markdown",
   "metadata": {},
   "source": [
    "#### Processing\n",
    "'subjID' column in input file is actually the 'group' column based on its contents. Thus, rename the column as so."
   ]
  },
  {
   "cell_type": "code",
   "execution_count": 12,
   "metadata": {},
   "outputs": [
    {
     "data": {
      "text/html": [
       "<div>\n",
       "<style scoped>\n",
       "    .dataframe tbody tr th:only-of-type {\n",
       "        vertical-align: middle;\n",
       "    }\n",
       "\n",
       "    .dataframe tbody tr th {\n",
       "        vertical-align: top;\n",
       "    }\n",
       "\n",
       "    .dataframe thead th {\n",
       "        text-align: right;\n",
       "    }\n",
       "</style>\n",
       "<table border=\"1\" class=\"dataframe\">\n",
       "  <thead>\n",
       "    <tr style=\"text-align: right;\">\n",
       "      <th></th>\n",
       "      <th>group</th>\n",
       "      <th>A+</th>\n",
       "      <th>A-</th>\n",
       "      <th>K</th>\n",
       "      <th>BetaF</th>\n",
       "      <th>BetaP</th>\n",
       "      <th>A+-A-</th>\n",
       "    </tr>\n",
       "  </thead>\n",
       "  <tbody>\n",
       "    <tr>\n",
       "      <th>0</th>\n",
       "      <td>old</td>\n",
       "      <td>0.324444</td>\n",
       "      <td>0.068862</td>\n",
       "      <td>1.502130</td>\n",
       "      <td>2.523191</td>\n",
       "      <td>-5.547480</td>\n",
       "      <td>0.255581</td>\n",
       "    </tr>\n",
       "    <tr>\n",
       "      <th>1</th>\n",
       "      <td>old</td>\n",
       "      <td>0.885744</td>\n",
       "      <td>0.120145</td>\n",
       "      <td>0.012591</td>\n",
       "      <td>3.193244</td>\n",
       "      <td>-9.159800</td>\n",
       "      <td>0.765598</td>\n",
       "    </tr>\n",
       "    <tr>\n",
       "      <th>2</th>\n",
       "      <td>old</td>\n",
       "      <td>0.318205</td>\n",
       "      <td>0.078128</td>\n",
       "      <td>1.927309</td>\n",
       "      <td>0.615708</td>\n",
       "      <td>9.272336</td>\n",
       "      <td>0.240077</td>\n",
       "    </tr>\n",
       "    <tr>\n",
       "      <th>3</th>\n",
       "      <td>old</td>\n",
       "      <td>0.728192</td>\n",
       "      <td>0.106737</td>\n",
       "      <td>0.388407</td>\n",
       "      <td>2.595746</td>\n",
       "      <td>-2.239555</td>\n",
       "      <td>0.621455</td>\n",
       "    </tr>\n",
       "    <tr>\n",
       "      <th>4</th>\n",
       "      <td>old</td>\n",
       "      <td>0.356229</td>\n",
       "      <td>0.091987</td>\n",
       "      <td>1.810674</td>\n",
       "      <td>0.508605</td>\n",
       "      <td>9.825699</td>\n",
       "      <td>0.264241</td>\n",
       "    </tr>\n",
       "  </tbody>\n",
       "</table>\n",
       "</div>"
      ],
      "text/plain": [
       "  group        A+        A-         K     BetaF     BetaP     A+-A-\n",
       "0   old  0.324444  0.068862  1.502130  2.523191 -5.547480  0.255581\n",
       "1   old  0.885744  0.120145  0.012591  3.193244 -9.159800  0.765598\n",
       "2   old  0.318205  0.078128  1.927309  0.615708  9.272336  0.240077\n",
       "3   old  0.728192  0.106737  0.388407  2.595746 -2.239555  0.621455\n",
       "4   old  0.356229  0.091987  1.810674  0.508605  9.825699  0.264241"
      ]
     },
     "execution_count": 12,
     "metadata": {},
     "output_type": "execute_result"
    }
   ],
   "source": [
    "df_orl.rename(columns={'subjID':'group'}, inplace=True)\n",
    "df_orl.head()"
   ]
  },
  {
   "cell_type": "markdown",
   "metadata": {},
   "source": [
    "### Read in data from the VPP model"
   ]
  },
  {
   "cell_type": "code",
   "execution_count": 13,
   "metadata": {},
   "outputs": [],
   "source": [
    "df_vpp = pd.read_csv(\"./data/parameters_igt_vpp.csv\")"
   ]
  },
  {
   "cell_type": "markdown",
   "metadata": {},
   "source": [
    "#### Inspect the data"
   ]
  },
  {
   "cell_type": "code",
   "execution_count": 14,
   "metadata": {
    "scrolled": true
   },
   "outputs": [
    {
     "data": {
      "text/html": [
       "<div>\n",
       "<style scoped>\n",
       "    .dataframe tbody tr th:only-of-type {\n",
       "        vertical-align: middle;\n",
       "    }\n",
       "\n",
       "    .dataframe tbody tr th {\n",
       "        vertical-align: top;\n",
       "    }\n",
       "\n",
       "    .dataframe thead th {\n",
       "        text-align: right;\n",
       "    }\n",
       "</style>\n",
       "<table border=\"1\" class=\"dataframe\">\n",
       "  <thead>\n",
       "    <tr style=\"text-align: right;\">\n",
       "      <th></th>\n",
       "      <th>group</th>\n",
       "      <th>SubID</th>\n",
       "      <th>LR</th>\n",
       "      <th>Out_Sens</th>\n",
       "      <th>Res_Cons</th>\n",
       "      <th>Loss_Aver</th>\n",
       "      <th>Gain_Impa</th>\n",
       "      <th>Loss_Impa</th>\n",
       "      <th>Deca_Rate</th>\n",
       "      <th>RL_weight</th>\n",
       "    </tr>\n",
       "  </thead>\n",
       "  <tbody>\n",
       "    <tr>\n",
       "      <th>0</th>\n",
       "      <td>young</td>\n",
       "      <td>1</td>\n",
       "      <td>0.038441</td>\n",
       "      <td>0.630402</td>\n",
       "      <td>1.207295</td>\n",
       "      <td>1.050323</td>\n",
       "      <td>-0.535035</td>\n",
       "      <td>-1.913099</td>\n",
       "      <td>0.669323</td>\n",
       "      <td>0.660446</td>\n",
       "    </tr>\n",
       "    <tr>\n",
       "      <th>1</th>\n",
       "      <td>young</td>\n",
       "      <td>2</td>\n",
       "      <td>0.045673</td>\n",
       "      <td>0.630331</td>\n",
       "      <td>1.628191</td>\n",
       "      <td>0.205205</td>\n",
       "      <td>-0.133367</td>\n",
       "      <td>-1.423580</td>\n",
       "      <td>0.427207</td>\n",
       "      <td>0.719352</td>\n",
       "    </tr>\n",
       "    <tr>\n",
       "      <th>2</th>\n",
       "      <td>young</td>\n",
       "      <td>3</td>\n",
       "      <td>0.045468</td>\n",
       "      <td>0.602974</td>\n",
       "      <td>1.395572</td>\n",
       "      <td>0.383055</td>\n",
       "      <td>-0.344822</td>\n",
       "      <td>-1.719826</td>\n",
       "      <td>0.493249</td>\n",
       "      <td>0.688723</td>\n",
       "    </tr>\n",
       "    <tr>\n",
       "      <th>3</th>\n",
       "      <td>young</td>\n",
       "      <td>4</td>\n",
       "      <td>0.035789</td>\n",
       "      <td>0.635677</td>\n",
       "      <td>1.067831</td>\n",
       "      <td>0.823790</td>\n",
       "      <td>-0.229192</td>\n",
       "      <td>-1.484455</td>\n",
       "      <td>0.625835</td>\n",
       "      <td>0.675971</td>\n",
       "    </tr>\n",
       "    <tr>\n",
       "      <th>4</th>\n",
       "      <td>young</td>\n",
       "      <td>5</td>\n",
       "      <td>0.060655</td>\n",
       "      <td>0.636276</td>\n",
       "      <td>1.802964</td>\n",
       "      <td>0.329246</td>\n",
       "      <td>-0.616020</td>\n",
       "      <td>-2.561017</td>\n",
       "      <td>0.439912</td>\n",
       "      <td>0.655563</td>\n",
       "    </tr>\n",
       "  </tbody>\n",
       "</table>\n",
       "</div>"
      ],
      "text/plain": [
       "   group  SubID        LR  Out_Sens  Res_Cons  Loss_Aver  Gain_Impa  \\\n",
       "0  young      1  0.038441  0.630402  1.207295   1.050323  -0.535035   \n",
       "1  young      2  0.045673  0.630331  1.628191   0.205205  -0.133367   \n",
       "2  young      3  0.045468  0.602974  1.395572   0.383055  -0.344822   \n",
       "3  young      4  0.035789  0.635677  1.067831   0.823790  -0.229192   \n",
       "4  young      5  0.060655  0.636276  1.802964   0.329246  -0.616020   \n",
       "\n",
       "   Loss_Impa  Deca_Rate  RL_weight  \n",
       "0  -1.913099   0.669323   0.660446  \n",
       "1  -1.423580   0.427207   0.719352  \n",
       "2  -1.719826   0.493249   0.688723  \n",
       "3  -1.484455   0.625835   0.675971  \n",
       "4  -2.561017   0.439912   0.655563  "
      ]
     },
     "execution_count": 14,
     "metadata": {},
     "output_type": "execute_result"
    }
   ],
   "source": [
    "df_vpp.head()"
   ]
  },
  {
   "cell_type": "markdown",
   "metadata": {},
   "source": [
    "#### Processing\n",
    "'SubID' column is dropped as before as it is not used for analysis."
   ]
  },
  {
   "cell_type": "code",
   "execution_count": 15,
   "metadata": {},
   "outputs": [
    {
     "data": {
      "text/html": [
       "<div>\n",
       "<style scoped>\n",
       "    .dataframe tbody tr th:only-of-type {\n",
       "        vertical-align: middle;\n",
       "    }\n",
       "\n",
       "    .dataframe tbody tr th {\n",
       "        vertical-align: top;\n",
       "    }\n",
       "\n",
       "    .dataframe thead th {\n",
       "        text-align: right;\n",
       "    }\n",
       "</style>\n",
       "<table border=\"1\" class=\"dataframe\">\n",
       "  <thead>\n",
       "    <tr style=\"text-align: right;\">\n",
       "      <th></th>\n",
       "      <th>group</th>\n",
       "      <th>LR</th>\n",
       "      <th>Out_Sens</th>\n",
       "      <th>Res_Cons</th>\n",
       "      <th>Loss_Aver</th>\n",
       "      <th>Gain_Impa</th>\n",
       "      <th>Loss_Impa</th>\n",
       "      <th>Deca_Rate</th>\n",
       "      <th>RL_weight</th>\n",
       "    </tr>\n",
       "  </thead>\n",
       "  <tbody>\n",
       "    <tr>\n",
       "      <th>0</th>\n",
       "      <td>young</td>\n",
       "      <td>0.038441</td>\n",
       "      <td>0.630402</td>\n",
       "      <td>1.207295</td>\n",
       "      <td>1.050323</td>\n",
       "      <td>-0.535035</td>\n",
       "      <td>-1.913099</td>\n",
       "      <td>0.669323</td>\n",
       "      <td>0.660446</td>\n",
       "    </tr>\n",
       "    <tr>\n",
       "      <th>1</th>\n",
       "      <td>young</td>\n",
       "      <td>0.045673</td>\n",
       "      <td>0.630331</td>\n",
       "      <td>1.628191</td>\n",
       "      <td>0.205205</td>\n",
       "      <td>-0.133367</td>\n",
       "      <td>-1.423580</td>\n",
       "      <td>0.427207</td>\n",
       "      <td>0.719352</td>\n",
       "    </tr>\n",
       "    <tr>\n",
       "      <th>2</th>\n",
       "      <td>young</td>\n",
       "      <td>0.045468</td>\n",
       "      <td>0.602974</td>\n",
       "      <td>1.395572</td>\n",
       "      <td>0.383055</td>\n",
       "      <td>-0.344822</td>\n",
       "      <td>-1.719826</td>\n",
       "      <td>0.493249</td>\n",
       "      <td>0.688723</td>\n",
       "    </tr>\n",
       "    <tr>\n",
       "      <th>3</th>\n",
       "      <td>young</td>\n",
       "      <td>0.035789</td>\n",
       "      <td>0.635677</td>\n",
       "      <td>1.067831</td>\n",
       "      <td>0.823790</td>\n",
       "      <td>-0.229192</td>\n",
       "      <td>-1.484455</td>\n",
       "      <td>0.625835</td>\n",
       "      <td>0.675971</td>\n",
       "    </tr>\n",
       "    <tr>\n",
       "      <th>4</th>\n",
       "      <td>young</td>\n",
       "      <td>0.060655</td>\n",
       "      <td>0.636276</td>\n",
       "      <td>1.802964</td>\n",
       "      <td>0.329246</td>\n",
       "      <td>-0.616020</td>\n",
       "      <td>-2.561017</td>\n",
       "      <td>0.439912</td>\n",
       "      <td>0.655563</td>\n",
       "    </tr>\n",
       "  </tbody>\n",
       "</table>\n",
       "</div>"
      ],
      "text/plain": [
       "   group        LR  Out_Sens  Res_Cons  Loss_Aver  Gain_Impa  Loss_Impa  \\\n",
       "0  young  0.038441  0.630402  1.207295   1.050323  -0.535035  -1.913099   \n",
       "1  young  0.045673  0.630331  1.628191   0.205205  -0.133367  -1.423580   \n",
       "2  young  0.045468  0.602974  1.395572   0.383055  -0.344822  -1.719826   \n",
       "3  young  0.035789  0.635677  1.067831   0.823790  -0.229192  -1.484455   \n",
       "4  young  0.060655  0.636276  1.802964   0.329246  -0.616020  -2.561017   \n",
       "\n",
       "   Deca_Rate  RL_weight  \n",
       "0   0.669323   0.660446  \n",
       "1   0.427207   0.719352  \n",
       "2   0.493249   0.688723  \n",
       "3   0.625835   0.675971  \n",
       "4   0.439912   0.655563  "
      ]
     },
     "execution_count": 15,
     "metadata": {},
     "output_type": "execute_result"
    }
   ],
   "source": [
    "df_vpp.drop(columns=['SubID'], inplace=True)\n",
    "df_vpp.head()"
   ]
  },
  {
   "cell_type": "markdown",
   "metadata": {},
   "source": [
    "# =============================================================\n",
    "# 2. Scale the Data\n",
    "# ============================================================="
   ]
  },
  {
   "cell_type": "markdown",
   "metadata": {},
   "source": [
    "#### Choose which data source to use"
   ]
  },
  {
   "cell_type": "markdown",
   "metadata": {},
   "source": [
    "In the paper, Lili concludes that the VPP model was the best-fitting model in terms of short-term prediction performance for the IGT task, as measured by one-step-ahead leave-one-out information criterion (LOOIC). Therefore, we will begin by analysing this dataset."
   ]
  },
  {
   "cell_type": "code",
   "execution_count": 16,
   "metadata": {},
   "outputs": [],
   "source": [
    "chosen_df = df_vpp"
   ]
  },
  {
   "cell_type": "markdown",
   "metadata": {},
   "source": [
    "* The *'group'* column will not be used as a feature for the clustering analysis, so we will exclude this from the processing for now."
   ]
  },
  {
   "cell_type": "code",
   "execution_count": 17,
   "metadata": {},
   "outputs": [],
   "source": [
    "train_df = chosen_df.iloc[:, 1:]"
   ]
  },
  {
   "cell_type": "markdown",
   "metadata": {},
   "source": [
    "We can describe the data in this dataframe and look at the ranges of the variables and their distributions"
   ]
  },
  {
   "cell_type": "code",
   "execution_count": 18,
   "metadata": {},
   "outputs": [
    {
     "data": {
      "text/html": [
       "<div>\n",
       "<style scoped>\n",
       "    .dataframe tbody tr th:only-of-type {\n",
       "        vertical-align: middle;\n",
       "    }\n",
       "\n",
       "    .dataframe tbody tr th {\n",
       "        vertical-align: top;\n",
       "    }\n",
       "\n",
       "    .dataframe thead th {\n",
       "        text-align: right;\n",
       "    }\n",
       "</style>\n",
       "<table border=\"1\" class=\"dataframe\">\n",
       "  <thead>\n",
       "    <tr style=\"text-align: right;\">\n",
       "      <th></th>\n",
       "      <th>LR</th>\n",
       "      <th>Out_Sens</th>\n",
       "      <th>Res_Cons</th>\n",
       "      <th>Loss_Aver</th>\n",
       "      <th>Gain_Impa</th>\n",
       "      <th>Loss_Impa</th>\n",
       "      <th>Deca_Rate</th>\n",
       "      <th>RL_weight</th>\n",
       "    </tr>\n",
       "  </thead>\n",
       "  <tbody>\n",
       "    <tr>\n",
       "      <th>count</th>\n",
       "      <td>153.000000</td>\n",
       "      <td>153.000000</td>\n",
       "      <td>153.000000</td>\n",
       "      <td>153.000000</td>\n",
       "      <td>153.000000</td>\n",
       "      <td>153.000000</td>\n",
       "      <td>153.000000</td>\n",
       "      <td>153.000000</td>\n",
       "    </tr>\n",
       "    <tr>\n",
       "      <th>mean</th>\n",
       "      <td>0.070824</td>\n",
       "      <td>0.560575</td>\n",
       "      <td>1.329323</td>\n",
       "      <td>0.952138</td>\n",
       "      <td>0.460940</td>\n",
       "      <td>-0.720379</td>\n",
       "      <td>0.406367</td>\n",
       "      <td>0.622995</td>\n",
       "    </tr>\n",
       "    <tr>\n",
       "      <th>std</th>\n",
       "      <td>0.064683</td>\n",
       "      <td>0.111139</td>\n",
       "      <td>0.198041</td>\n",
       "      <td>0.580621</td>\n",
       "      <td>1.185591</td>\n",
       "      <td>1.102656</td>\n",
       "      <td>0.187483</td>\n",
       "      <td>0.066657</td>\n",
       "    </tr>\n",
       "    <tr>\n",
       "      <th>min</th>\n",
       "      <td>0.027454</td>\n",
       "      <td>0.352471</td>\n",
       "      <td>0.879707</td>\n",
       "      <td>0.193857</td>\n",
       "      <td>-2.977630</td>\n",
       "      <td>-2.912838</td>\n",
       "      <td>0.042780</td>\n",
       "      <td>0.452978</td>\n",
       "    </tr>\n",
       "    <tr>\n",
       "      <th>25%</th>\n",
       "      <td>0.038294</td>\n",
       "      <td>0.448811</td>\n",
       "      <td>1.202790</td>\n",
       "      <td>0.528927</td>\n",
       "      <td>-0.287230</td>\n",
       "      <td>-1.634716</td>\n",
       "      <td>0.256420</td>\n",
       "      <td>0.569390</td>\n",
       "    </tr>\n",
       "    <tr>\n",
       "      <th>50%</th>\n",
       "      <td>0.050247</td>\n",
       "      <td>0.590334</td>\n",
       "      <td>1.316736</td>\n",
       "      <td>0.760613</td>\n",
       "      <td>0.593115</td>\n",
       "      <td>-0.779120</td>\n",
       "      <td>0.439912</td>\n",
       "      <td>0.640917</td>\n",
       "    </tr>\n",
       "    <tr>\n",
       "      <th>75%</th>\n",
       "      <td>0.078495</td>\n",
       "      <td>0.646090</td>\n",
       "      <td>1.428836</td>\n",
       "      <td>1.292569</td>\n",
       "      <td>1.419412</td>\n",
       "      <td>0.137599</td>\n",
       "      <td>0.565139</td>\n",
       "      <td>0.675971</td>\n",
       "    </tr>\n",
       "    <tr>\n",
       "      <th>max</th>\n",
       "      <td>0.617431</td>\n",
       "      <td>0.818137</td>\n",
       "      <td>1.938694</td>\n",
       "      <td>2.698527</td>\n",
       "      <td>2.559126</td>\n",
       "      <td>1.583109</td>\n",
       "      <td>0.858421</td>\n",
       "      <td>0.744017</td>\n",
       "    </tr>\n",
       "  </tbody>\n",
       "</table>\n",
       "</div>"
      ],
      "text/plain": [
       "               LR    Out_Sens    Res_Cons   Loss_Aver   Gain_Impa   Loss_Impa  \\\n",
       "count  153.000000  153.000000  153.000000  153.000000  153.000000  153.000000   \n",
       "mean     0.070824    0.560575    1.329323    0.952138    0.460940   -0.720379   \n",
       "std      0.064683    0.111139    0.198041    0.580621    1.185591    1.102656   \n",
       "min      0.027454    0.352471    0.879707    0.193857   -2.977630   -2.912838   \n",
       "25%      0.038294    0.448811    1.202790    0.528927   -0.287230   -1.634716   \n",
       "50%      0.050247    0.590334    1.316736    0.760613    0.593115   -0.779120   \n",
       "75%      0.078495    0.646090    1.428836    1.292569    1.419412    0.137599   \n",
       "max      0.617431    0.818137    1.938694    2.698527    2.559126    1.583109   \n",
       "\n",
       "        Deca_Rate   RL_weight  \n",
       "count  153.000000  153.000000  \n",
       "mean     0.406367    0.622995  \n",
       "std      0.187483    0.066657  \n",
       "min      0.042780    0.452978  \n",
       "25%      0.256420    0.569390  \n",
       "50%      0.439912    0.640917  \n",
       "75%      0.565139    0.675971  \n",
       "max      0.858421    0.744017  "
      ]
     },
     "execution_count": 18,
     "metadata": {},
     "output_type": "execute_result"
    }
   ],
   "source": [
    "train_df.describe()"
   ]
  },
  {
   "cell_type": "code",
   "execution_count": 19,
   "metadata": {},
   "outputs": [
    {
     "data": {
      "text/plain": [
       "<seaborn.axisgrid.PairGrid at 0x17a39a9bb80>"
      ]
     },
     "execution_count": 19,
     "metadata": {},
     "output_type": "execute_result"
    },
    {
     "data": {
      "image/png": "[encoded data removed]",
      "text/plain": [
       "<Figure size 1440x1440 with 72 Axes>"
      ]
     },
     "metadata": {
      "needs_background": "light"
     },
     "output_type": "display_data"
    }
   ],
   "source": [
    "#Visualising the distributions of the different variables\n",
    "sns.pairplot(train_df)"
   ]
  },
  {
   "cell_type": "markdown",
   "metadata": {},
   "source": [
    "From the pair plot above, we can clearly see that many of the variables have either positively or negatively skewed distributions. There also appears to be many outliers in each distribution and the different parameters don't share a common scale."
   ]
  },
  {
   "cell_type": "markdown",
   "metadata": {},
   "source": [
    "To remedy this and also to ensure sound clustering analysis, we need to **scale** the dataset."
   ]
  },
  {
   "cell_type": "markdown",
   "metadata": {},
   "source": [
    "#### Scaling the features"
   ]
  },
  {
   "cell_type": "code",
   "execution_count": 20,
   "metadata": {},
   "outputs": [],
   "source": [
    "# Standardising the data\n",
    "standardised_train_array = StandardScaler().fit_transform(train_df)\n",
    "\n",
    "# Normalizing the data - NEEDS CHANGING\n",
    "normalised_nd_standardised_train_array = normalize(standardised_train_array, axis=0)\n",
    "#normalised_nd_standardised_train_array = MinMaxScaler(standardised_train_array)\n",
    "\n",
    "# Converting the scaled array back to a DataFrame\n",
    "scaled_train_df = pd.DataFrame(normalised_nd_standardised_train_array, columns=train_df.columns)"
   ]
  },
  {
   "cell_type": "code",
   "execution_count": 21,
   "metadata": {},
   "outputs": [
    {
     "data": {
      "text/html": [
       "<div>\n",
       "<style scoped>\n",
       "    .dataframe tbody tr th:only-of-type {\n",
       "        vertical-align: middle;\n",
       "    }\n",
       "\n",
       "    .dataframe tbody tr th {\n",
       "        vertical-align: top;\n",
       "    }\n",
       "\n",
       "    .dataframe thead th {\n",
       "        text-align: right;\n",
       "    }\n",
       "</style>\n",
       "<table border=\"1\" class=\"dataframe\">\n",
       "  <thead>\n",
       "    <tr style=\"text-align: right;\">\n",
       "      <th></th>\n",
       "      <th>LR</th>\n",
       "      <th>Out_Sens</th>\n",
       "      <th>Res_Cons</th>\n",
       "      <th>Loss_Aver</th>\n",
       "      <th>Gain_Impa</th>\n",
       "      <th>Loss_Impa</th>\n",
       "      <th>Deca_Rate</th>\n",
       "      <th>RL_weight</th>\n",
       "    </tr>\n",
       "  </thead>\n",
       "  <tbody>\n",
       "    <tr>\n",
       "      <th>count</th>\n",
       "      <td>1.530000e+02</td>\n",
       "      <td>1.530000e+02</td>\n",
       "      <td>1.530000e+02</td>\n",
       "      <td>1.530000e+02</td>\n",
       "      <td>153.000000</td>\n",
       "      <td>1.530000e+02</td>\n",
       "      <td>1.530000e+02</td>\n",
       "      <td>1.530000e+02</td>\n",
       "    </tr>\n",
       "    <tr>\n",
       "      <th>mean</th>\n",
       "      <td>-2.902544e-18</td>\n",
       "      <td>1.161018e-17</td>\n",
       "      <td>2.031781e-17</td>\n",
       "      <td>1.451272e-18</td>\n",
       "      <td>0.000000</td>\n",
       "      <td>2.902544e-18</td>\n",
       "      <td>-1.161018e-17</td>\n",
       "      <td>-2.612289e-17</td>\n",
       "    </tr>\n",
       "    <tr>\n",
       "      <th>std</th>\n",
       "      <td>8.111071e-02</td>\n",
       "      <td>8.111071e-02</td>\n",
       "      <td>8.111071e-02</td>\n",
       "      <td>8.111071e-02</td>\n",
       "      <td>0.081111</td>\n",
       "      <td>8.111071e-02</td>\n",
       "      <td>8.111071e-02</td>\n",
       "      <td>8.111071e-02</td>\n",
       "    </tr>\n",
       "    <tr>\n",
       "      <th>min</th>\n",
       "      <td>-5.438584e-02</td>\n",
       "      <td>-1.518770e-01</td>\n",
       "      <td>-1.841472e-01</td>\n",
       "      <td>-1.059293e-01</td>\n",
       "      <td>-0.235245</td>\n",
       "      <td>-1.612760e-01</td>\n",
       "      <td>-1.572984e-01</td>\n",
       "      <td>-2.068814e-01</td>\n",
       "    </tr>\n",
       "    <tr>\n",
       "      <th>25%</th>\n",
       "      <td>-4.079214e-02</td>\n",
       "      <td>-8.156703e-02</td>\n",
       "      <td>-5.182350e-02</td>\n",
       "      <td>-5.912117e-02</td>\n",
       "      <td>-0.051185</td>\n",
       "      <td>-6.725810e-02</td>\n",
       "      <td>-6.487139e-02</td>\n",
       "      <td>-6.522806e-02</td>\n",
       "    </tr>\n",
       "    <tr>\n",
       "      <th>50%</th>\n",
       "      <td>-2.580297e-02</td>\n",
       "      <td>2.171851e-02</td>\n",
       "      <td>-5.155164e-03</td>\n",
       "      <td>-2.675543e-02</td>\n",
       "      <td>0.009043</td>\n",
       "      <td>-4.320979e-03</td>\n",
       "      <td>1.451265e-02</td>\n",
       "      <td>2.180811e-02</td>\n",
       "    </tr>\n",
       "    <tr>\n",
       "      <th>75%</th>\n",
       "      <td>9.618559e-03</td>\n",
       "      <td>6.240928e-02</td>\n",
       "      <td>4.075695e-02</td>\n",
       "      <td>4.755704e-02</td>\n",
       "      <td>0.065573</td>\n",
       "      <td>6.311234e-02</td>\n",
       "      <td>6.868974e-02</td>\n",
       "      <td>6.446273e-02</td>\n",
       "    </tr>\n",
       "    <tr>\n",
       "      <th>max</th>\n",
       "      <td>6.854293e-01</td>\n",
       "      <td>1.879718e-01</td>\n",
       "      <td>2.495777e-01</td>\n",
       "      <td>2.439647e-01</td>\n",
       "      <td>0.143545</td>\n",
       "      <td>1.694432e-01</td>\n",
       "      <td>1.955719e-01</td>\n",
       "      <td>1.472632e-01</td>\n",
       "    </tr>\n",
       "  </tbody>\n",
       "</table>\n",
       "</div>"
      ],
      "text/plain": [
       "                 LR      Out_Sens      Res_Cons     Loss_Aver   Gain_Impa  \\\n",
       "count  1.530000e+02  1.530000e+02  1.530000e+02  1.530000e+02  153.000000   \n",
       "mean  -2.902544e-18  1.161018e-17  2.031781e-17  1.451272e-18    0.000000   \n",
       "std    8.111071e-02  8.111071e-02  8.111071e-02  8.111071e-02    0.081111   \n",
       "min   -5.438584e-02 -1.518770e-01 -1.841472e-01 -1.059293e-01   -0.235245   \n",
       "25%   -4.079214e-02 -8.156703e-02 -5.182350e-02 -5.912117e-02   -0.051185   \n",
       "50%   -2.580297e-02  2.171851e-02 -5.155164e-03 -2.675543e-02    0.009043   \n",
       "75%    9.618559e-03  6.240928e-02  4.075695e-02  4.755704e-02    0.065573   \n",
       "max    6.854293e-01  1.879718e-01  2.495777e-01  2.439647e-01    0.143545   \n",
       "\n",
       "          Loss_Impa     Deca_Rate     RL_weight  \n",
       "count  1.530000e+02  1.530000e+02  1.530000e+02  \n",
       "mean   2.902544e-18 -1.161018e-17 -2.612289e-17  \n",
       "std    8.111071e-02  8.111071e-02  8.111071e-02  \n",
       "min   -1.612760e-01 -1.572984e-01 -2.068814e-01  \n",
       "25%   -6.725810e-02 -6.487139e-02 -6.522806e-02  \n",
       "50%   -4.320979e-03  1.451265e-02  2.180811e-02  \n",
       "75%    6.311234e-02  6.868974e-02  6.446273e-02  \n",
       "max    1.694432e-01  1.955719e-01  1.472632e-01  "
      ]
     },
     "execution_count": 21,
     "metadata": {},
     "output_type": "execute_result"
    }
   ],
   "source": [
    "scaled_train_df.describe()"
   ]
  },
  {
   "cell_type": "markdown",
   "metadata": {},
   "source": [
    "#### Add the group feature back in"
   ]
  },
  {
   "cell_type": "markdown",
   "metadata": {},
   "source": [
    "Since the data is now fully processed and ready for clustering, we can add the *'group'* column back in as it will be needed later on."
   ]
  },
  {
   "cell_type": "code",
   "execution_count": 22,
   "metadata": {},
   "outputs": [],
   "source": [
    "scaled_full_df = pd.concat([chosen_df.iloc[:, 0], scaled_train_df], axis=1)"
   ]
  },
  {
   "cell_type": "code",
   "execution_count": 23,
   "metadata": {},
   "outputs": [
    {
     "data": {
      "text/html": [
       "<div>\n",
       "<style scoped>\n",
       "    .dataframe tbody tr th:only-of-type {\n",
       "        vertical-align: middle;\n",
       "    }\n",
       "\n",
       "    .dataframe tbody tr th {\n",
       "        vertical-align: top;\n",
       "    }\n",
       "\n",
       "    .dataframe thead th {\n",
       "        text-align: right;\n",
       "    }\n",
       "</style>\n",
       "<table border=\"1\" class=\"dataframe\">\n",
       "  <thead>\n",
       "    <tr style=\"text-align: right;\">\n",
       "      <th></th>\n",
       "      <th>group</th>\n",
       "      <th>LR</th>\n",
       "      <th>Out_Sens</th>\n",
       "      <th>Res_Cons</th>\n",
       "      <th>Loss_Aver</th>\n",
       "      <th>Gain_Impa</th>\n",
       "      <th>Loss_Impa</th>\n",
       "      <th>Deca_Rate</th>\n",
       "      <th>RL_weight</th>\n",
       "    </tr>\n",
       "  </thead>\n",
       "  <tbody>\n",
       "    <tr>\n",
       "      <th>0</th>\n",
       "      <td>young</td>\n",
       "      <td>-0.040608</td>\n",
       "      <td>0.050960</td>\n",
       "      <td>-0.049978</td>\n",
       "      <td>0.013716</td>\n",
       "      <td>-0.068138</td>\n",
       "      <td>-0.087736</td>\n",
       "      <td>0.113763</td>\n",
       "      <td>0.045572</td>\n",
       "    </tr>\n",
       "    <tr>\n",
       "      <th>1</th>\n",
       "      <td>young</td>\n",
       "      <td>-0.031540</td>\n",
       "      <td>0.050908</td>\n",
       "      <td>0.122406</td>\n",
       "      <td>-0.104344</td>\n",
       "      <td>-0.040659</td>\n",
       "      <td>-0.051727</td>\n",
       "      <td>0.009016</td>\n",
       "      <td>0.117250</td>\n",
       "    </tr>\n",
       "    <tr>\n",
       "      <th>2</th>\n",
       "      <td>young</td>\n",
       "      <td>-0.031797</td>\n",
       "      <td>0.030943</td>\n",
       "      <td>0.027133</td>\n",
       "      <td>-0.079499</td>\n",
       "      <td>-0.055125</td>\n",
       "      <td>-0.073519</td>\n",
       "      <td>0.037588</td>\n",
       "      <td>0.079980</td>\n",
       "    </tr>\n",
       "    <tr>\n",
       "      <th>3</th>\n",
       "      <td>young</td>\n",
       "      <td>-0.043933</td>\n",
       "      <td>0.054810</td>\n",
       "      <td>-0.107098</td>\n",
       "      <td>-0.017930</td>\n",
       "      <td>-0.047214</td>\n",
       "      <td>-0.056205</td>\n",
       "      <td>0.094949</td>\n",
       "      <td>0.064463</td>\n",
       "    </tr>\n",
       "    <tr>\n",
       "      <th>4</th>\n",
       "      <td>young</td>\n",
       "      <td>-0.012752</td>\n",
       "      <td>0.055247</td>\n",
       "      <td>0.193987</td>\n",
       "      <td>-0.087016</td>\n",
       "      <td>-0.073679</td>\n",
       "      <td>-0.135396</td>\n",
       "      <td>0.014513</td>\n",
       "      <td>0.039631</td>\n",
       "    </tr>\n",
       "  </tbody>\n",
       "</table>\n",
       "</div>"
      ],
      "text/plain": [
       "   group        LR  Out_Sens  Res_Cons  Loss_Aver  Gain_Impa  Loss_Impa  \\\n",
       "0  young -0.040608  0.050960 -0.049978   0.013716  -0.068138  -0.087736   \n",
       "1  young -0.031540  0.050908  0.122406  -0.104344  -0.040659  -0.051727   \n",
       "2  young -0.031797  0.030943  0.027133  -0.079499  -0.055125  -0.073519   \n",
       "3  young -0.043933  0.054810 -0.107098  -0.017930  -0.047214  -0.056205   \n",
       "4  young -0.012752  0.055247  0.193987  -0.087016  -0.073679  -0.135396   \n",
       "\n",
       "   Deca_Rate  RL_weight  \n",
       "0   0.113763   0.045572  \n",
       "1   0.009016   0.117250  \n",
       "2   0.037588   0.079980  \n",
       "3   0.094949   0.064463  \n",
       "4   0.014513   0.039631  "
      ]
     },
     "execution_count": 23,
     "metadata": {},
     "output_type": "execute_result"
    }
   ],
   "source": [
    "scaled_full_df.head()"
   ]
  },
  {
   "cell_type": "markdown",
   "metadata": {},
   "source": [
    "# =============================================================\n",
    "# 3. Consideration of Clustering Algorithms & Number of clusters\n",
    "# ============================================================="
   ]
  },
  {
   "cell_type": "markdown",
   "metadata": {},
   "source": [
    "There are a number of clustering algorithms which we could implement. Below, we try the *KMeans* and *Spectral Clustering* algorithms and analyse how these perform on the data in question. \n",
    "\n",
    "To determine which algorithm is more appropriate to the dataset, we will measure their performance using the *Silhouette Coefficient*. The Silhouette Coefficient of a data point quantifies how similar a data point is to its own cluster compared to other clusters. We will use the mean Silhouette Coefficient across all data points to compare the performace of algorithms.\n",
    "\n",
    "The **Silhouette Coefficient** for a particular data point is calculated by the below formula:\n",
    "\n",
    "$$s = \\frac{b - a}{max(a, b)}$$\n",
    "\n",
    "Where:\n",
    "\n",
    " - **a** is the mean distance between a data point and all other points in the same cluster. (the mean intra-cluster distance)\n",
    " - **b** is the mean distance between a data point and all other points in the *next nearest cluster*. (the mean nearest-cluster distance)\n",
    "\n",
    "The Silhouette score can assume values between -1 and 1. Scores closer to -1 indicate incorrect clustering whereas those nearer to +1 indicate highly dense clustering. Scores around zero are indicative of overlapping clusters. Therefore, a good indicator of what clustering algorithm to choose would be the one whose mean Silhouette Coefficient is nearest to 1.\n",
    "\n",
    "\n",
    "Peter J. Rousseeuw (1987). “Silhouettes: a Graphical Aid to the Interpretation and Validation of Cluster Analysis”. Computational and Applied Mathematics 20: 53–65. doi:10.1016/0377-0427(87)90125-7."
   ]
  },
  {
   "cell_type": "markdown",
   "metadata": {},
   "source": [
    "#### Choose the number of clusters to test these algorithms on"
   ]
  },
  {
   "cell_type": "code",
   "execution_count": 24,
   "metadata": {},
   "outputs": [],
   "source": [
    "num_clusters_to_iter = range(2, 11)"
   ]
  },
  {
   "cell_type": "markdown",
   "metadata": {},
   "source": []
  },
  {
   "cell_type": "code",
   "execution_count": null,
   "metadata": {},
   "outputs": [],
   "source": [
    "def get_silhouette_scores(scaled_train_df, model_function, num_clusters_to_itr):\n",
    "    \n",
    "    # Initialise empty list for the Silhouette Scores for KMeans model\n",
    "    s_scores = []\n",
    "\n",
    "    # Running algorithm and calculating Silhouette Score\n",
    "    for k in num_clusters_to_iter:\n",
    "\n",
    "        # Building the clustering model \n",
    "        model = model_function(n_clusters = k, random_state = 0)\n",
    "        \n",
    "        # Training the model and storing the predicted cluster labels\n",
    "        labels = model.fit_predict(scaled_train_df)\n",
    "\n",
    "        # Evaluating the performance and adding score to list\n",
    "        s_scores.append(silhouette_score(scaled_train_df, labels))\n",
    "\n",
    "    return s_scores"
   ]
  },
  {
   "cell_type": "markdown",
   "metadata": {},
   "source": [
    "## Silhouette Scores for the KMeans Algorithm"
   ]
  },
  {
   "cell_type": "markdown",
   "metadata": {},
   "source": [
    "Below the KMeans algorithm is executed with various different numbers of clusters (from 2 clusters to 10). The mean Silhouette Coefficient (or more simply, the *Silhouette Score*) for the clusters produced is calculated for each execution of the algorithm. These scores are plotted below."
   ]
  },
  {
   "cell_type": "markdown",
   "metadata": {},
   "source": [
    "#### Use K-Means to calculate the Silhouette Score for 2-10 clusters"
   ]
  },
  {
   "cell_type": "code",
   "execution_count": 49,
   "metadata": {},
   "outputs": [],
   "source": [
    "# Initialise empty list for the Silhouette Scores for KMeans model\n",
    "s_scores_km = []\n",
    "\n",
    "# Running algorithm and calculating Silhouette Score\n",
    "for k in num_clusters_to_iter:\n",
    "    \n",
    "    # Building the clustering model \n",
    "    km_model = KMeans(n_clusters = k, random_state = 0)\n",
    "\n",
    "    # Training the model and storing the predicted cluster labels\n",
    "    km_labels = km_model.fit_predict(scaled_train_df)\n",
    "    \n",
    "    # Evaluating the performance and adding score to list\n",
    "    s_scores_km.append(silhouette_score(scaled_train_df, km_labels))"
   ]
  },
  {
   "cell_type": "markdown",
   "metadata": {},
   "source": [
    "#### Analyse these scores and output & plot the score"
   ]
  },
  {
   "cell_type": "code",
   "execution_count": 50,
   "metadata": {},
   "outputs": [
    {
     "name": "stdout",
     "output_type": "stream",
     "text": [
      "The maximum Silhouette Score was 0.2951295885819213\n",
      "This score is achieved by running 2 clusters\n"
     ]
    },
    {
     "data": {
      "image/png": "[encoded data removed]",
      "text/plain": [
       "<Figure size 432x288 with 1 Axes>"
      ]
     },
     "metadata": {
      "needs_background": "light"
     },
     "output_type": "display_data"
    },
    {
     "data": {
      "text/html": [
       "<div>\n",
       "<style scoped>\n",
       "    .dataframe tbody tr th:only-of-type {\n",
       "        vertical-align: middle;\n",
       "    }\n",
       "\n",
       "    .dataframe tbody tr th {\n",
       "        vertical-align: top;\n",
       "    }\n",
       "\n",
       "    .dataframe thead th {\n",
       "        text-align: right;\n",
       "    }\n",
       "</style>\n",
       "<table border=\"1\" class=\"dataframe\">\n",
       "  <thead>\n",
       "    <tr style=\"text-align: right;\">\n",
       "      <th># Clusters</th>\n",
       "      <th>2</th>\n",
       "      <th>3</th>\n",
       "      <th>4</th>\n",
       "      <th>5</th>\n",
       "      <th>6</th>\n",
       "      <th>7</th>\n",
       "      <th>8</th>\n",
       "      <th>9</th>\n",
       "      <th>10</th>\n",
       "    </tr>\n",
       "  </thead>\n",
       "  <tbody>\n",
       "    <tr>\n",
       "      <th>Silhouette Score</th>\n",
       "      <td>0.29513</td>\n",
       "      <td>0.275548</td>\n",
       "      <td>0.251219</td>\n",
       "      <td>0.2563</td>\n",
       "      <td>0.261833</td>\n",
       "      <td>0.255223</td>\n",
       "      <td>0.244964</td>\n",
       "      <td>0.240095</td>\n",
       "      <td>0.230552</td>\n",
       "    </tr>\n",
       "  </tbody>\n",
       "</table>\n",
       "</div>"
      ],
      "text/plain": [
       "# Clusters             2         3         4       5         6         7   \\\n",
       "Silhouette Score  0.29513  0.275548  0.251219  0.2563  0.261833  0.255223   \n",
       "\n",
       "# Clusters              8         9         10  \n",
       "Silhouette Score  0.244964  0.240095  0.230552  "
      ]
     },
     "execution_count": 50,
     "metadata": {},
     "output_type": "execute_result"
    }
   ],
   "source": [
    "# Analyse these results to see the optimal cluster number\n",
    "max_silhouette_score_km = max(s_scores_km)\n",
    "index_max_score_km = s_scores_km.index(max_silhouette_score_km)\n",
    "\n",
    "print(\"The maximum Silhouette Score was\", max_silhouette_score_km)\n",
    "print(\"This score is achieved by running\", num_clusters_to_iter[index_max_score_km], \"clusters\")\n",
    "\n",
    "# plot the silhoutte scores against the cluster numbers\n",
    "plt.plot(num_clusters_to_iter, s_scores_km, 'bx-')\n",
    "plt.xlabel('# Clusters')\n",
    "plt.ylabel('Silhouette Score')\n",
    "plt.title('Silhouette Scores for the KMeans Model accross Different Numbers of Clusters')\n",
    "plt.show()\n",
    "\n",
    "# Output a table of the score for each cluster\n",
    "cluster_nd_score_km_df = pd.DataFrame(s_scores_km, index=num_clusters_to_iter).rename(columns={0: \"Silhouette Score\"})\n",
    "cluster_nd_score_km_df.index.name = \"# Clusters\"\n",
    "cluster_nd_score_km_df.T"
   ]
  },
  {
   "cell_type": "markdown",
   "metadata": {},
   "source": [
    "## Silhouette Scores for Spectral Clustering Algorithm"
   ]
  },
  {
   "cell_type": "markdown",
   "metadata": {},
   "source": [
    "In order to explore more options for clustering, we are going to test the performance of two different implementations of the Spectral Clustering algorithm. One implementation constructs the *affinity matrix* using a radial basis function (RBF) kernel (aka Gaussian kernel) while the other constructs this matrix by computing a graph of nearest neighbors."
   ]
  },
  {
   "cell_type": "markdown",
   "metadata": {},
   "source": [
    "### Spectral Clustering with *affinity='rbf'*"
   ]
  },
  {
   "cell_type": "markdown",
   "metadata": {},
   "source": [
    "#### Use Spectral Clustering to calculate the Silhouette Score for 2-10 clusters"
   ]
  },
  {
   "cell_type": "code",
   "execution_count": 51,
   "metadata": {},
   "outputs": [],
   "source": [
    "# Initialise empty list for the Silhouette Scores for Spectral 'rbf' model\n",
    "s_scores_rbf = []\n",
    "\n",
    "# Running algorithm and calculating Silhouette Score\n",
    "for k in num_clusters_to_iter:\n",
    "    \n",
    "    # Building the clustering model \n",
    "    spectral_model_rbf = SpectralClustering(n_clusters = k, affinity ='rbf', random_state=0)\n",
    "\n",
    "    # Training the model and storing the predicted cluster labels\n",
    "    labels_rbf = spectral_model_rbf.fit_predict(scaled_train_df)\n",
    "    \n",
    "    # Adding Silhouette Score to list\n",
    "    s_scores_rbf.append(silhouette_score(scaled_train_df, labels_rbf))"
   ]
  },
  {
   "cell_type": "markdown",
   "metadata": {},
   "source": [
    "#### Analyse these scores and output & plot the score"
   ]
  },
  {
   "cell_type": "code",
   "execution_count": 52,
   "metadata": {},
   "outputs": [
    {
     "name": "stdout",
     "output_type": "stream",
     "text": [
      "The maximum Silhouette Score was 0.2951295885819213\n",
      "This score is achieved by running 2 clusters\n"
     ]
    },
    {
     "data": {
      "image/png": "[encoded data removed]",
      "text/plain": [
       "<Figure size 432x288 with 1 Axes>"
      ]
     },
     "metadata": {
      "needs_background": "light"
     },
     "output_type": "display_data"
    },
    {
     "data": {
      "text/html": [
       "<div>\n",
       "<style scoped>\n",
       "    .dataframe tbody tr th:only-of-type {\n",
       "        vertical-align: middle;\n",
       "    }\n",
       "\n",
       "    .dataframe tbody tr th {\n",
       "        vertical-align: top;\n",
       "    }\n",
       "\n",
       "    .dataframe thead th {\n",
       "        text-align: right;\n",
       "    }\n",
       "</style>\n",
       "<table border=\"1\" class=\"dataframe\">\n",
       "  <thead>\n",
       "    <tr style=\"text-align: right;\">\n",
       "      <th># Clusters</th>\n",
       "      <th>2</th>\n",
       "      <th>3</th>\n",
       "      <th>4</th>\n",
       "      <th>5</th>\n",
       "      <th>6</th>\n",
       "      <th>7</th>\n",
       "      <th>8</th>\n",
       "      <th>9</th>\n",
       "      <th>10</th>\n",
       "    </tr>\n",
       "  </thead>\n",
       "  <tbody>\n",
       "    <tr>\n",
       "      <th>Silhouette Score</th>\n",
       "      <td>0.29513</td>\n",
       "      <td>0.252844</td>\n",
       "      <td>0.25059</td>\n",
       "      <td>0.269575</td>\n",
       "      <td>0.229649</td>\n",
       "      <td>0.206779</td>\n",
       "      <td>0.113822</td>\n",
       "      <td>0.139949</td>\n",
       "      <td>0.202321</td>\n",
       "    </tr>\n",
       "  </tbody>\n",
       "</table>\n",
       "</div>"
      ],
      "text/plain": [
       "# Clusters             2         3        4         5         6         7   \\\n",
       "Silhouette Score  0.29513  0.252844  0.25059  0.269575  0.229649  0.206779   \n",
       "\n",
       "# Clusters              8         9         10  \n",
       "Silhouette Score  0.113822  0.139949  0.202321  "
      ]
     },
     "execution_count": 52,
     "metadata": {},
     "output_type": "execute_result"
    }
   ],
   "source": [
    "# Analyse these results to see the optimal cluster number\n",
    "max_silhouette_score_rbf = max(s_scores_rbf)\n",
    "index_max_score_rbf = s_scores_rbf.index(max_silhouette_score_rbf)\n",
    "\n",
    "print(\"The maximum Silhouette Score was\", max_silhouette_score_rbf)\n",
    "print(\"This score is achieved by running\", num_clusters_to_iter[index_max_score_rbf], \"clusters\")\n",
    "\n",
    "# plot the silhoutte scores against the cluster numbers\n",
    "plt.plot(num_clusters_to_iter, s_scores_rbf, 'bx-')\n",
    "plt.xlabel('# Clusters')\n",
    "plt.ylabel('Silhouette Score')\n",
    "plt.title('Silhouette Scores for Different Numbers of Clusters for Spectral \\'rbf\\' Model')\n",
    "plt.show()\n",
    "\n",
    "# Output a table of the score for each cluster\n",
    "cluster_nd_score_rbf_df = pd.DataFrame(s_scores_rbf, index=num_clusters_to_iter).rename(columns={0: \"Silhouette Score\"})\n",
    "cluster_nd_score_rbf_df.index.name = \"# Clusters\"\n",
    "cluster_nd_score_rbf_df.T"
   ]
  },
  {
   "cell_type": "markdown",
   "metadata": {},
   "source": [
    "### Spectral Clustering with *affinity='nearest_neighbors'*"
   ]
  },
  {
   "cell_type": "markdown",
   "metadata": {},
   "source": [
    "#### Use Spectral Clustering to calculate the Silhouette Score for 2-10 clusters"
   ]
  },
  {
   "cell_type": "code",
   "execution_count": 54,
   "metadata": {},
   "outputs": [],
   "source": [
    "# Initialise empty list for the Silhouette Scores for Spectral 'nearest_neighbors' model\n",
    "s_scores_nn = []\n",
    "\n",
    "# Running algo and storing Silhouette Score for each no. of clusters\n",
    "for k in num_clusters_to_iter:\n",
    "    \n",
    "    # Building the clustering model\n",
    "    spectral_model_nn = SpectralClustering(n_clusters = k, affinity ='nearest_neighbors', random_state = 0)\n",
    "\n",
    "    # Training the model and storing the predicted cluster labels\n",
    "    labels_nn = spectral_model_nn.fit_predict(scaled_train_df)\n",
    "    \n",
    "    # Evaluating the performance \n",
    "    s_scores_nn.append(silhouette_score(scaled_train_df, labels_nn))"
   ]
  },
  {
   "cell_type": "markdown",
   "metadata": {},
   "source": [
    "#### Analyse these scores and output & plot the score"
   ]
  },
  {
   "cell_type": "code",
   "execution_count": 55,
   "metadata": {},
   "outputs": [
    {
     "name": "stdout",
     "output_type": "stream",
     "text": [
      "The maximum Silhouette Score was 0.2951295885819213\n",
      "This score is achieved by running 2 clusters\n"
     ]
    },
    {
     "data": {
      "image/png": "[encoded data removed]",
      "text/plain": [
       "<Figure size 432x288 with 1 Axes>"
      ]
     },
     "metadata": {
      "needs_background": "light"
     },
     "output_type": "display_data"
    },
    {
     "data": {
      "text/html": [
       "<div>\n",
       "<style scoped>\n",
       "    .dataframe tbody tr th:only-of-type {\n",
       "        vertical-align: middle;\n",
       "    }\n",
       "\n",
       "    .dataframe tbody tr th {\n",
       "        vertical-align: top;\n",
       "    }\n",
       "\n",
       "    .dataframe thead th {\n",
       "        text-align: right;\n",
       "    }\n",
       "</style>\n",
       "<table border=\"1\" class=\"dataframe\">\n",
       "  <thead>\n",
       "    <tr style=\"text-align: right;\">\n",
       "      <th># Clusters</th>\n",
       "      <th>2</th>\n",
       "      <th>3</th>\n",
       "      <th>4</th>\n",
       "      <th>5</th>\n",
       "      <th>6</th>\n",
       "      <th>7</th>\n",
       "      <th>8</th>\n",
       "      <th>9</th>\n",
       "      <th>10</th>\n",
       "    </tr>\n",
       "  </thead>\n",
       "  <tbody>\n",
       "    <tr>\n",
       "      <th>Silhouette Score</th>\n",
       "      <td>0.29513</td>\n",
       "      <td>0.255765</td>\n",
       "      <td>0.243764</td>\n",
       "      <td>0.246033</td>\n",
       "      <td>0.234108</td>\n",
       "      <td>0.237116</td>\n",
       "      <td>0.21703</td>\n",
       "      <td>0.203375</td>\n",
       "      <td>0.191292</td>\n",
       "    </tr>\n",
       "  </tbody>\n",
       "</table>\n",
       "</div>"
      ],
      "text/plain": [
       "# Clusters             2         3         4         5         6         7   \\\n",
       "Silhouette Score  0.29513  0.255765  0.243764  0.246033  0.234108  0.237116   \n",
       "\n",
       "# Clusters             8         9         10  \n",
       "Silhouette Score  0.21703  0.203375  0.191292  "
      ]
     },
     "execution_count": 55,
     "metadata": {},
     "output_type": "execute_result"
    }
   ],
   "source": [
    "# Analyse these results to see the optimal cluster number\n",
    "max_silhouette_score_nn = max(s_scores_nn)\n",
    "index_max_score_nn = s_scores_nn.index(max_silhouette_score_nn)\n",
    "\n",
    "print(\"The maximum Silhouette Score was\", max_silhouette_score_nn)\n",
    "print(\"This score is achieved by running\", num_clusters_to_iter[index_max_score_nn], \"clusters\")\n",
    "\n",
    "# plot the silhoutte scores against the cluster numbers\n",
    "plt.plot(num_clusters_to_iter, s_scores_nn, 'bx-')\n",
    "plt.xlabel('# Clusters')\n",
    "plt.ylabel('Silhouette Score')\n",
    "plt.title('Silhouette Scores for Different Numbers of Clusters for Spectral \\'nn\\' Model')\n",
    "plt.show()\n",
    "\n",
    "# Output a table of the score for each cluster\n",
    "cluster_nd_score_nn_df = pd.DataFrame(s_scores_nn, index=num_clusters_to_iter).rename(columns={0: \"Silhouette Score\"})\n",
    "cluster_nd_score_nn_df.index.name = \"# Clusters\"\n",
    "cluster_nd_score_nn_df.T"
   ]
  },
  {
   "cell_type": "markdown",
   "metadata": {},
   "source": [
    "As we can see from the above results, running these clustering algorithms on this data using **two clusters** produces the best Silhouette Scores for all three algorithms.\n",
    "\n",
    "One reason we can see why this might be the case is that the sample of data subjects can be segmented into two groups as we saw at the start; *'young'* and *'old'* and these two clusters could just be encapsulating these two groups.\n",
    "To test this, we will attempt to visualise these clusters."
   ]
  },
  {
   "cell_type": "markdown",
   "metadata": {},
   "source": [
    "From the above ouputs, we can determine that Kmeans and Spectral Clustering using the nearest_neighbour affinity get the same sillhouette score for two clusters, while Spectral clustering using the rbf affinity lags a little bit behind on its sillhouette score for two clusters.\n",
    "\n",
    "As a result, we will test our hypothesis using the Spectral Clustering algorithm to create two clusters, with 'nearest neighbour' being used to construct the affinity matrix."
   ]
  },
  {
   "cell_type": "markdown",
   "metadata": {},
   "source": [
    "#### Choose Number of Clusters to use"
   ]
  },
  {
   "cell_type": "code",
   "execution_count": 56,
   "metadata": {},
   "outputs": [],
   "source": [
    "num_clusters = 2"
   ]
  },
  {
   "cell_type": "markdown",
   "metadata": {},
   "source": [
    "# =============================================================\n",
    "# 4. Cluster the data\n",
    "# ============================================================="
   ]
  },
  {
   "cell_type": "markdown",
   "metadata": {},
   "source": [
    "#### Build the 'rbf' spectral clustering model with these 2 clusters"
   ]
  },
  {
   "cell_type": "code",
   "execution_count": 57,
   "metadata": {},
   "outputs": [],
   "source": [
    "spectral_model = SpectralClustering(n_clusters=num_clusters, affinity='rbf')"
   ]
  },
  {
   "cell_type": "markdown",
   "metadata": {},
   "source": [
    "#### Training the model and storing predicted cluster labels"
   ]
  },
  {
   "cell_type": "code",
   "execution_count": 58,
   "metadata": {},
   "outputs": [],
   "source": [
    "cluster_labels_array = spectral_model.fit_predict(scaled_train_df)"
   ]
  },
  {
   "cell_type": "markdown",
   "metadata": {},
   "source": [
    "#### Turn this array to a dataframe so it can be concatonated with the rest of the data"
   ]
  },
  {
   "cell_type": "code",
   "execution_count": 70,
   "metadata": {},
   "outputs": [],
   "source": [
    "cluster_labels_df = pd.DataFrame(cluster_labels_array).rename(columns={0: \"Cluster\"})"
   ]
  },
  {
   "cell_type": "code",
   "execution_count": 71,
   "metadata": {},
   "outputs": [
    {
     "data": {
      "text/html": [
       "<div>\n",
       "<style scoped>\n",
       "    .dataframe tbody tr th:only-of-type {\n",
       "        vertical-align: middle;\n",
       "    }\n",
       "\n",
       "    .dataframe tbody tr th {\n",
       "        vertical-align: top;\n",
       "    }\n",
       "\n",
       "    .dataframe thead th {\n",
       "        text-align: right;\n",
       "    }\n",
       "</style>\n",
       "<table border=\"1\" class=\"dataframe\">\n",
       "  <thead>\n",
       "    <tr style=\"text-align: right;\">\n",
       "      <th></th>\n",
       "      <th>Cluster</th>\n",
       "    </tr>\n",
       "  </thead>\n",
       "  <tbody>\n",
       "    <tr>\n",
       "      <th>0</th>\n",
       "      <td>0</td>\n",
       "    </tr>\n",
       "    <tr>\n",
       "      <th>1</th>\n",
       "      <td>0</td>\n",
       "    </tr>\n",
       "    <tr>\n",
       "      <th>2</th>\n",
       "      <td>0</td>\n",
       "    </tr>\n",
       "    <tr>\n",
       "      <th>3</th>\n",
       "      <td>0</td>\n",
       "    </tr>\n",
       "    <tr>\n",
       "      <th>4</th>\n",
       "      <td>0</td>\n",
       "    </tr>\n",
       "  </tbody>\n",
       "</table>\n",
       "</div>"
      ],
      "text/plain": [
       "   Cluster\n",
       "0        0\n",
       "1        0\n",
       "2        0\n",
       "3        0\n",
       "4        0"
      ]
     },
     "execution_count": 71,
     "metadata": {},
     "output_type": "execute_result"
    }
   ],
   "source": [
    "cluster_labels_df.head()"
   ]
  },
  {
   "cell_type": "markdown",
   "metadata": {},
   "source": [
    "#### Add a new column to the original data with the cluster each row is in"
   ]
  },
  {
   "cell_type": "code",
   "execution_count": 61,
   "metadata": {
    "scrolled": true
   },
   "outputs": [],
   "source": [
    "full_df_nd_cluster = pd.concat([chosen_df, cluster_labels_df], axis=1)"
   ]
  },
  {
   "cell_type": "code",
   "execution_count": 62,
   "metadata": {},
   "outputs": [
    {
     "data": {
      "text/html": [
       "<div>\n",
       "<style scoped>\n",
       "    .dataframe tbody tr th:only-of-type {\n",
       "        vertical-align: middle;\n",
       "    }\n",
       "\n",
       "    .dataframe tbody tr th {\n",
       "        vertical-align: top;\n",
       "    }\n",
       "\n",
       "    .dataframe thead th {\n",
       "        text-align: right;\n",
       "    }\n",
       "</style>\n",
       "<table border=\"1\" class=\"dataframe\">\n",
       "  <thead>\n",
       "    <tr style=\"text-align: right;\">\n",
       "      <th></th>\n",
       "      <th>group</th>\n",
       "      <th>LR</th>\n",
       "      <th>Out_Sens</th>\n",
       "      <th>Res_Cons</th>\n",
       "      <th>Loss_Aver</th>\n",
       "      <th>Gain_Impa</th>\n",
       "      <th>Loss_Impa</th>\n",
       "      <th>Deca_Rate</th>\n",
       "      <th>RL_weight</th>\n",
       "      <th>Cluster</th>\n",
       "    </tr>\n",
       "  </thead>\n",
       "  <tbody>\n",
       "    <tr>\n",
       "      <th>0</th>\n",
       "      <td>young</td>\n",
       "      <td>0.038441</td>\n",
       "      <td>0.630402</td>\n",
       "      <td>1.207295</td>\n",
       "      <td>1.050323</td>\n",
       "      <td>-0.535035</td>\n",
       "      <td>-1.913099</td>\n",
       "      <td>0.669323</td>\n",
       "      <td>0.660446</td>\n",
       "      <td>0</td>\n",
       "    </tr>\n",
       "    <tr>\n",
       "      <th>1</th>\n",
       "      <td>young</td>\n",
       "      <td>0.045673</td>\n",
       "      <td>0.630331</td>\n",
       "      <td>1.628191</td>\n",
       "      <td>0.205205</td>\n",
       "      <td>-0.133367</td>\n",
       "      <td>-1.423580</td>\n",
       "      <td>0.427207</td>\n",
       "      <td>0.719352</td>\n",
       "      <td>0</td>\n",
       "    </tr>\n",
       "    <tr>\n",
       "      <th>2</th>\n",
       "      <td>young</td>\n",
       "      <td>0.045468</td>\n",
       "      <td>0.602974</td>\n",
       "      <td>1.395572</td>\n",
       "      <td>0.383055</td>\n",
       "      <td>-0.344822</td>\n",
       "      <td>-1.719826</td>\n",
       "      <td>0.493249</td>\n",
       "      <td>0.688723</td>\n",
       "      <td>0</td>\n",
       "    </tr>\n",
       "    <tr>\n",
       "      <th>3</th>\n",
       "      <td>young</td>\n",
       "      <td>0.035789</td>\n",
       "      <td>0.635677</td>\n",
       "      <td>1.067831</td>\n",
       "      <td>0.823790</td>\n",
       "      <td>-0.229192</td>\n",
       "      <td>-1.484455</td>\n",
       "      <td>0.625835</td>\n",
       "      <td>0.675971</td>\n",
       "      <td>0</td>\n",
       "    </tr>\n",
       "    <tr>\n",
       "      <th>4</th>\n",
       "      <td>young</td>\n",
       "      <td>0.060655</td>\n",
       "      <td>0.636276</td>\n",
       "      <td>1.802964</td>\n",
       "      <td>0.329246</td>\n",
       "      <td>-0.616020</td>\n",
       "      <td>-2.561017</td>\n",
       "      <td>0.439912</td>\n",
       "      <td>0.655563</td>\n",
       "      <td>0</td>\n",
       "    </tr>\n",
       "  </tbody>\n",
       "</table>\n",
       "</div>"
      ],
      "text/plain": [
       "   group        LR  Out_Sens  Res_Cons  Loss_Aver  Gain_Impa  Loss_Impa  \\\n",
       "0  young  0.038441  0.630402  1.207295   1.050323  -0.535035  -1.913099   \n",
       "1  young  0.045673  0.630331  1.628191   0.205205  -0.133367  -1.423580   \n",
       "2  young  0.045468  0.602974  1.395572   0.383055  -0.344822  -1.719826   \n",
       "3  young  0.035789  0.635677  1.067831   0.823790  -0.229192  -1.484455   \n",
       "4  young  0.060655  0.636276  1.802964   0.329246  -0.616020  -2.561017   \n",
       "\n",
       "   Deca_Rate  RL_weight  Cluster  \n",
       "0   0.669323   0.660446        0  \n",
       "1   0.427207   0.719352        0  \n",
       "2   0.493249   0.688723        0  \n",
       "3   0.625835   0.675971        0  \n",
       "4   0.439912   0.655563        0  "
      ]
     },
     "execution_count": 62,
     "metadata": {},
     "output_type": "execute_result"
    }
   ],
   "source": [
    "full_df_nd_cluster.head()"
   ]
  },
  {
   "cell_type": "markdown",
   "metadata": {},
   "source": [
    "Now that we have clustered this data based on the parameters, we want to verify our hypothesis that these 2 clusters will just contain the 'Young' and 'Old' groups exclusively.\n",
    "\n",
    "We want to analyse these clusters to see how the 'Old' and 'Young' fall into these clusters and test this."
   ]
  },
  {
   "cell_type": "markdown",
   "metadata": {},
   "source": [
    "# =========================================================================\n",
    "# 5. Analyse the Clusters\n",
    "# ============================================================="
   ]
  },
  {
   "cell_type": "markdown",
   "metadata": {},
   "source": [
    "#### Create a dataframe showing how many people fell into each cluster"
   ]
  },
  {
   "cell_type": "code",
   "execution_count": 63,
   "metadata": {},
   "outputs": [],
   "source": [
    "all_cluster_df = pd.DataFrame(full_df_nd_cluster[[\"group\", \"Cluster\"]].groupby(\"Cluster\").count()).rename(columns={\"group\": \"All\"})"
   ]
  },
  {
   "cell_type": "markdown",
   "metadata": {},
   "source": [
    "#### Change 'young' to 1 and 'old' to np.nan"
   ]
  },
  {
   "cell_type": "code",
   "execution_count": 64,
   "metadata": {},
   "outputs": [],
   "source": [
    "temp_full_df_nd_cluster = full_df_nd_cluster.copy()"
   ]
  },
  {
   "cell_type": "code",
   "execution_count": 65,
   "metadata": {},
   "outputs": [],
   "source": [
    "temp_full_df_nd_cluster[\"group\"] = full_df_nd_cluster[\"group\"].replace('old', np.nan).replace('young', 1)"
   ]
  },
  {
   "cell_type": "markdown",
   "metadata": {},
   "source": [
    "#### Create a dataframe showing how many young people fell into each cluster"
   ]
  },
  {
   "cell_type": "code",
   "execution_count": 66,
   "metadata": {},
   "outputs": [],
   "source": [
    "young_cluster_df = pd.DataFrame(temp_full_df_nd_cluster[[\"group\", \"Cluster\"]].groupby(\"Cluster\").count()).rename(columns={\"group\": \"Young\"})"
   ]
  },
  {
   "cell_type": "markdown",
   "metadata": {},
   "source": [
    "#### Create a dataframe showing how many old people fell into each cluster"
   ]
  },
  {
   "cell_type": "code",
   "execution_count": 67,
   "metadata": {
    "scrolled": true
   },
   "outputs": [],
   "source": [
    "old_cluster_df = pd.DataFrame(temp_full_df_nd_cluster[\"group\"].isnull().groupby(full_df_nd_cluster[\"Cluster\"]).sum().astype(int)).rename(columns={\"group\": \"Old\"})"
   ]
  },
  {
   "cell_type": "markdown",
   "metadata": {},
   "source": [
    "#### Output how many 'young' and 'old' people fell into each cluster"
   ]
  },
  {
   "cell_type": "code",
   "execution_count": 68,
   "metadata": {},
   "outputs": [
    {
     "data": {
      "text/html": [
       "<div>\n",
       "<style scoped>\n",
       "    .dataframe tbody tr th:only-of-type {\n",
       "        vertical-align: middle;\n",
       "    }\n",
       "\n",
       "    .dataframe tbody tr th {\n",
       "        vertical-align: top;\n",
       "    }\n",
       "\n",
       "    .dataframe thead th {\n",
       "        text-align: right;\n",
       "    }\n",
       "</style>\n",
       "<table border=\"1\" class=\"dataframe\">\n",
       "  <thead>\n",
       "    <tr style=\"text-align: right;\">\n",
       "      <th></th>\n",
       "      <th>All</th>\n",
       "      <th>Young</th>\n",
       "      <th>Old</th>\n",
       "    </tr>\n",
       "    <tr>\n",
       "      <th>Cluster</th>\n",
       "      <th></th>\n",
       "      <th></th>\n",
       "      <th></th>\n",
       "    </tr>\n",
       "  </thead>\n",
       "  <tbody>\n",
       "    <tr>\n",
       "      <th>0</th>\n",
       "      <td>90</td>\n",
       "      <td>90</td>\n",
       "      <td>0</td>\n",
       "    </tr>\n",
       "    <tr>\n",
       "      <th>1</th>\n",
       "      <td>63</td>\n",
       "      <td>0</td>\n",
       "      <td>63</td>\n",
       "    </tr>\n",
       "  </tbody>\n",
       "</table>\n",
       "</div>"
      ],
      "text/plain": [
       "         All  Young  Old\n",
       "Cluster                 \n",
       "0         90     90    0\n",
       "1         63      0   63"
      ]
     },
     "execution_count": 68,
     "metadata": {},
     "output_type": "execute_result"
    }
   ],
   "source": [
    "pd.merge(all_cluster_df, pd.merge(young_cluster_df, old_cluster_df, how=\"inner\", on=\"Cluster\"), how=\"inner\", on=\"Cluster\")"
   ]
  },
  {
   "cell_type": "markdown",
   "metadata": {},
   "source": [
    "As you can see from the above table, our hypthesis was correct and the algorithm clustered the individuals into their respective groups of young and old.\n",
    "\n",
    "While this test did not provide us with any more information than we already had, we felt it was vital to not make any assumptions but to verify everything before we act.\n",
    "So even though from the analysis using the 'Silhouette Score' we identified that two clusters maximised this score, as we hypothesised this is because of how distinct the two groups of individuals are when it comes to decision making. As a result, we have not gained much aditional information about the data by having 2 clusters so we must experiment with a different number."
   ]
  },
  {
   "cell_type": "markdown",
   "metadata": {},
   "source": [
    "# =============================================================\n",
    "# 6. Consideration of Clustering Algorithms & Number of clusters (2)\n",
    "# ============================================================="
   ]
  },
  {
   "cell_type": "markdown",
   "metadata": {},
   "source": [
    "So we have experimented using two clusters and have decided that this does not provide us with enough aditional information to satisfy our analysis.\n"
   ]
  },
  {
   "cell_type": "code",
   "execution_count": 82,
   "metadata": {},
   "outputs": [],
   "source": [
    "def print_max_silhouette_score_and_its_cluster_number(list_of_silhouette_scores, list_of_cluster_numbers):\n",
    "    \n",
    "    max_silhouette_score = max(list_of_silhouette_scores)\n",
    "    index_max_score = list_of_silhouette_scores.index(max_silhouette_score)\n",
    "\n",
    "    print(\"The maximum Silhouette Score was\", max_silhouette_score)\n",
    "    print(\"This score is achieved by running\", list_of_cluster_numbers[index_max_score], \"clusters\")"
   ]
  },
  {
   "cell_type": "markdown",
   "metadata": {},
   "source": [
    "#### Spectral Clustering using the 'nearest neighbour'"
   ]
  },
  {
   "cell_type": "code",
   "execution_count": 89,
   "metadata": {},
   "outputs": [
    {
     "name": "stdout",
     "output_type": "stream",
     "text": [
      "The maximum Silhouette Score was 0.25576500302229266\n",
      "This score is achieved by running 3 clusters\n"
     ]
    },
    {
     "data": {
      "text/html": [
       "<div>\n",
       "<style scoped>\n",
       "    .dataframe tbody tr th:only-of-type {\n",
       "        vertical-align: middle;\n",
       "    }\n",
       "\n",
       "    .dataframe tbody tr th {\n",
       "        vertical-align: top;\n",
       "    }\n",
       "\n",
       "    .dataframe thead th {\n",
       "        text-align: right;\n",
       "    }\n",
       "</style>\n",
       "<table border=\"1\" class=\"dataframe\">\n",
       "  <thead>\n",
       "    <tr style=\"text-align: right;\">\n",
       "      <th># Clusters</th>\n",
       "      <th>2</th>\n",
       "      <th>3</th>\n",
       "      <th>4</th>\n",
       "      <th>5</th>\n",
       "      <th>6</th>\n",
       "      <th>7</th>\n",
       "      <th>8</th>\n",
       "      <th>9</th>\n",
       "      <th>10</th>\n",
       "    </tr>\n",
       "  </thead>\n",
       "  <tbody>\n",
       "    <tr>\n",
       "      <th>Silhouette Score</th>\n",
       "      <td>0.29513</td>\n",
       "      <td>0.255765</td>\n",
       "      <td>0.243764</td>\n",
       "      <td>0.246033</td>\n",
       "      <td>0.234108</td>\n",
       "      <td>0.237116</td>\n",
       "      <td>0.21703</td>\n",
       "      <td>0.203375</td>\n",
       "      <td>0.191292</td>\n",
       "    </tr>\n",
       "  </tbody>\n",
       "</table>\n",
       "</div>"
      ],
      "text/plain": [
       "# Clusters             2         3         4         5         6         7   \\\n",
       "Silhouette Score  0.29513  0.255765  0.243764  0.246033  0.234108  0.237116   \n",
       "\n",
       "# Clusters             8         9         10  \n",
       "Silhouette Score  0.21703  0.203375  0.191292  "
      ]
     },
     "execution_count": 89,
     "metadata": {},
     "output_type": "execute_result"
    }
   ],
   "source": [
    "# remove cluster 2 from this dataframe\n",
    "cluster_nd_score_nn_df_no_2 = cluster_nd_score_nn_df.T.iloc[:, 1:]\n",
    "\n",
    "print_max_silhouette_score_and_its_cluster_number(list(cluster_nd_score_nn_df_no_2.iloc[0, :]), cluster_nd_score_nn_df_no_2.columns)\n",
    "\n",
    "cluster_nd_score_nn_df.T"
   ]
  },
  {
   "cell_type": "code",
   "execution_count": 90,
   "metadata": {},
   "outputs": [
    {
     "name": "stdout",
     "output_type": "stream",
     "text": [
      "The maximum Silhouette Score was 0.26957519486441966\n",
      "This score is achieved by running 5 clusters\n"
     ]
    },
    {
     "data": {
      "text/html": [
       "<div>\n",
       "<style scoped>\n",
       "    .dataframe tbody tr th:only-of-type {\n",
       "        vertical-align: middle;\n",
       "    }\n",
       "\n",
       "    .dataframe tbody tr th {\n",
       "        vertical-align: top;\n",
       "    }\n",
       "\n",
       "    .dataframe thead th {\n",
       "        text-align: right;\n",
       "    }\n",
       "</style>\n",
       "<table border=\"1\" class=\"dataframe\">\n",
       "  <thead>\n",
       "    <tr style=\"text-align: right;\">\n",
       "      <th># Clusters</th>\n",
       "      <th>2</th>\n",
       "      <th>3</th>\n",
       "      <th>4</th>\n",
       "      <th>5</th>\n",
       "      <th>6</th>\n",
       "      <th>7</th>\n",
       "      <th>8</th>\n",
       "      <th>9</th>\n",
       "      <th>10</th>\n",
       "    </tr>\n",
       "  </thead>\n",
       "  <tbody>\n",
       "    <tr>\n",
       "      <th>Silhouette Score</th>\n",
       "      <td>0.29513</td>\n",
       "      <td>0.252844</td>\n",
       "      <td>0.25059</td>\n",
       "      <td>0.269575</td>\n",
       "      <td>0.229649</td>\n",
       "      <td>0.206779</td>\n",
       "      <td>0.113822</td>\n",
       "      <td>0.139949</td>\n",
       "      <td>0.202321</td>\n",
       "    </tr>\n",
       "  </tbody>\n",
       "</table>\n",
       "</div>"
      ],
      "text/plain": [
       "# Clusters             2         3        4         5         6         7   \\\n",
       "Silhouette Score  0.29513  0.252844  0.25059  0.269575  0.229649  0.206779   \n",
       "\n",
       "# Clusters              8         9         10  \n",
       "Silhouette Score  0.113822  0.139949  0.202321  "
      ]
     },
     "execution_count": 90,
     "metadata": {},
     "output_type": "execute_result"
    }
   ],
   "source": [
    "# remove cluster 2 from this dataframe\n",
    "cluster_nd_score_rbf_df_no_2 = cluster_nd_score_rbf_df.T.iloc[:, 1:]\n",
    "\n",
    "print_max_silhouette_score_and_its_cluster_number(list(cluster_nd_score_rbf_df_no_2.iloc[0, :]), cluster_nd_score_rbf_df_no_2.columns)\n",
    "\n",
    "cluster_nd_score_rbf_df.T"
   ]
  },
  {
   "cell_type": "markdown",
   "metadata": {},
   "source": [
    "## Silhouette Scores for the KMeans Algorithm"
   ]
  },
  {
   "cell_type": "code",
   "execution_count": 92,
   "metadata": {},
   "outputs": [
    {
     "name": "stdout",
     "output_type": "stream",
     "text": [
      "The maximum Silhouette Score was 0.2755477899572432\n",
      "This score is achieved by running 3 clusters\n"
     ]
    },
    {
     "data": {
      "text/html": [
       "<div>\n",
       "<style scoped>\n",
       "    .dataframe tbody tr th:only-of-type {\n",
       "        vertical-align: middle;\n",
       "    }\n",
       "\n",
       "    .dataframe tbody tr th {\n",
       "        vertical-align: top;\n",
       "    }\n",
       "\n",
       "    .dataframe thead th {\n",
       "        text-align: right;\n",
       "    }\n",
       "</style>\n",
       "<table border=\"1\" class=\"dataframe\">\n",
       "  <thead>\n",
       "    <tr style=\"text-align: right;\">\n",
       "      <th># Clusters</th>\n",
       "      <th>2</th>\n",
       "      <th>3</th>\n",
       "      <th>4</th>\n",
       "      <th>5</th>\n",
       "      <th>6</th>\n",
       "      <th>7</th>\n",
       "      <th>8</th>\n",
       "      <th>9</th>\n",
       "      <th>10</th>\n",
       "    </tr>\n",
       "  </thead>\n",
       "  <tbody>\n",
       "    <tr>\n",
       "      <th>Silhouette Score</th>\n",
       "      <td>0.29513</td>\n",
       "      <td>0.275548</td>\n",
       "      <td>0.251219</td>\n",
       "      <td>0.2563</td>\n",
       "      <td>0.261833</td>\n",
       "      <td>0.255223</td>\n",
       "      <td>0.244964</td>\n",
       "      <td>0.240095</td>\n",
       "      <td>0.230552</td>\n",
       "    </tr>\n",
       "  </tbody>\n",
       "</table>\n",
       "</div>"
      ],
      "text/plain": [
       "# Clusters             2         3         4       5         6         7   \\\n",
       "Silhouette Score  0.29513  0.275548  0.251219  0.2563  0.261833  0.255223   \n",
       "\n",
       "# Clusters              8         9         10  \n",
       "Silhouette Score  0.244964  0.240095  0.230552  "
      ]
     },
     "execution_count": 92,
     "metadata": {},
     "output_type": "execute_result"
    }
   ],
   "source": [
    "# remove cluster 2 from this dataframe\n",
    "cluster_nd_score_km_df_no_2 = cluster_nd_score_km_df.T.iloc[:, 1:]\n",
    "\n",
    "print_max_silhouette_score_and_its_cluster_number(list(cluster_nd_score_km_df_no_2.iloc[0, :]), cluster_nd_score_km_df_no_2.columns)\n",
    "\n",
    "cluster_nd_score_km_df.T"
   ]
  },
  {
   "cell_type": "markdown",
   "metadata": {},
   "source": [
    "Based on these result"
   ]
  },
  {
   "cell_type": "markdown",
   "metadata": {},
   "source": [
    "#### Use K-means to determine the accuracy of clustering using 1-10 clusters"
   ]
  },
  {
   "cell_type": "code",
   "execution_count": 52,
   "metadata": {},
   "outputs": [],
   "source": [
    "distortions = []\n",
    "num_clusters_to_iter = range(2,11)\n",
    "for k in num_clusters_to_iter:\n",
    "    kmeanModel = KMeans(n_clusters=k).fit(scaled_train_df)\n",
    "    kmeanModel.fit(scaled_train_df)\n",
    "    distortions.append(sum(np.min(cdist(scaled_train_df, kmeanModel.cluster_centers_, 'euclidean'), axis=1)) / scaled_train_df.shape[0])"
   ]
  },
  {
   "cell_type": "markdown",
   "metadata": {},
   "source": [
    "#### Plot the elbow curve of the distortion that each cluster number gives"
   ]
  },
  {
   "cell_type": "code",
   "execution_count": 54,
   "metadata": {
    "scrolled": false
   },
   "outputs": [
    {
     "data": {
      "image/png": "[encoded data removed]",
      "text/plain": [
       "<Figure size 432x288 with 1 Axes>"
      ]
     },
     "metadata": {
      "needs_background": "light"
     },
     "output_type": "display_data"
    }
   ],
   "source": [
    "plt.plot(num_clusters_to_iter, distortions, 'bx-')\n",
    "plt.xlabel('# Clusters')\n",
    "plt.ylabel('Distortion')\n",
    "plt.title('The Elbow Method displaying the optimal number of clusters')\n",
    "plt.show()"
   ]
  },
  {
   "cell_type": "code",
   "execution_count": null,
   "metadata": {},
   "outputs": [],
   "source": []
  },
  {
   "cell_type": "code",
   "execution_count": null,
   "metadata": {},
   "outputs": [],
   "source": []
  },
  {
   "cell_type": "code",
   "execution_count": null,
   "metadata": {},
   "outputs": [],
   "source": []
  },
  {
   "cell_type": "code",
   "execution_count": null,
   "metadata": {},
   "outputs": [],
   "source": []
  },
  {
   "cell_type": "code",
   "execution_count": null,
   "metadata": {},
   "outputs": [],
   "source": []
  },
  {
   "cell_type": "code",
   "execution_count": null,
   "metadata": {},
   "outputs": [],
   "source": []
  },
  {
   "cell_type": "code",
   "execution_count": null,
   "metadata": {},
   "outputs": [],
   "source": []
  },
  {
   "cell_type": "markdown",
   "metadata": {},
   "source": [
    "In order to visualise these clusters, we will need to reduce the dimensionality of the original Dataframe so that we can represent each data point in a two dimensional space. This can be achieved by performing **Principal Component Analysis** on the data. This is done below."
   ]
  },
  {
   "cell_type": "code",
   "execution_count": null,
   "metadata": {},
   "outputs": [],
   "source": [
    "# Move PCA up here?"
   ]
  },
  {
   "cell_type": "code",
   "execution_count": null,
   "metadata": {},
   "outputs": [],
   "source": [
    "#Choose more clusters\n",
    "#The next most suitable combination of num_clusters/model is kmeans with 6 clusters\n",
    "#Confirm this with elbow curve\n",
    "\n",
    "kmeans = KMeans(n_clusters=6).fit(standard_train_array)\n",
    "centroids = kmeans.cluster_centers_"
   ]
  },
  {
   "cell_type": "code",
   "execution_count": null,
   "metadata": {},
   "outputs": [],
   "source": []
  },
  {
   "cell_type": "markdown",
   "metadata": {},
   "source": [
    "# ============================================================="
   ]
  },
  {
   "cell_type": "markdown",
   "metadata": {},
   "source": [
    "# 5. Principal Component Analysis"
   ]
  },
  {
   "cell_type": "markdown",
   "metadata": {},
   "source": [
    "# ============================================================="
   ]
  },
  {
   "cell_type": "markdown",
   "metadata": {},
   "source": [
    "There are eight parameters in this model so principal component analysis is performed below on the data before performing Spectral clustering."
   ]
  },
  {
   "cell_type": "markdown",
   "metadata": {},
   "source": [
    "#### Inspect dataframe which PCA is being performed on"
   ]
  },
  {
   "cell_type": "code",
   "execution_count": null,
   "metadata": {},
   "outputs": [],
   "source": [
    "original_df.head()"
   ]
  },
  {
   "cell_type": "markdown",
   "metadata": {},
   "source": [
    "#### Use PCA to project the data to 2 dimensions"
   ]
  },
  {
   "cell_type": "code",
   "execution_count": null,
   "metadata": {},
   "outputs": [],
   "source": [
    "pca = PCA(n_components=2)\n",
    "\n",
    "principal_components_array = pca.fit_transform(standard_train_array)"
   ]
  },
  {
   "cell_type": "markdown",
   "metadata": {},
   "source": [
    "#### Look at how much variance these 2 axes explain"
   ]
  },
  {
   "cell_type": "code",
   "execution_count": null,
   "metadata": {},
   "outputs": [],
   "source": [
    "pca.explained_variance_ratio_"
   ]
  },
  {
   "cell_type": "markdown",
   "metadata": {},
   "source": [
    "#### Add these principal component columns to the rest of the data"
   ]
  },
  {
   "cell_type": "code",
   "execution_count": null,
   "metadata": {},
   "outputs": [],
   "source": [
    "principal_df = pd.DataFrame(data = principal_components_array, columns = ['Principal_Component_1', 'Principal_Component_2'])\n",
    "principal_df.head()"
   ]
  },
  {
   "cell_type": "code",
   "execution_count": null,
   "metadata": {},
   "outputs": [],
   "source": [
    "final_df = pd.concat([full_df_nd_cluster, principal_df], axis = 1)"
   ]
  },
  {
   "cell_type": "code",
   "execution_count": null,
   "metadata": {
    "scrolled": true
   },
   "outputs": [],
   "source": [
    "final_df.head()"
   ]
  },
  {
   "cell_type": "markdown",
   "metadata": {},
   "source": [
    "# ============================================================="
   ]
  },
  {
   "cell_type": "markdown",
   "metadata": {},
   "source": [
    "# 6. Plot the clusters with the PCA axes"
   ]
  },
  {
   "cell_type": "markdown",
   "metadata": {},
   "source": [
    "# ============================================================="
   ]
  },
  {
   "cell_type": "markdown",
   "metadata": {},
   "source": [
    "## Plot the clusters"
   ]
  },
  {
   "cell_type": "markdown",
   "metadata": {},
   "source": [
    "#### Choose the columns to plot"
   ]
  },
  {
   "cell_type": "code",
   "execution_count": null,
   "metadata": {},
   "outputs": [],
   "source": [
    "pc1 = final_df['Principal_Component_1']\n",
    "pc2 = final_df['Principal_Component_2']\n",
    "group = final_df[\"group\"]\n",
    "cluster = final_df[\"Cluster\"]"
   ]
  },
  {
   "cell_type": "markdown",
   "metadata": {},
   "source": [
    "#### Visualise 2D projection"
   ]
  },
  {
   "cell_type": "code",
   "execution_count": null,
   "metadata": {},
   "outputs": [],
   "source": [
    "fig = plt.figure(figsize = (8,8))\n",
    "ax = fig.add_subplot(1,1,1)\n",
    "\n",
    "ax.set_xlabel('Principal Component 1', fontsize = 15)\n",
    "ax.set_ylabel('Principal Component 2', fontsize = 15)\n",
    "ax.set_title('Plotting the dataset accross the 2 principal components', fontsize = 20)\n",
    "\n",
    "targets = ['young', 'old']\n",
    "colors = ['b', 'y']\n",
    "\n",
    "for target, color in zip(targets, colors):\n",
    "    ax.scatter(pc1.loc[target == group], pc2.loc[target == group], c = color, s = 50)\n",
    "    \n",
    "ax.legend(targets)\n",
    "ax.grid()"
   ]
  },
  {
   "cell_type": "markdown",
   "metadata": {},
   "source": [
    "#### Plot the original data"
   ]
  },
  {
   "cell_type": "code",
   "execution_count": null,
   "metadata": {
    "scrolled": true
   },
   "outputs": [],
   "source": [
    "plt.scatter(pc1, pc2)"
   ]
  },
  {
   "cell_type": "markdown",
   "metadata": {},
   "source": [
    "#### Plot the data colouring the different groups"
   ]
  },
  {
   "cell_type": "code",
   "execution_count": null,
   "metadata": {
    "scrolled": true
   },
   "outputs": [],
   "source": [
    "plt.scatter(pc1, pc2, c=np.where(0, 1, group==\"young\"), s=50)"
   ]
  },
  {
   "cell_type": "markdown",
   "metadata": {},
   "source": [
    "#### Plot this data colouring the different clusters"
   ]
  },
  {
   "cell_type": "code",
   "execution_count": null,
   "metadata": {
    "scrolled": true
   },
   "outputs": [],
   "source": [
    "plt.scatter(pc1, pc2, c=cluster, s=50)"
   ]
  },
  {
   "cell_type": "markdown",
   "metadata": {},
   "source": [
    "#### Plot this data with the clusters and their centroids"
   ]
  },
  {
   "cell_type": "code",
   "execution_count": null,
   "metadata": {
    "scrolled": true
   },
   "outputs": [],
   "source": [
    "plt.scatter(pc1, pc2, c=kmeans.labels_.astype(float), s=50, alpha=0.5)\n",
    "plt.scatter(centroids[:, 0], centroids[:, 1], c='red', s=50)\n",
    "plt.show()"
   ]
  },
  {
   "cell_type": "markdown",
   "metadata": {},
   "source": [
    "# ============================================================="
   ]
  },
  {
   "cell_type": "markdown",
   "metadata": {},
   "source": [
    "# 7. Analyse the clusters"
   ]
  },
  {
   "cell_type": "markdown",
   "metadata": {},
   "source": [
    "# ============================================================="
   ]
  },
  {
   "cell_type": "markdown",
   "metadata": {},
   "source": [
    "## See how the 'Old' and 'Young' fall into these clusters"
   ]
  },
  {
   "cell_type": "code",
   "execution_count": null,
   "metadata": {},
   "outputs": [],
   "source": [
    "final_df.head()"
   ]
  },
  {
   "cell_type": "markdown",
   "metadata": {},
   "source": [
    "#### Create a dataframe showing how many people people fell into each cluster"
   ]
  },
  {
   "cell_type": "code",
   "execution_count": null,
   "metadata": {},
   "outputs": [],
   "source": [
    "all_cluster_df = pd.DataFrame(final_df[[\"group\", \"Cluster\"]].groupby(\"Cluster\").count()).rename(columns={\"group\": \"All\"})"
   ]
  },
  {
   "cell_type": "markdown",
   "metadata": {},
   "source": [
    "#### Change 'young' to 1 and 'old' to np.nan"
   ]
  },
  {
   "cell_type": "code",
   "execution_count": null,
   "metadata": {},
   "outputs": [],
   "source": [
    "final_df[\"group\"] = final_df[\"group\"].replace('old', np.nan).replace('young', 1)"
   ]
  },
  {
   "cell_type": "markdown",
   "metadata": {},
   "source": [
    "#### Create a dataframe showing how many young people fell into each cluster"
   ]
  },
  {
   "cell_type": "code",
   "execution_count": null,
   "metadata": {},
   "outputs": [],
   "source": [
    "young_cluster_df = pd.DataFrame(final_df[[\"group\", \"Cluster\"]].groupby(\"Cluster\").count()).rename(columns={\"group\": \"Young\"})"
   ]
  },
  {
   "cell_type": "markdown",
   "metadata": {},
   "source": [
    "#### Create a dataframe showing how many old people fell into each cluster"
   ]
  },
  {
   "cell_type": "code",
   "execution_count": null,
   "metadata": {
    "scrolled": true
   },
   "outputs": [],
   "source": [
    "old_cluster_df = pd.DataFrame(final_df[\"group\"].isnull().groupby(final_df[\"Cluster\"]).sum().astype(int)).rename(columns={\"group\": \"Old\"})"
   ]
  },
  {
   "cell_type": "markdown",
   "metadata": {},
   "source": [
    "#### Output how many 'young' and 'old' people fell into each cluster"
   ]
  },
  {
   "cell_type": "code",
   "execution_count": null,
   "metadata": {},
   "outputs": [],
   "source": [
    "pd.merge(all_cluster_df, pd.merge(young_cluster_df, old_cluster_df, how=\"inner\", on=\"Cluster\"), how=\"inner\", on=\"Cluster\")"
   ]
  },
  {
   "cell_type": "code",
   "execution_count": null,
   "metadata": {},
   "outputs": [],
   "source": []
  },
  {
   "cell_type": "code",
   "execution_count": null,
   "metadata": {},
   "outputs": [],
   "source": []
  },
  {
   "cell_type": "code",
   "execution_count": null,
   "metadata": {},
   "outputs": [],
   "source": []
  },
  {
   "cell_type": "code",
   "execution_count": null,
   "metadata": {},
   "outputs": [],
   "source": []
  },
  {
   "cell_type": "code",
   "execution_count": null,
   "metadata": {},
   "outputs": [],
   "source": []
  },
  {
   "cell_type": "code",
   "execution_count": null,
   "metadata": {},
   "outputs": [],
   "source": []
  },
  {
   "cell_type": "code",
   "execution_count": null,
   "metadata": {},
   "outputs": [],
   "source": []
  },
  {
   "cell_type": "code",
   "execution_count": null,
   "metadata": {},
   "outputs": [],
   "source": []
  },
  {
   "cell_type": "code",
   "execution_count": null,
   "metadata": {},
   "outputs": [],
   "source": []
  },
  {
   "cell_type": "code",
   "execution_count": null,
   "metadata": {},
   "outputs": [],
   "source": []
  },
  {
   "cell_type": "code",
   "execution_count": null,
   "metadata": {},
   "outputs": [],
   "source": []
  },
  {
   "cell_type": "code",
   "execution_count": null,
   "metadata": {},
   "outputs": [],
   "source": []
  },
  {
   "cell_type": "code",
   "execution_count": null,
   "metadata": {},
   "outputs": [],
   "source": []
  },
  {
   "cell_type": "code",
   "execution_count": null,
   "metadata": {},
   "outputs": [],
   "source": []
  },
  {
   "cell_type": "code",
   "execution_count": null,
   "metadata": {},
   "outputs": [],
   "source": []
  },
  {
   "cell_type": "code",
   "execution_count": null,
   "metadata": {},
   "outputs": [],
   "source": []
  }
 ],
 "metadata": {
  "kernelspec": {
   "display_name": "Python 3",
   "language": "python",
   "name": "python3"
  },
  "language_info": {
   "codemirror_mode": {
    "name": "ipython",
    "version": 3
   },
   "file_extension": ".py",
   "mimetype": "text/x-python",
   "name": "python",
   "nbconvert_exporter": "python",
   "pygments_lexer": "ipython3",
   "version": "3.8.6"
  }
 },
 "nbformat": 4,
 "nbformat_minor": 2
}
