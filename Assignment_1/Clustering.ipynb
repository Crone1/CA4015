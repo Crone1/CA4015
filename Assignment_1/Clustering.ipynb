{
 "cells": [
  {
   "cell_type": "markdown",
   "metadata": {},
   "source": [
    "## Imports"
   ]
  },
  {
   "cell_type": "markdown",
   "metadata": {},
   "source": [
    "#### General"
   ]
  },
  {
   "cell_type": "code",
   "execution_count": 1,
   "metadata": {},
   "outputs": [],
   "source": [
    "import pandas as pd\n",
    "import numpy as np"
   ]
  },
  {
   "cell_type": "markdown",
   "metadata": {},
   "source": [
    "#### For clustering"
   ]
  },
  {
   "cell_type": "code",
   "execution_count": 2,
   "metadata": {},
   "outputs": [],
   "source": [
    "from sklearn.cluster import KMeans\n",
    "from sklearn import metrics\n",
    "from scipy.spatial.distance import cdist\n",
    "from sklearn.cluster import SpectralClustering"
   ]
  },
  {
   "cell_type": "markdown",
   "metadata": {},
   "source": [
    "#### For plotting"
   ]
  },
  {
   "cell_type": "code",
   "execution_count": 3,
   "metadata": {},
   "outputs": [],
   "source": [
    "import matplotlib.pyplot as plt"
   ]
  },
  {
   "cell_type": "markdown",
   "metadata": {},
   "source": [
    "## Read in the data"
   ]
  },
  {
   "cell_type": "markdown",
   "metadata": {},
   "source": [
    "### Read in data 1"
   ]
  },
  {
   "cell_type": "code",
   "execution_count": 4,
   "metadata": {},
   "outputs": [],
   "source": [
    "df1 = pd.read_csv(\"./data_1.csv\")"
   ]
  },
  {
   "cell_type": "markdown",
   "metadata": {},
   "source": [
    "#### Inspect the data"
   ]
  },
  {
   "cell_type": "code",
   "execution_count": 5,
   "metadata": {
    "scrolled": true
   },
   "outputs": [
    {
     "data": {
      "text/html": [
       "<div>\n",
       "<style scoped>\n",
       "    .dataframe tbody tr th:only-of-type {\n",
       "        vertical-align: middle;\n",
       "    }\n",
       "\n",
       "    .dataframe tbody tr th {\n",
       "        vertical-align: top;\n",
       "    }\n",
       "\n",
       "    .dataframe thead th {\n",
       "        text-align: right;\n",
       "    }\n",
       "</style>\n",
       "<table border=\"1\" class=\"dataframe\">\n",
       "  <thead>\n",
       "    <tr style=\"text-align: right;\">\n",
       "      <th></th>\n",
       "      <th>group</th>\n",
       "      <th>SubID</th>\n",
       "      <th>LR</th>\n",
       "      <th>Outcome_Sens</th>\n",
       "      <th>Response_cons</th>\n",
       "      <th>Loss_Aver</th>\n",
       "    </tr>\n",
       "  </thead>\n",
       "  <tbody>\n",
       "    <tr>\n",
       "      <th>0</th>\n",
       "      <td>young</td>\n",
       "      <td>1</td>\n",
       "      <td>0.159011</td>\n",
       "      <td>0.487522</td>\n",
       "      <td>0.686815</td>\n",
       "      <td>0.954498</td>\n",
       "    </tr>\n",
       "    <tr>\n",
       "      <th>1</th>\n",
       "      <td>young</td>\n",
       "      <td>2</td>\n",
       "      <td>0.064666</td>\n",
       "      <td>0.511008</td>\n",
       "      <td>1.391790</td>\n",
       "      <td>0.295529</td>\n",
       "    </tr>\n",
       "    <tr>\n",
       "      <th>2</th>\n",
       "      <td>young</td>\n",
       "      <td>3</td>\n",
       "      <td>0.113089</td>\n",
       "      <td>0.465141</td>\n",
       "      <td>0.918734</td>\n",
       "      <td>0.533232</td>\n",
       "    </tr>\n",
       "    <tr>\n",
       "      <th>3</th>\n",
       "      <td>young</td>\n",
       "      <td>4</td>\n",
       "      <td>0.089273</td>\n",
       "      <td>0.500391</td>\n",
       "      <td>0.703737</td>\n",
       "      <td>0.869859</td>\n",
       "    </tr>\n",
       "    <tr>\n",
       "      <th>4</th>\n",
       "      <td>young</td>\n",
       "      <td>5</td>\n",
       "      <td>0.233898</td>\n",
       "      <td>0.488053</td>\n",
       "      <td>0.897867</td>\n",
       "      <td>0.511095</td>\n",
       "    </tr>\n",
       "  </tbody>\n",
       "</table>\n",
       "</div>"
      ],
      "text/plain": [
       "   group  SubID        LR  Outcome_Sens  Response_cons  Loss_Aver\n",
       "0  young      1  0.159011      0.487522       0.686815   0.954498\n",
       "1  young      2  0.064666      0.511008       1.391790   0.295529\n",
       "2  young      3  0.113089      0.465141       0.918734   0.533232\n",
       "3  young      4  0.089273      0.500391       0.703737   0.869859\n",
       "4  young      5  0.233898      0.488053       0.897867   0.511095"
      ]
     },
     "execution_count": 5,
     "metadata": {},
     "output_type": "execute_result"
    }
   ],
   "source": [
    "df1.head()"
   ]
  },
  {
   "cell_type": "code",
   "execution_count": 6,
   "metadata": {},
   "outputs": [
    {
     "data": {
      "text/html": [
       "<div>\n",
       "<style scoped>\n",
       "    .dataframe tbody tr th:only-of-type {\n",
       "        vertical-align: middle;\n",
       "    }\n",
       "\n",
       "    .dataframe tbody tr th {\n",
       "        vertical-align: top;\n",
       "    }\n",
       "\n",
       "    .dataframe thead th {\n",
       "        text-align: right;\n",
       "    }\n",
       "</style>\n",
       "<table border=\"1\" class=\"dataframe\">\n",
       "  <thead>\n",
       "    <tr style=\"text-align: right;\">\n",
       "      <th></th>\n",
       "      <th>SubID</th>\n",
       "      <th>LR</th>\n",
       "      <th>Outcome_Sens</th>\n",
       "      <th>Response_cons</th>\n",
       "      <th>Loss_Aver</th>\n",
       "    </tr>\n",
       "  </thead>\n",
       "  <tbody>\n",
       "    <tr>\n",
       "      <th>count</th>\n",
       "      <td>153.000000</td>\n",
       "      <td>153.000000</td>\n",
       "      <td>153.000000</td>\n",
       "      <td>153.000000</td>\n",
       "      <td>153.000000</td>\n",
       "    </tr>\n",
       "    <tr>\n",
       "      <th>mean</th>\n",
       "      <td>77.000000</td>\n",
       "      <td>0.254555</td>\n",
       "      <td>0.490149</td>\n",
       "      <td>1.047426</td>\n",
       "      <td>0.771240</td>\n",
       "    </tr>\n",
       "    <tr>\n",
       "      <th>std</th>\n",
       "      <td>44.311398</td>\n",
       "      <td>0.237008</td>\n",
       "      <td>0.155386</td>\n",
       "      <td>0.400147</td>\n",
       "      <td>0.651220</td>\n",
       "    </tr>\n",
       "    <tr>\n",
       "      <th>min</th>\n",
       "      <td>1.000000</td>\n",
       "      <td>0.024038</td>\n",
       "      <td>0.049304</td>\n",
       "      <td>0.590758</td>\n",
       "      <td>0.043900</td>\n",
       "    </tr>\n",
       "    <tr>\n",
       "      <th>25%</th>\n",
       "      <td>39.000000</td>\n",
       "      <td>0.089273</td>\n",
       "      <td>0.401523</td>\n",
       "      <td>0.730751</td>\n",
       "      <td>0.282991</td>\n",
       "    </tr>\n",
       "    <tr>\n",
       "      <th>50%</th>\n",
       "      <td>77.000000</td>\n",
       "      <td>0.158341</td>\n",
       "      <td>0.490751</td>\n",
       "      <td>0.918049</td>\n",
       "      <td>0.660665</td>\n",
       "    </tr>\n",
       "    <tr>\n",
       "      <th>75%</th>\n",
       "      <td>115.000000</td>\n",
       "      <td>0.294708</td>\n",
       "      <td>0.560787</td>\n",
       "      <td>1.284732</td>\n",
       "      <td>1.054360</td>\n",
       "    </tr>\n",
       "    <tr>\n",
       "      <th>max</th>\n",
       "      <td>153.000000</td>\n",
       "      <td>0.942930</td>\n",
       "      <td>0.925102</td>\n",
       "      <td>2.449047</td>\n",
       "      <td>4.084854</td>\n",
       "    </tr>\n",
       "  </tbody>\n",
       "</table>\n",
       "</div>"
      ],
      "text/plain": [
       "            SubID          LR  Outcome_Sens  Response_cons   Loss_Aver\n",
       "count  153.000000  153.000000    153.000000     153.000000  153.000000\n",
       "mean    77.000000    0.254555      0.490149       1.047426    0.771240\n",
       "std     44.311398    0.237008      0.155386       0.400147    0.651220\n",
       "min      1.000000    0.024038      0.049304       0.590758    0.043900\n",
       "25%     39.000000    0.089273      0.401523       0.730751    0.282991\n",
       "50%     77.000000    0.158341      0.490751       0.918049    0.660665\n",
       "75%    115.000000    0.294708      0.560787       1.284732    1.054360\n",
       "max    153.000000    0.942930      0.925102       2.449047    4.084854"
      ]
     },
     "execution_count": 6,
     "metadata": {},
     "output_type": "execute_result"
    }
   ],
   "source": [
    "df1.describe()"
   ]
  },
  {
   "cell_type": "code",
   "execution_count": 7,
   "metadata": {},
   "outputs": [
    {
     "data": {
      "text/plain": [
       "<matplotlib.collections.PathCollection at 0x1a263bc2710>"
      ]
     },
     "execution_count": 7,
     "metadata": {},
     "output_type": "execute_result"
    },
    {
     "data": {
      "image/png": "[encoded data removed]",
      "text/plain": [
       "<Figure size 432x288 with 1 Axes>"
      ]
     },
     "metadata": {},
     "output_type": "display_data"
    }
   ],
   "source": [
    "plt.scatter(df1[\"LR\"], df1[\"Outcome_Sens\"])"
   ]
  },
  {
   "cell_type": "markdown",
   "metadata": {},
   "source": [
    "### Read in data 2"
   ]
  },
  {
   "cell_type": "code",
   "execution_count": 8,
   "metadata": {},
   "outputs": [],
   "source": [
    "df2 = pd.read_csv(\"./data_2.csv\")"
   ]
  },
  {
   "cell_type": "markdown",
   "metadata": {},
   "source": [
    "#### Inspect the data"
   ]
  },
  {
   "cell_type": "code",
   "execution_count": 9,
   "metadata": {
    "scrolled": true
   },
   "outputs": [
    {
     "data": {
      "text/html": [
       "<div>\n",
       "<style scoped>\n",
       "    .dataframe tbody tr th:only-of-type {\n",
       "        vertical-align: middle;\n",
       "    }\n",
       "\n",
       "    .dataframe tbody tr th {\n",
       "        vertical-align: top;\n",
       "    }\n",
       "\n",
       "    .dataframe thead th {\n",
       "        text-align: right;\n",
       "    }\n",
       "</style>\n",
       "<table border=\"1\" class=\"dataframe\">\n",
       "  <thead>\n",
       "    <tr style=\"text-align: right;\">\n",
       "      <th></th>\n",
       "      <th>group</th>\n",
       "      <th>SubID</th>\n",
       "      <th>LR</th>\n",
       "      <th>Out_Sens</th>\n",
       "      <th>Res_Cons</th>\n",
       "      <th>Loss_Aver</th>\n",
       "      <th>Gain_Impa</th>\n",
       "      <th>Loss_Impa</th>\n",
       "      <th>Deca_Rate</th>\n",
       "      <th>RL_weight</th>\n",
       "    </tr>\n",
       "  </thead>\n",
       "  <tbody>\n",
       "    <tr>\n",
       "      <th>0</th>\n",
       "      <td>young</td>\n",
       "      <td>1</td>\n",
       "      <td>0.038441</td>\n",
       "      <td>0.630402</td>\n",
       "      <td>1.207295</td>\n",
       "      <td>1.050323</td>\n",
       "      <td>-0.535035</td>\n",
       "      <td>-1.913099</td>\n",
       "      <td>0.669323</td>\n",
       "      <td>0.660446</td>\n",
       "    </tr>\n",
       "    <tr>\n",
       "      <th>1</th>\n",
       "      <td>young</td>\n",
       "      <td>2</td>\n",
       "      <td>0.045673</td>\n",
       "      <td>0.630331</td>\n",
       "      <td>1.628191</td>\n",
       "      <td>0.205205</td>\n",
       "      <td>-0.133367</td>\n",
       "      <td>-1.423580</td>\n",
       "      <td>0.427207</td>\n",
       "      <td>0.719352</td>\n",
       "    </tr>\n",
       "    <tr>\n",
       "      <th>2</th>\n",
       "      <td>young</td>\n",
       "      <td>3</td>\n",
       "      <td>0.045468</td>\n",
       "      <td>0.602974</td>\n",
       "      <td>1.395572</td>\n",
       "      <td>0.383055</td>\n",
       "      <td>-0.344822</td>\n",
       "      <td>-1.719826</td>\n",
       "      <td>0.493249</td>\n",
       "      <td>0.688723</td>\n",
       "    </tr>\n",
       "    <tr>\n",
       "      <th>3</th>\n",
       "      <td>young</td>\n",
       "      <td>4</td>\n",
       "      <td>0.035789</td>\n",
       "      <td>0.635677</td>\n",
       "      <td>1.067831</td>\n",
       "      <td>0.823790</td>\n",
       "      <td>-0.229192</td>\n",
       "      <td>-1.484455</td>\n",
       "      <td>0.625835</td>\n",
       "      <td>0.675971</td>\n",
       "    </tr>\n",
       "    <tr>\n",
       "      <th>4</th>\n",
       "      <td>young</td>\n",
       "      <td>5</td>\n",
       "      <td>0.060655</td>\n",
       "      <td>0.636276</td>\n",
       "      <td>1.802964</td>\n",
       "      <td>0.329246</td>\n",
       "      <td>-0.616020</td>\n",
       "      <td>-2.561017</td>\n",
       "      <td>0.439912</td>\n",
       "      <td>0.655563</td>\n",
       "    </tr>\n",
       "  </tbody>\n",
       "</table>\n",
       "</div>"
      ],
      "text/plain": [
       "   group  SubID        LR  Out_Sens  Res_Cons  Loss_Aver  Gain_Impa  \\\n",
       "0  young      1  0.038441  0.630402  1.207295   1.050323  -0.535035   \n",
       "1  young      2  0.045673  0.630331  1.628191   0.205205  -0.133367   \n",
       "2  young      3  0.045468  0.602974  1.395572   0.383055  -0.344822   \n",
       "3  young      4  0.035789  0.635677  1.067831   0.823790  -0.229192   \n",
       "4  young      5  0.060655  0.636276  1.802964   0.329246  -0.616020   \n",
       "\n",
       "   Loss_Impa  Deca_Rate  RL_weight  \n",
       "0  -1.913099   0.669323   0.660446  \n",
       "1  -1.423580   0.427207   0.719352  \n",
       "2  -1.719826   0.493249   0.688723  \n",
       "3  -1.484455   0.625835   0.675971  \n",
       "4  -2.561017   0.439912   0.655563  "
      ]
     },
     "execution_count": 9,
     "metadata": {},
     "output_type": "execute_result"
    }
   ],
   "source": [
    "df2.head()"
   ]
  },
  {
   "cell_type": "code",
   "execution_count": null,
   "metadata": {},
   "outputs": [],
   "source": []
  },
  {
   "cell_type": "markdown",
   "metadata": {},
   "source": [
    "### Read in data 3"
   ]
  },
  {
   "cell_type": "code",
   "execution_count": 10,
   "metadata": {},
   "outputs": [],
   "source": [
    "df3 = pd.read_csv(\"./data_3.csv\")"
   ]
  },
  {
   "cell_type": "markdown",
   "metadata": {},
   "source": [
    "#### Inspect the data"
   ]
  },
  {
   "cell_type": "code",
   "execution_count": 11,
   "metadata": {
    "scrolled": true
   },
   "outputs": [
    {
     "data": {
      "text/html": [
       "<div>\n",
       "<style scoped>\n",
       "    .dataframe tbody tr th:only-of-type {\n",
       "        vertical-align: middle;\n",
       "    }\n",
       "\n",
       "    .dataframe tbody tr th {\n",
       "        vertical-align: top;\n",
       "    }\n",
       "\n",
       "    .dataframe thead th {\n",
       "        text-align: right;\n",
       "    }\n",
       "</style>\n",
       "<table border=\"1\" class=\"dataframe\">\n",
       "  <thead>\n",
       "    <tr style=\"text-align: right;\">\n",
       "      <th></th>\n",
       "      <th>subjID</th>\n",
       "      <th>A+</th>\n",
       "      <th>A-</th>\n",
       "      <th>K</th>\n",
       "      <th>BetaF</th>\n",
       "      <th>BetaP</th>\n",
       "      <th>A+-A-</th>\n",
       "    </tr>\n",
       "  </thead>\n",
       "  <tbody>\n",
       "    <tr>\n",
       "      <th>0</th>\n",
       "      <td>old</td>\n",
       "      <td>0.324444</td>\n",
       "      <td>0.068862</td>\n",
       "      <td>1.502130</td>\n",
       "      <td>2.523191</td>\n",
       "      <td>-5.547480</td>\n",
       "      <td>0.255581</td>\n",
       "    </tr>\n",
       "    <tr>\n",
       "      <th>1</th>\n",
       "      <td>old</td>\n",
       "      <td>0.885744</td>\n",
       "      <td>0.120145</td>\n",
       "      <td>0.012591</td>\n",
       "      <td>3.193244</td>\n",
       "      <td>-9.159800</td>\n",
       "      <td>0.765598</td>\n",
       "    </tr>\n",
       "    <tr>\n",
       "      <th>2</th>\n",
       "      <td>old</td>\n",
       "      <td>0.318205</td>\n",
       "      <td>0.078128</td>\n",
       "      <td>1.927309</td>\n",
       "      <td>0.615708</td>\n",
       "      <td>9.272336</td>\n",
       "      <td>0.240077</td>\n",
       "    </tr>\n",
       "    <tr>\n",
       "      <th>3</th>\n",
       "      <td>old</td>\n",
       "      <td>0.728192</td>\n",
       "      <td>0.106737</td>\n",
       "      <td>0.388407</td>\n",
       "      <td>2.595746</td>\n",
       "      <td>-2.239555</td>\n",
       "      <td>0.621455</td>\n",
       "    </tr>\n",
       "    <tr>\n",
       "      <th>4</th>\n",
       "      <td>old</td>\n",
       "      <td>0.356229</td>\n",
       "      <td>0.091987</td>\n",
       "      <td>1.810674</td>\n",
       "      <td>0.508605</td>\n",
       "      <td>9.825699</td>\n",
       "      <td>0.264241</td>\n",
       "    </tr>\n",
       "  </tbody>\n",
       "</table>\n",
       "</div>"
      ],
      "text/plain": [
       "  subjID        A+        A-         K     BetaF     BetaP     A+-A-\n",
       "0    old  0.324444  0.068862  1.502130  2.523191 -5.547480  0.255581\n",
       "1    old  0.885744  0.120145  0.012591  3.193244 -9.159800  0.765598\n",
       "2    old  0.318205  0.078128  1.927309  0.615708  9.272336  0.240077\n",
       "3    old  0.728192  0.106737  0.388407  2.595746 -2.239555  0.621455\n",
       "4    old  0.356229  0.091987  1.810674  0.508605  9.825699  0.264241"
      ]
     },
     "execution_count": 11,
     "metadata": {},
     "output_type": "execute_result"
    }
   ],
   "source": [
    "df3.head()"
   ]
  },
  {
   "cell_type": "code",
   "execution_count": 12,
   "metadata": {},
   "outputs": [
    {
     "data": {
      "text/html": [
       "<div>\n",
       "<style scoped>\n",
       "    .dataframe tbody tr th:only-of-type {\n",
       "        vertical-align: middle;\n",
       "    }\n",
       "\n",
       "    .dataframe tbody tr th {\n",
       "        vertical-align: top;\n",
       "    }\n",
       "\n",
       "    .dataframe thead th {\n",
       "        text-align: right;\n",
       "    }\n",
       "</style>\n",
       "<table border=\"1\" class=\"dataframe\">\n",
       "  <thead>\n",
       "    <tr style=\"text-align: right;\">\n",
       "      <th></th>\n",
       "      <th>A+</th>\n",
       "      <th>A-</th>\n",
       "      <th>K</th>\n",
       "      <th>BetaF</th>\n",
       "      <th>BetaP</th>\n",
       "      <th>A+-A-</th>\n",
       "    </tr>\n",
       "  </thead>\n",
       "  <tbody>\n",
       "    <tr>\n",
       "      <th>count</th>\n",
       "      <td>153.000000</td>\n",
       "      <td>153.000000</td>\n",
       "      <td>153.000000</td>\n",
       "      <td>153.000000</td>\n",
       "      <td>153.000000</td>\n",
       "      <td>153.000000</td>\n",
       "    </tr>\n",
       "    <tr>\n",
       "      <th>mean</th>\n",
       "      <td>0.269832</td>\n",
       "      <td>0.081703</td>\n",
       "      <td>0.827168</td>\n",
       "      <td>1.635854</td>\n",
       "      <td>0.008024</td>\n",
       "      <td>0.188130</td>\n",
       "    </tr>\n",
       "    <tr>\n",
       "      <th>std</th>\n",
       "      <td>0.179846</td>\n",
       "      <td>0.050822</td>\n",
       "      <td>0.547490</td>\n",
       "      <td>1.100305</td>\n",
       "      <td>5.473899</td>\n",
       "      <td>0.171373</td>\n",
       "    </tr>\n",
       "    <tr>\n",
       "      <th>min</th>\n",
       "      <td>0.042396</td>\n",
       "      <td>0.020484</td>\n",
       "      <td>0.012591</td>\n",
       "      <td>-1.883399</td>\n",
       "      <td>-16.509583</td>\n",
       "      <td>-0.189094</td>\n",
       "    </tr>\n",
       "    <tr>\n",
       "      <th>25%</th>\n",
       "      <td>0.131825</td>\n",
       "      <td>0.044090</td>\n",
       "      <td>0.394005</td>\n",
       "      <td>0.967837</td>\n",
       "      <td>-3.315013</td>\n",
       "      <td>0.065641</td>\n",
       "    </tr>\n",
       "    <tr>\n",
       "      <th>50%</th>\n",
       "      <td>0.229936</td>\n",
       "      <td>0.066459</td>\n",
       "      <td>0.737739</td>\n",
       "      <td>1.714574</td>\n",
       "      <td>-1.159481</td>\n",
       "      <td>0.150801</td>\n",
       "    </tr>\n",
       "    <tr>\n",
       "      <th>75%</th>\n",
       "      <td>0.331607</td>\n",
       "      <td>0.113113</td>\n",
       "      <td>1.161452</td>\n",
       "      <td>2.304304</td>\n",
       "      <td>2.649135</td>\n",
       "      <td>0.263862</td>\n",
       "    </tr>\n",
       "    <tr>\n",
       "      <th>max</th>\n",
       "      <td>0.885744</td>\n",
       "      <td>0.318413</td>\n",
       "      <td>2.155364</td>\n",
       "      <td>4.502968</td>\n",
       "      <td>12.437878</td>\n",
       "      <td>0.765598</td>\n",
       "    </tr>\n",
       "  </tbody>\n",
       "</table>\n",
       "</div>"
      ],
      "text/plain": [
       "               A+          A-           K       BetaF       BetaP       A+-A-\n",
       "count  153.000000  153.000000  153.000000  153.000000  153.000000  153.000000\n",
       "mean     0.269832    0.081703    0.827168    1.635854    0.008024    0.188130\n",
       "std      0.179846    0.050822    0.547490    1.100305    5.473899    0.171373\n",
       "min      0.042396    0.020484    0.012591   -1.883399  -16.509583   -0.189094\n",
       "25%      0.131825    0.044090    0.394005    0.967837   -3.315013    0.065641\n",
       "50%      0.229936    0.066459    0.737739    1.714574   -1.159481    0.150801\n",
       "75%      0.331607    0.113113    1.161452    2.304304    2.649135    0.263862\n",
       "max      0.885744    0.318413    2.155364    4.502968   12.437878    0.765598"
      ]
     },
     "execution_count": 12,
     "metadata": {},
     "output_type": "execute_result"
    }
   ],
   "source": [
    "df3.describe()"
   ]
  },
  {
   "cell_type": "code",
   "execution_count": null,
   "metadata": {},
   "outputs": [],
   "source": []
  },
  {
   "cell_type": "markdown",
   "metadata": {},
   "source": [
    "## Determine the best number of clusters"
   ]
  },
  {
   "cell_type": "markdown",
   "metadata": {},
   "source": [
    "#### Set up the data for clustering"
   ]
  },
  {
   "cell_type": "code",
   "execution_count": 13,
   "metadata": {},
   "outputs": [],
   "source": [
    "train_x = df1.iloc[:, 2:]"
   ]
  },
  {
   "cell_type": "code",
   "execution_count": 14,
   "metadata": {},
   "outputs": [
    {
     "data": {
      "text/html": [
       "<div>\n",
       "<style scoped>\n",
       "    .dataframe tbody tr th:only-of-type {\n",
       "        vertical-align: middle;\n",
       "    }\n",
       "\n",
       "    .dataframe tbody tr th {\n",
       "        vertical-align: top;\n",
       "    }\n",
       "\n",
       "    .dataframe thead th {\n",
       "        text-align: right;\n",
       "    }\n",
       "</style>\n",
       "<table border=\"1\" class=\"dataframe\">\n",
       "  <thead>\n",
       "    <tr style=\"text-align: right;\">\n",
       "      <th></th>\n",
       "      <th>LR</th>\n",
       "      <th>Outcome_Sens</th>\n",
       "      <th>Response_cons</th>\n",
       "      <th>Loss_Aver</th>\n",
       "    </tr>\n",
       "  </thead>\n",
       "  <tbody>\n",
       "    <tr>\n",
       "      <th>0</th>\n",
       "      <td>0.159011</td>\n",
       "      <td>0.487522</td>\n",
       "      <td>0.686815</td>\n",
       "      <td>0.954498</td>\n",
       "    </tr>\n",
       "    <tr>\n",
       "      <th>1</th>\n",
       "      <td>0.064666</td>\n",
       "      <td>0.511008</td>\n",
       "      <td>1.391790</td>\n",
       "      <td>0.295529</td>\n",
       "    </tr>\n",
       "    <tr>\n",
       "      <th>2</th>\n",
       "      <td>0.113089</td>\n",
       "      <td>0.465141</td>\n",
       "      <td>0.918734</td>\n",
       "      <td>0.533232</td>\n",
       "    </tr>\n",
       "    <tr>\n",
       "      <th>3</th>\n",
       "      <td>0.089273</td>\n",
       "      <td>0.500391</td>\n",
       "      <td>0.703737</td>\n",
       "      <td>0.869859</td>\n",
       "    </tr>\n",
       "    <tr>\n",
       "      <th>4</th>\n",
       "      <td>0.233898</td>\n",
       "      <td>0.488053</td>\n",
       "      <td>0.897867</td>\n",
       "      <td>0.511095</td>\n",
       "    </tr>\n",
       "  </tbody>\n",
       "</table>\n",
       "</div>"
      ],
      "text/plain": [
       "         LR  Outcome_Sens  Response_cons  Loss_Aver\n",
       "0  0.159011      0.487522       0.686815   0.954498\n",
       "1  0.064666      0.511008       1.391790   0.295529\n",
       "2  0.113089      0.465141       0.918734   0.533232\n",
       "3  0.089273      0.500391       0.703737   0.869859\n",
       "4  0.233898      0.488053       0.897867   0.511095"
      ]
     },
     "execution_count": 14,
     "metadata": {},
     "output_type": "execute_result"
    }
   ],
   "source": [
    "train_x.head()"
   ]
  },
  {
   "cell_type": "code",
   "execution_count": 15,
   "metadata": {},
   "outputs": [
    {
     "data": {
      "text/html": [
       "<div>\n",
       "<style scoped>\n",
       "    .dataframe tbody tr th:only-of-type {\n",
       "        vertical-align: middle;\n",
       "    }\n",
       "\n",
       "    .dataframe tbody tr th {\n",
       "        vertical-align: top;\n",
       "    }\n",
       "\n",
       "    .dataframe thead th {\n",
       "        text-align: right;\n",
       "    }\n",
       "</style>\n",
       "<table border=\"1\" class=\"dataframe\">\n",
       "  <thead>\n",
       "    <tr style=\"text-align: right;\">\n",
       "      <th></th>\n",
       "      <th>LR</th>\n",
       "      <th>Outcome_Sens</th>\n",
       "      <th>Response_cons</th>\n",
       "      <th>Loss_Aver</th>\n",
       "    </tr>\n",
       "  </thead>\n",
       "  <tbody>\n",
       "    <tr>\n",
       "      <th>count</th>\n",
       "      <td>153.000000</td>\n",
       "      <td>153.000000</td>\n",
       "      <td>153.000000</td>\n",
       "      <td>153.000000</td>\n",
       "    </tr>\n",
       "    <tr>\n",
       "      <th>mean</th>\n",
       "      <td>0.254555</td>\n",
       "      <td>0.490149</td>\n",
       "      <td>1.047426</td>\n",
       "      <td>0.771240</td>\n",
       "    </tr>\n",
       "    <tr>\n",
       "      <th>std</th>\n",
       "      <td>0.237008</td>\n",
       "      <td>0.155386</td>\n",
       "      <td>0.400147</td>\n",
       "      <td>0.651220</td>\n",
       "    </tr>\n",
       "    <tr>\n",
       "      <th>min</th>\n",
       "      <td>0.024038</td>\n",
       "      <td>0.049304</td>\n",
       "      <td>0.590758</td>\n",
       "      <td>0.043900</td>\n",
       "    </tr>\n",
       "    <tr>\n",
       "      <th>25%</th>\n",
       "      <td>0.089273</td>\n",
       "      <td>0.401523</td>\n",
       "      <td>0.730751</td>\n",
       "      <td>0.282991</td>\n",
       "    </tr>\n",
       "    <tr>\n",
       "      <th>50%</th>\n",
       "      <td>0.158341</td>\n",
       "      <td>0.490751</td>\n",
       "      <td>0.918049</td>\n",
       "      <td>0.660665</td>\n",
       "    </tr>\n",
       "    <tr>\n",
       "      <th>75%</th>\n",
       "      <td>0.294708</td>\n",
       "      <td>0.560787</td>\n",
       "      <td>1.284732</td>\n",
       "      <td>1.054360</td>\n",
       "    </tr>\n",
       "    <tr>\n",
       "      <th>max</th>\n",
       "      <td>0.942930</td>\n",
       "      <td>0.925102</td>\n",
       "      <td>2.449047</td>\n",
       "      <td>4.084854</td>\n",
       "    </tr>\n",
       "  </tbody>\n",
       "</table>\n",
       "</div>"
      ],
      "text/plain": [
       "               LR  Outcome_Sens  Response_cons   Loss_Aver\n",
       "count  153.000000    153.000000     153.000000  153.000000\n",
       "mean     0.254555      0.490149       1.047426    0.771240\n",
       "std      0.237008      0.155386       0.400147    0.651220\n",
       "min      0.024038      0.049304       0.590758    0.043900\n",
       "25%      0.089273      0.401523       0.730751    0.282991\n",
       "50%      0.158341      0.490751       0.918049    0.660665\n",
       "75%      0.294708      0.560787       1.284732    1.054360\n",
       "max      0.942930      0.925102       2.449047    4.084854"
      ]
     },
     "execution_count": 15,
     "metadata": {},
     "output_type": "execute_result"
    }
   ],
   "source": [
    "train_x.describe()"
   ]
  },
  {
   "cell_type": "markdown",
   "metadata": {},
   "source": [
    "## Create an elbow curve to determine the best number of clusters"
   ]
  },
  {
   "cell_type": "code",
   "execution_count": 16,
   "metadata": {
    "scrolled": true
   },
   "outputs": [
    {
     "data": {
      "image/png": "[encoded data removed]",
      "text/plain": [
       "<Figure size 432x288 with 1 Axes>"
      ]
     },
     "metadata": {},
     "output_type": "display_data"
    }
   ],
   "source": [
    "col_1 = train_x.iloc[:, 0]\n",
    "col_2 = train_x.iloc[:, 1]\n",
    "\n",
    "# create new plot and data\n",
    "X = np.array(list(zip(col_1, col_2))).reshape(len(col_1), 2)\n",
    "\n",
    "# k means determine k\n",
    "distortions = []\n",
    "K = range(1,10)\n",
    "for k in K:\n",
    "    kmeanModel = KMeans(n_clusters=k).fit(X)\n",
    "    kmeanModel.fit(X)\n",
    "    distortions.append(sum(np.min(cdist(X, kmeanModel.cluster_centers_, 'euclidean'), axis=1)) / X.shape[0])\n",
    "\n",
    "# Plot the elbow\n",
    "plt.plot(K, distortions, 'bx-')\n",
    "plt.xlabel('# Clusters')\n",
    "plt.ylabel('Distortion')\n",
    "plt.ylim([0, 0.25])\n",
    "plt.title('The Elbow Method showing the optimal number of clusters')\n",
    "plt.show()"
   ]
  },
  {
   "cell_type": "markdown",
   "metadata": {},
   "source": [
    "### Use the above graph to set the number of clusters"
   ]
  },
  {
   "cell_type": "code",
   "execution_count": 17,
   "metadata": {},
   "outputs": [],
   "source": [
    "num_clusters = 7"
   ]
  },
  {
   "cell_type": "markdown",
   "metadata": {},
   "source": [
    "## Find out which of the 7 clusters each df row is in"
   ]
  },
  {
   "cell_type": "markdown",
   "metadata": {},
   "source": [
    "#### Cluster the data"
   ]
  },
  {
   "cell_type": "code",
   "execution_count": 18,
   "metadata": {},
   "outputs": [],
   "source": [
    "clustering = SpectralClustering(n_clusters=num_clusters, assign_labels=\"discretize\", random_state=0).fit(train_x)\n",
    "clusters_label = pd.DataFrame(clustering.labels_).rename(columns={0: \"Cluster\"})"
   ]
  },
  {
   "cell_type": "markdown",
   "metadata": {},
   "source": [
    "#### Add a new column to the original data with the cluster each row is in"
   ]
  },
  {
   "cell_type": "code",
   "execution_count": 19,
   "metadata": {
    "scrolled": true
   },
   "outputs": [],
   "source": [
    "full_df = pd.concat([df1, clusters_label], axis=1)"
   ]
  },
  {
   "cell_type": "code",
   "execution_count": 20,
   "metadata": {
    "scrolled": true
   },
   "outputs": [
    {
     "data": {
      "text/html": [
       "<div>\n",
       "<style scoped>\n",
       "    .dataframe tbody tr th:only-of-type {\n",
       "        vertical-align: middle;\n",
       "    }\n",
       "\n",
       "    .dataframe tbody tr th {\n",
       "        vertical-align: top;\n",
       "    }\n",
       "\n",
       "    .dataframe thead th {\n",
       "        text-align: right;\n",
       "    }\n",
       "</style>\n",
       "<table border=\"1\" class=\"dataframe\">\n",
       "  <thead>\n",
       "    <tr style=\"text-align: right;\">\n",
       "      <th></th>\n",
       "      <th>group</th>\n",
       "      <th>SubID</th>\n",
       "      <th>LR</th>\n",
       "      <th>Outcome_Sens</th>\n",
       "      <th>Response_cons</th>\n",
       "      <th>Loss_Aver</th>\n",
       "      <th>Cluster</th>\n",
       "    </tr>\n",
       "  </thead>\n",
       "  <tbody>\n",
       "    <tr>\n",
       "      <th>0</th>\n",
       "      <td>young</td>\n",
       "      <td>1</td>\n",
       "      <td>0.159011</td>\n",
       "      <td>0.487522</td>\n",
       "      <td>0.686815</td>\n",
       "      <td>0.954498</td>\n",
       "      <td>2</td>\n",
       "    </tr>\n",
       "    <tr>\n",
       "      <th>1</th>\n",
       "      <td>young</td>\n",
       "      <td>2</td>\n",
       "      <td>0.064666</td>\n",
       "      <td>0.511008</td>\n",
       "      <td>1.391790</td>\n",
       "      <td>0.295529</td>\n",
       "      <td>4</td>\n",
       "    </tr>\n",
       "    <tr>\n",
       "      <th>2</th>\n",
       "      <td>young</td>\n",
       "      <td>3</td>\n",
       "      <td>0.113089</td>\n",
       "      <td>0.465141</td>\n",
       "      <td>0.918734</td>\n",
       "      <td>0.533232</td>\n",
       "      <td>2</td>\n",
       "    </tr>\n",
       "    <tr>\n",
       "      <th>3</th>\n",
       "      <td>young</td>\n",
       "      <td>4</td>\n",
       "      <td>0.089273</td>\n",
       "      <td>0.500391</td>\n",
       "      <td>0.703737</td>\n",
       "      <td>0.869859</td>\n",
       "      <td>2</td>\n",
       "    </tr>\n",
       "    <tr>\n",
       "      <th>4</th>\n",
       "      <td>young</td>\n",
       "      <td>5</td>\n",
       "      <td>0.233898</td>\n",
       "      <td>0.488053</td>\n",
       "      <td>0.897867</td>\n",
       "      <td>0.511095</td>\n",
       "      <td>2</td>\n",
       "    </tr>\n",
       "  </tbody>\n",
       "</table>\n",
       "</div>"
      ],
      "text/plain": [
       "   group  SubID        LR  Outcome_Sens  Response_cons  Loss_Aver  Cluster\n",
       "0  young      1  0.159011      0.487522       0.686815   0.954498        2\n",
       "1  young      2  0.064666      0.511008       1.391790   0.295529        4\n",
       "2  young      3  0.113089      0.465141       0.918734   0.533232        2\n",
       "3  young      4  0.089273      0.500391       0.703737   0.869859        2\n",
       "4  young      5  0.233898      0.488053       0.897867   0.511095        2"
      ]
     },
     "execution_count": 20,
     "metadata": {},
     "output_type": "execute_result"
    }
   ],
   "source": [
    "full_df.head()"
   ]
  },
  {
   "cell_type": "code",
   "execution_count": null,
   "metadata": {},
   "outputs": [],
   "source": []
  },
  {
   "cell_type": "markdown",
   "metadata": {},
   "source": [
    "## Plot the clusters"
   ]
  },
  {
   "cell_type": "markdown",
   "metadata": {},
   "source": [
    "#### Choose the columns to plot"
   ]
  },
  {
   "cell_type": "code",
   "execution_count": 21,
   "metadata": {},
   "outputs": [],
   "source": [
    "x = full_df.iloc[:, 2]\n",
    "y = full_df.iloc[:, 3]"
   ]
  },
  {
   "cell_type": "markdown",
   "metadata": {},
   "source": [
    "#### Plot the original data"
   ]
  },
  {
   "cell_type": "code",
   "execution_count": 22,
   "metadata": {
    "scrolled": true
   },
   "outputs": [
    {
     "data": {
      "image/png": "[encoded data removed]",
      "text/plain": [
       "<Figure size 432x288 with 1 Axes>"
      ]
     },
     "metadata": {},
     "output_type": "display_data"
    }
   ],
   "source": [
    "plt.plot()\n",
    "plt.xlim([0, 1])\n",
    "plt.ylim([0, 1])\n",
    "plt.title('Dataset')\n",
    "plt.scatter(x, y)\n",
    "plt.show()"
   ]
  },
  {
   "cell_type": "markdown",
   "metadata": {},
   "source": [
    "#### Plot this data with the clusters"
   ]
  },
  {
   "cell_type": "code",
   "execution_count": 23,
   "metadata": {
    "scrolled": true
   },
   "outputs": [
    {
     "data": {
      "text/plain": [
       "<matplotlib.collections.PathCollection at 0x1a26663a7b8>"
      ]
     },
     "execution_count": 23,
     "metadata": {},
     "output_type": "execute_result"
    },
    {
     "data": {
      "image/png": "[encoded data removed]",
      "text/plain": [
       "<Figure size 432x288 with 1 Axes>"
      ]
     },
     "metadata": {},
     "output_type": "display_data"
    }
   ],
   "source": [
    "plt.scatter(x, y, c=full_df[\"Cluster\"])"
   ]
  },
  {
   "cell_type": "markdown",
   "metadata": {},
   "source": [
    "#### Plot this data with the clusters and their centroids"
   ]
  },
  {
   "cell_type": "code",
   "execution_count": 24,
   "metadata": {},
   "outputs": [
    {
     "data": {
      "image/png": "[encoded data removed]",
      "text/plain": [
       "<Figure size 432x288 with 1 Axes>"
      ]
     },
     "metadata": {},
     "output_type": "display_data"
    }
   ],
   "source": [
    "kmeans = KMeans(n_clusters=num_clusters).fit(train_x)\n",
    "centroids = kmeans.cluster_centers_\n",
    "\n",
    "plt.scatter(x, y, c= kmeans.labels_.astype(float), s=50, alpha=0.5)\n",
    "plt.scatter(centroids[:, 0], centroids[:, 1], c='red', s=50)\n",
    "plt.show()"
   ]
  },
  {
   "cell_type": "code",
   "execution_count": null,
   "metadata": {},
   "outputs": [],
   "source": []
  },
  {
   "cell_type": "markdown",
   "metadata": {},
   "source": [
    "## See how the 'Old' and 'Young' fall into these clusters"
   ]
  },
  {
   "cell_type": "code",
   "execution_count": 25,
   "metadata": {},
   "outputs": [
    {
     "data": {
      "text/html": [
       "<div>\n",
       "<style scoped>\n",
       "    .dataframe tbody tr th:only-of-type {\n",
       "        vertical-align: middle;\n",
       "    }\n",
       "\n",
       "    .dataframe tbody tr th {\n",
       "        vertical-align: top;\n",
       "    }\n",
       "\n",
       "    .dataframe thead th {\n",
       "        text-align: right;\n",
       "    }\n",
       "</style>\n",
       "<table border=\"1\" class=\"dataframe\">\n",
       "  <thead>\n",
       "    <tr style=\"text-align: right;\">\n",
       "      <th></th>\n",
       "      <th>group</th>\n",
       "      <th>SubID</th>\n",
       "      <th>LR</th>\n",
       "      <th>Outcome_Sens</th>\n",
       "      <th>Response_cons</th>\n",
       "      <th>Loss_Aver</th>\n",
       "      <th>Cluster</th>\n",
       "    </tr>\n",
       "  </thead>\n",
       "  <tbody>\n",
       "    <tr>\n",
       "      <th>0</th>\n",
       "      <td>young</td>\n",
       "      <td>1</td>\n",
       "      <td>0.159011</td>\n",
       "      <td>0.487522</td>\n",
       "      <td>0.686815</td>\n",
       "      <td>0.954498</td>\n",
       "      <td>2</td>\n",
       "    </tr>\n",
       "    <tr>\n",
       "      <th>1</th>\n",
       "      <td>young</td>\n",
       "      <td>2</td>\n",
       "      <td>0.064666</td>\n",
       "      <td>0.511008</td>\n",
       "      <td>1.391790</td>\n",
       "      <td>0.295529</td>\n",
       "      <td>4</td>\n",
       "    </tr>\n",
       "    <tr>\n",
       "      <th>2</th>\n",
       "      <td>young</td>\n",
       "      <td>3</td>\n",
       "      <td>0.113089</td>\n",
       "      <td>0.465141</td>\n",
       "      <td>0.918734</td>\n",
       "      <td>0.533232</td>\n",
       "      <td>2</td>\n",
       "    </tr>\n",
       "    <tr>\n",
       "      <th>3</th>\n",
       "      <td>young</td>\n",
       "      <td>4</td>\n",
       "      <td>0.089273</td>\n",
       "      <td>0.500391</td>\n",
       "      <td>0.703737</td>\n",
       "      <td>0.869859</td>\n",
       "      <td>2</td>\n",
       "    </tr>\n",
       "    <tr>\n",
       "      <th>4</th>\n",
       "      <td>young</td>\n",
       "      <td>5</td>\n",
       "      <td>0.233898</td>\n",
       "      <td>0.488053</td>\n",
       "      <td>0.897867</td>\n",
       "      <td>0.511095</td>\n",
       "      <td>2</td>\n",
       "    </tr>\n",
       "  </tbody>\n",
       "</table>\n",
       "</div>"
      ],
      "text/plain": [
       "   group  SubID        LR  Outcome_Sens  Response_cons  Loss_Aver  Cluster\n",
       "0  young      1  0.159011      0.487522       0.686815   0.954498        2\n",
       "1  young      2  0.064666      0.511008       1.391790   0.295529        4\n",
       "2  young      3  0.113089      0.465141       0.918734   0.533232        2\n",
       "3  young      4  0.089273      0.500391       0.703737   0.869859        2\n",
       "4  young      5  0.233898      0.488053       0.897867   0.511095        2"
      ]
     },
     "execution_count": 25,
     "metadata": {},
     "output_type": "execute_result"
    }
   ],
   "source": [
    "full_df.head()"
   ]
  },
  {
   "cell_type": "markdown",
   "metadata": {},
   "source": [
    "#### Create a dataframe showing how many people people fell into each cluster"
   ]
  },
  {
   "cell_type": "code",
   "execution_count": 26,
   "metadata": {},
   "outputs": [],
   "source": [
    "all_cluster_df = pd.DataFrame(full_df[[\"group\", \"Cluster\"]].groupby(\"Cluster\").count()).rename(columns={\"group\": \"All\"})"
   ]
  },
  {
   "cell_type": "markdown",
   "metadata": {},
   "source": [
    "#### Change 'young' to 1 and 'old' to np.nan"
   ]
  },
  {
   "cell_type": "code",
   "execution_count": 27,
   "metadata": {
    "scrolled": true
   },
   "outputs": [
    {
     "data": {
      "text/html": [
       "<div>\n",
       "<style scoped>\n",
       "    .dataframe tbody tr th:only-of-type {\n",
       "        vertical-align: middle;\n",
       "    }\n",
       "\n",
       "    .dataframe tbody tr th {\n",
       "        vertical-align: top;\n",
       "    }\n",
       "\n",
       "    .dataframe thead th {\n",
       "        text-align: right;\n",
       "    }\n",
       "</style>\n",
       "<table border=\"1\" class=\"dataframe\">\n",
       "  <thead>\n",
       "    <tr style=\"text-align: right;\">\n",
       "      <th></th>\n",
       "      <th>group</th>\n",
       "      <th>SubID</th>\n",
       "      <th>LR</th>\n",
       "      <th>Outcome_Sens</th>\n",
       "      <th>Response_cons</th>\n",
       "      <th>Loss_Aver</th>\n",
       "      <th>Cluster</th>\n",
       "    </tr>\n",
       "  </thead>\n",
       "  <tbody>\n",
       "    <tr>\n",
       "      <th>0</th>\n",
       "      <td>1.0</td>\n",
       "      <td>1</td>\n",
       "      <td>0.159011</td>\n",
       "      <td>0.487522</td>\n",
       "      <td>0.686815</td>\n",
       "      <td>0.954498</td>\n",
       "      <td>2</td>\n",
       "    </tr>\n",
       "    <tr>\n",
       "      <th>1</th>\n",
       "      <td>1.0</td>\n",
       "      <td>2</td>\n",
       "      <td>0.064666</td>\n",
       "      <td>0.511008</td>\n",
       "      <td>1.391790</td>\n",
       "      <td>0.295529</td>\n",
       "      <td>4</td>\n",
       "    </tr>\n",
       "    <tr>\n",
       "      <th>2</th>\n",
       "      <td>1.0</td>\n",
       "      <td>3</td>\n",
       "      <td>0.113089</td>\n",
       "      <td>0.465141</td>\n",
       "      <td>0.918734</td>\n",
       "      <td>0.533232</td>\n",
       "      <td>2</td>\n",
       "    </tr>\n",
       "    <tr>\n",
       "      <th>3</th>\n",
       "      <td>1.0</td>\n",
       "      <td>4</td>\n",
       "      <td>0.089273</td>\n",
       "      <td>0.500391</td>\n",
       "      <td>0.703737</td>\n",
       "      <td>0.869859</td>\n",
       "      <td>2</td>\n",
       "    </tr>\n",
       "    <tr>\n",
       "      <th>4</th>\n",
       "      <td>1.0</td>\n",
       "      <td>5</td>\n",
       "      <td>0.233898</td>\n",
       "      <td>0.488053</td>\n",
       "      <td>0.897867</td>\n",
       "      <td>0.511095</td>\n",
       "      <td>2</td>\n",
       "    </tr>\n",
       "  </tbody>\n",
       "</table>\n",
       "</div>"
      ],
      "text/plain": [
       "   group  SubID        LR  Outcome_Sens  Response_cons  Loss_Aver  Cluster\n",
       "0    1.0      1  0.159011      0.487522       0.686815   0.954498        2\n",
       "1    1.0      2  0.064666      0.511008       1.391790   0.295529        4\n",
       "2    1.0      3  0.113089      0.465141       0.918734   0.533232        2\n",
       "3    1.0      4  0.089273      0.500391       0.703737   0.869859        2\n",
       "4    1.0      5  0.233898      0.488053       0.897867   0.511095        2"
      ]
     },
     "execution_count": 27,
     "metadata": {},
     "output_type": "execute_result"
    }
   ],
   "source": [
    "full_df[\"group\"] = full_df[\"group\"].replace('old', np.nan).replace('young', 1)\n",
    "full_df.head()"
   ]
  },
  {
   "cell_type": "markdown",
   "metadata": {},
   "source": [
    "#### Create a dataframe showing how many young people fell into each cluster"
   ]
  },
  {
   "cell_type": "code",
   "execution_count": 28,
   "metadata": {},
   "outputs": [],
   "source": [
    "young_cluster_df = pd.DataFrame(full_df[[\"group\", \"Cluster\"]].groupby(\"Cluster\").count()).rename(columns={\"group\": \"Young\"})"
   ]
  },
  {
   "cell_type": "markdown",
   "metadata": {},
   "source": [
    "#### Create a dataframe showing how many old people fell into each cluster"
   ]
  },
  {
   "cell_type": "code",
   "execution_count": 29,
   "metadata": {
    "scrolled": true
   },
   "outputs": [],
   "source": [
    "old_cluster_df = pd.DataFrame(full_df[\"group\"].isnull().groupby(full_df[\"Cluster\"]).sum().astype(int)).rename(columns={\"group\": \"Old\"})"
   ]
  },
  {
   "cell_type": "markdown",
   "metadata": {},
   "source": [
    "#### Output how many 'young' and 'old' people fell into each cluster"
   ]
  },
  {
   "cell_type": "code",
   "execution_count": 30,
   "metadata": {},
   "outputs": [
    {
     "data": {
      "text/html": [
       "<div>\n",
       "<style scoped>\n",
       "    .dataframe tbody tr th:only-of-type {\n",
       "        vertical-align: middle;\n",
       "    }\n",
       "\n",
       "    .dataframe tbody tr th {\n",
       "        vertical-align: top;\n",
       "    }\n",
       "\n",
       "    .dataframe thead th {\n",
       "        text-align: right;\n",
       "    }\n",
       "</style>\n",
       "<table border=\"1\" class=\"dataframe\">\n",
       "  <thead>\n",
       "    <tr style=\"text-align: right;\">\n",
       "      <th></th>\n",
       "      <th>All</th>\n",
       "      <th>Young</th>\n",
       "      <th>Old</th>\n",
       "    </tr>\n",
       "    <tr>\n",
       "      <th>Cluster</th>\n",
       "      <th></th>\n",
       "      <th></th>\n",
       "      <th></th>\n",
       "    </tr>\n",
       "  </thead>\n",
       "  <tbody>\n",
       "    <tr>\n",
       "      <th>0</th>\n",
       "      <td>8</td>\n",
       "      <td>5</td>\n",
       "      <td>3</td>\n",
       "    </tr>\n",
       "    <tr>\n",
       "      <th>1</th>\n",
       "      <td>23</td>\n",
       "      <td>2</td>\n",
       "      <td>21</td>\n",
       "    </tr>\n",
       "    <tr>\n",
       "      <th>2</th>\n",
       "      <td>50</td>\n",
       "      <td>37</td>\n",
       "      <td>13</td>\n",
       "    </tr>\n",
       "    <tr>\n",
       "      <th>3</th>\n",
       "      <td>3</td>\n",
       "      <td>3</td>\n",
       "      <td>0</td>\n",
       "    </tr>\n",
       "    <tr>\n",
       "      <th>4</th>\n",
       "      <td>27</td>\n",
       "      <td>9</td>\n",
       "      <td>18</td>\n",
       "    </tr>\n",
       "    <tr>\n",
       "      <th>5</th>\n",
       "      <td>33</td>\n",
       "      <td>29</td>\n",
       "      <td>4</td>\n",
       "    </tr>\n",
       "    <tr>\n",
       "      <th>6</th>\n",
       "      <td>9</td>\n",
       "      <td>5</td>\n",
       "      <td>4</td>\n",
       "    </tr>\n",
       "  </tbody>\n",
       "</table>\n",
       "</div>"
      ],
      "text/plain": [
       "         All  Young  Old\n",
       "Cluster                 \n",
       "0          8      5    3\n",
       "1         23      2   21\n",
       "2         50     37   13\n",
       "3          3      3    0\n",
       "4         27      9   18\n",
       "5         33     29    4\n",
       "6          9      5    4"
      ]
     },
     "execution_count": 30,
     "metadata": {},
     "output_type": "execute_result"
    }
   ],
   "source": [
    "pd.merge(all_cluster_df, pd.merge(young_cluster_df, old_cluster_df, how=\"inner\", on=\"Cluster\"), how=\"inner\", on=\"Cluster\")"
   ]
  },
  {
   "cell_type": "code",
   "execution_count": null,
   "metadata": {},
   "outputs": [],
   "source": []
  }
 ],
 "metadata": {
  "kernelspec": {
   "display_name": "Python 3",
   "language": "python",
   "name": "python3"
  },
  "language_info": {
   "codemirror_mode": {
    "name": "ipython",
    "version": 3
   },
   "file_extension": ".py",
   "mimetype": "text/x-python",
   "name": "python",
   "nbconvert_exporter": "python",
   "pygments_lexer": "ipython3",
   "version": "3.6.5"
  }
 },
 "nbformat": 4,
 "nbformat_minor": 2
}
