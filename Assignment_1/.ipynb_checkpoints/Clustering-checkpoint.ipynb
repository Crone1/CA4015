{
 "cells": [
  {
   "cell_type": "markdown",
   "metadata": {},
   "source": [
    "## Importing Relevant Libraries"
   ]
  },
  {
   "cell_type": "markdown",
   "metadata": {},
   "source": [
    "#### General"
   ]
  },
  {
   "cell_type": "code",
   "execution_count": 2,
   "metadata": {},
   "outputs": [],
   "source": [
    "import pandas as pd\n",
    "import numpy as np"
   ]
  },
  {
   "cell_type": "markdown",
   "metadata": {},
   "source": [
    "#### For clustering"
   ]
  },
  {
   "cell_type": "code",
   "execution_count": 3,
   "metadata": {},
   "outputs": [],
   "source": [
    "from sklearn.cluster import KMeans\n",
    "from sklearn.cluster import SpectralClustering\n",
    "from sklearn import metrics\n",
    "from scipy.spatial.distance import cdist"
   ]
  },
  {
   "cell_type": "markdown",
   "metadata": {},
   "source": [
    "#### For principal component analysis"
   ]
  },
  {
   "cell_type": "code",
   "execution_count": 4,
   "metadata": {},
   "outputs": [],
   "source": [
    "from sklearn.preprocessing import StandardScaler\n",
    "from sklearn.decomposition import PCA"
   ]
  },
  {
   "cell_type": "markdown",
   "metadata": {},
   "source": [
    "#### For plotting"
   ]
  },
  {
   "cell_type": "code",
   "execution_count": 5,
   "metadata": {},
   "outputs": [],
   "source": [
    "import matplotlib.pyplot as plt"
   ]
  },
  {
   "cell_type": "markdown",
   "metadata": {},
   "source": [
    "## Reading in the data"
   ]
  },
  {
   "cell_type": "markdown",
   "metadata": {},
   "source": [
    "### Read in data from PVL-Delta model"
   ]
  },
  {
   "cell_type": "code",
   "execution_count": 6,
   "metadata": {},
   "outputs": [],
   "source": [
    "df_pvl_delta = pd.read_csv(\"./data/parameter_igt_pvl_delta.csv\")"
   ]
  },
  {
   "cell_type": "markdown",
   "metadata": {},
   "source": [
    "#### Inspect"
   ]
  },
  {
   "cell_type": "code",
   "execution_count": 7,
   "metadata": {
    "scrolled": true
   },
   "outputs": [
    {
     "data": {
      "text/html": [
       "<div>\n",
       "<style scoped>\n",
       "    .dataframe tbody tr th:only-of-type {\n",
       "        vertical-align: middle;\n",
       "    }\n",
       "\n",
       "    .dataframe tbody tr th {\n",
       "        vertical-align: top;\n",
       "    }\n",
       "\n",
       "    .dataframe thead th {\n",
       "        text-align: right;\n",
       "    }\n",
       "</style>\n",
       "<table border=\"1\" class=\"dataframe\">\n",
       "  <thead>\n",
       "    <tr style=\"text-align: right;\">\n",
       "      <th></th>\n",
       "      <th>group</th>\n",
       "      <th>SubID</th>\n",
       "      <th>LR</th>\n",
       "      <th>Outcome_Sens</th>\n",
       "      <th>Response_cons</th>\n",
       "      <th>Loss_Aver</th>\n",
       "    </tr>\n",
       "  </thead>\n",
       "  <tbody>\n",
       "    <tr>\n",
       "      <th>0</th>\n",
       "      <td>young</td>\n",
       "      <td>1</td>\n",
       "      <td>0.159011</td>\n",
       "      <td>0.487522</td>\n",
       "      <td>0.686815</td>\n",
       "      <td>0.954498</td>\n",
       "    </tr>\n",
       "    <tr>\n",
       "      <th>1</th>\n",
       "      <td>young</td>\n",
       "      <td>2</td>\n",
       "      <td>0.064666</td>\n",
       "      <td>0.511008</td>\n",
       "      <td>1.391790</td>\n",
       "      <td>0.295529</td>\n",
       "    </tr>\n",
       "    <tr>\n",
       "      <th>2</th>\n",
       "      <td>young</td>\n",
       "      <td>3</td>\n",
       "      <td>0.113089</td>\n",
       "      <td>0.465141</td>\n",
       "      <td>0.918734</td>\n",
       "      <td>0.533232</td>\n",
       "    </tr>\n",
       "    <tr>\n",
       "      <th>3</th>\n",
       "      <td>young</td>\n",
       "      <td>4</td>\n",
       "      <td>0.089273</td>\n",
       "      <td>0.500391</td>\n",
       "      <td>0.703737</td>\n",
       "      <td>0.869859</td>\n",
       "    </tr>\n",
       "    <tr>\n",
       "      <th>4</th>\n",
       "      <td>young</td>\n",
       "      <td>5</td>\n",
       "      <td>0.233898</td>\n",
       "      <td>0.488053</td>\n",
       "      <td>0.897867</td>\n",
       "      <td>0.511095</td>\n",
       "    </tr>\n",
       "  </tbody>\n",
       "</table>\n",
       "</div>"
      ],
      "text/plain": [
       "   group  SubID        LR  Outcome_Sens  Response_cons  Loss_Aver\n",
       "0  young      1  0.159011      0.487522       0.686815   0.954498\n",
       "1  young      2  0.064666      0.511008       1.391790   0.295529\n",
       "2  young      3  0.113089      0.465141       0.918734   0.533232\n",
       "3  young      4  0.089273      0.500391       0.703737   0.869859\n",
       "4  young      5  0.233898      0.488053       0.897867   0.511095"
      ]
     },
     "execution_count": 7,
     "metadata": {},
     "output_type": "execute_result"
    }
   ],
   "source": [
    "df_pvl_delta.head()"
   ]
  },
  {
   "cell_type": "code",
   "execution_count": 8,
   "metadata": {},
   "outputs": [
    {
     "data": {
      "text/html": [
       "<div>\n",
       "<style scoped>\n",
       "    .dataframe tbody tr th:only-of-type {\n",
       "        vertical-align: middle;\n",
       "    }\n",
       "\n",
       "    .dataframe tbody tr th {\n",
       "        vertical-align: top;\n",
       "    }\n",
       "\n",
       "    .dataframe thead th {\n",
       "        text-align: right;\n",
       "    }\n",
       "</style>\n",
       "<table border=\"1\" class=\"dataframe\">\n",
       "  <thead>\n",
       "    <tr style=\"text-align: right;\">\n",
       "      <th></th>\n",
       "      <th>SubID</th>\n",
       "      <th>LR</th>\n",
       "      <th>Outcome_Sens</th>\n",
       "      <th>Response_cons</th>\n",
       "      <th>Loss_Aver</th>\n",
       "    </tr>\n",
       "  </thead>\n",
       "  <tbody>\n",
       "    <tr>\n",
       "      <th>count</th>\n",
       "      <td>153.000000</td>\n",
       "      <td>153.000000</td>\n",
       "      <td>153.000000</td>\n",
       "      <td>153.000000</td>\n",
       "      <td>153.000000</td>\n",
       "    </tr>\n",
       "    <tr>\n",
       "      <th>mean</th>\n",
       "      <td>77.000000</td>\n",
       "      <td>0.254555</td>\n",
       "      <td>0.490149</td>\n",
       "      <td>1.047426</td>\n",
       "      <td>0.771240</td>\n",
       "    </tr>\n",
       "    <tr>\n",
       "      <th>std</th>\n",
       "      <td>44.311398</td>\n",
       "      <td>0.237008</td>\n",
       "      <td>0.155386</td>\n",
       "      <td>0.400147</td>\n",
       "      <td>0.651220</td>\n",
       "    </tr>\n",
       "    <tr>\n",
       "      <th>min</th>\n",
       "      <td>1.000000</td>\n",
       "      <td>0.024038</td>\n",
       "      <td>0.049304</td>\n",
       "      <td>0.590758</td>\n",
       "      <td>0.043900</td>\n",
       "    </tr>\n",
       "    <tr>\n",
       "      <th>25%</th>\n",
       "      <td>39.000000</td>\n",
       "      <td>0.089273</td>\n",
       "      <td>0.401523</td>\n",
       "      <td>0.730751</td>\n",
       "      <td>0.282991</td>\n",
       "    </tr>\n",
       "    <tr>\n",
       "      <th>50%</th>\n",
       "      <td>77.000000</td>\n",
       "      <td>0.158341</td>\n",
       "      <td>0.490751</td>\n",
       "      <td>0.918049</td>\n",
       "      <td>0.660665</td>\n",
       "    </tr>\n",
       "    <tr>\n",
       "      <th>75%</th>\n",
       "      <td>115.000000</td>\n",
       "      <td>0.294708</td>\n",
       "      <td>0.560787</td>\n",
       "      <td>1.284732</td>\n",
       "      <td>1.054360</td>\n",
       "    </tr>\n",
       "    <tr>\n",
       "      <th>max</th>\n",
       "      <td>153.000000</td>\n",
       "      <td>0.942930</td>\n",
       "      <td>0.925102</td>\n",
       "      <td>2.449047</td>\n",
       "      <td>4.084854</td>\n",
       "    </tr>\n",
       "  </tbody>\n",
       "</table>\n",
       "</div>"
      ],
      "text/plain": [
       "            SubID          LR  Outcome_Sens  Response_cons   Loss_Aver\n",
       "count  153.000000  153.000000    153.000000     153.000000  153.000000\n",
       "mean    77.000000    0.254555      0.490149       1.047426    0.771240\n",
       "std     44.311398    0.237008      0.155386       0.400147    0.651220\n",
       "min      1.000000    0.024038      0.049304       0.590758    0.043900\n",
       "25%     39.000000    0.089273      0.401523       0.730751    0.282991\n",
       "50%     77.000000    0.158341      0.490751       0.918049    0.660665\n",
       "75%    115.000000    0.294708      0.560787       1.284732    1.054360\n",
       "max    153.000000    0.942930      0.925102       2.449047    4.084854"
      ]
     },
     "execution_count": 8,
     "metadata": {},
     "output_type": "execute_result"
    }
   ],
   "source": [
    "df_pvl_delta.describe()"
   ]
  },
  {
   "cell_type": "markdown",
   "metadata": {},
   "source": [
    "#### Processing"
   ]
  },
  {
   "cell_type": "code",
   "execution_count": 9,
   "metadata": {},
   "outputs": [],
   "source": [
    "#Setting the SubID column as the index of the df\n",
    "df_pvl_delta.set_index('SubID', drop=True, inplace=True)"
   ]
  },
  {
   "cell_type": "code",
   "execution_count": 10,
   "metadata": {},
   "outputs": [
    {
     "data": {
      "text/html": [
       "<div>\n",
       "<style scoped>\n",
       "    .dataframe tbody tr th:only-of-type {\n",
       "        vertical-align: middle;\n",
       "    }\n",
       "\n",
       "    .dataframe tbody tr th {\n",
       "        vertical-align: top;\n",
       "    }\n",
       "\n",
       "    .dataframe thead th {\n",
       "        text-align: right;\n",
       "    }\n",
       "</style>\n",
       "<table border=\"1\" class=\"dataframe\">\n",
       "  <thead>\n",
       "    <tr style=\"text-align: right;\">\n",
       "      <th></th>\n",
       "      <th>group</th>\n",
       "      <th>LR</th>\n",
       "      <th>Outcome_Sens</th>\n",
       "      <th>Response_cons</th>\n",
       "      <th>Loss_Aver</th>\n",
       "    </tr>\n",
       "    <tr>\n",
       "      <th>SubID</th>\n",
       "      <th></th>\n",
       "      <th></th>\n",
       "      <th></th>\n",
       "      <th></th>\n",
       "      <th></th>\n",
       "    </tr>\n",
       "  </thead>\n",
       "  <tbody>\n",
       "    <tr>\n",
       "      <th>1</th>\n",
       "      <td>young</td>\n",
       "      <td>0.159011</td>\n",
       "      <td>0.487522</td>\n",
       "      <td>0.686815</td>\n",
       "      <td>0.954498</td>\n",
       "    </tr>\n",
       "    <tr>\n",
       "      <th>2</th>\n",
       "      <td>young</td>\n",
       "      <td>0.064666</td>\n",
       "      <td>0.511008</td>\n",
       "      <td>1.391790</td>\n",
       "      <td>0.295529</td>\n",
       "    </tr>\n",
       "    <tr>\n",
       "      <th>3</th>\n",
       "      <td>young</td>\n",
       "      <td>0.113089</td>\n",
       "      <td>0.465141</td>\n",
       "      <td>0.918734</td>\n",
       "      <td>0.533232</td>\n",
       "    </tr>\n",
       "    <tr>\n",
       "      <th>4</th>\n",
       "      <td>young</td>\n",
       "      <td>0.089273</td>\n",
       "      <td>0.500391</td>\n",
       "      <td>0.703737</td>\n",
       "      <td>0.869859</td>\n",
       "    </tr>\n",
       "    <tr>\n",
       "      <th>5</th>\n",
       "      <td>young</td>\n",
       "      <td>0.233898</td>\n",
       "      <td>0.488053</td>\n",
       "      <td>0.897867</td>\n",
       "      <td>0.511095</td>\n",
       "    </tr>\n",
       "  </tbody>\n",
       "</table>\n",
       "</div>"
      ],
      "text/plain": [
       "       group        LR  Outcome_Sens  Response_cons  Loss_Aver\n",
       "SubID                                                         \n",
       "1      young  0.159011      0.487522       0.686815   0.954498\n",
       "2      young  0.064666      0.511008       1.391790   0.295529\n",
       "3      young  0.113089      0.465141       0.918734   0.533232\n",
       "4      young  0.089273      0.500391       0.703737   0.869859\n",
       "5      young  0.233898      0.488053       0.897867   0.511095"
      ]
     },
     "execution_count": 10,
     "metadata": {},
     "output_type": "execute_result"
    }
   ],
   "source": [
    "df_pvl_delta.head()"
   ]
  },
  {
   "cell_type": "code",
   "execution_count": 11,
   "metadata": {},
   "outputs": [
    {
     "data": {
      "text/plain": [
       "<matplotlib.collections.PathCollection at 0x1a11a663d30>"
      ]
     },
     "execution_count": 11,
     "metadata": {},
     "output_type": "execute_result"
    },
    {
     "data": {
      "image/png": "[encoded data removed]",
      "text/plain": [
       "<Figure size 432x288 with 1 Axes>"
      ]
     },
     "metadata": {
      "needs_background": "light"
     },
     "output_type": "display_data"
    }
   ],
   "source": [
    "plt.scatter(df_pvl_delta[\"LR\"], df_pvl_delta[\"Outcome_Sens\"])"
   ]
  },
  {
   "cell_type": "markdown",
   "metadata": {},
   "source": [
    "### Read in data from the ORL model"
   ]
  },
  {
   "cell_type": "code",
   "execution_count": 12,
   "metadata": {},
   "outputs": [],
   "source": [
    "df_orl = pd.read_csv(\"./data/parameter_igt_orl.csv\")"
   ]
  },
  {
   "cell_type": "markdown",
   "metadata": {},
   "source": [
    "#### Inspect the data"
   ]
  },
  {
   "cell_type": "code",
   "execution_count": 13,
   "metadata": {
    "scrolled": true
   },
   "outputs": [
    {
     "data": {
      "text/html": [
       "<div>\n",
       "<style scoped>\n",
       "    .dataframe tbody tr th:only-of-type {\n",
       "        vertical-align: middle;\n",
       "    }\n",
       "\n",
       "    .dataframe tbody tr th {\n",
       "        vertical-align: top;\n",
       "    }\n",
       "\n",
       "    .dataframe thead th {\n",
       "        text-align: right;\n",
       "    }\n",
       "</style>\n",
       "<table border=\"1\" class=\"dataframe\">\n",
       "  <thead>\n",
       "    <tr style=\"text-align: right;\">\n",
       "      <th></th>\n",
       "      <th>subjID</th>\n",
       "      <th>A+</th>\n",
       "      <th>A-</th>\n",
       "      <th>K</th>\n",
       "      <th>BetaF</th>\n",
       "      <th>BetaP</th>\n",
       "      <th>A+-A-</th>\n",
       "    </tr>\n",
       "  </thead>\n",
       "  <tbody>\n",
       "    <tr>\n",
       "      <th>0</th>\n",
       "      <td>old</td>\n",
       "      <td>0.324444</td>\n",
       "      <td>0.068862</td>\n",
       "      <td>1.502130</td>\n",
       "      <td>2.523191</td>\n",
       "      <td>-5.547480</td>\n",
       "      <td>0.255581</td>\n",
       "    </tr>\n",
       "    <tr>\n",
       "      <th>1</th>\n",
       "      <td>old</td>\n",
       "      <td>0.885744</td>\n",
       "      <td>0.120145</td>\n",
       "      <td>0.012591</td>\n",
       "      <td>3.193244</td>\n",
       "      <td>-9.159800</td>\n",
       "      <td>0.765598</td>\n",
       "    </tr>\n",
       "    <tr>\n",
       "      <th>2</th>\n",
       "      <td>old</td>\n",
       "      <td>0.318205</td>\n",
       "      <td>0.078128</td>\n",
       "      <td>1.927309</td>\n",
       "      <td>0.615708</td>\n",
       "      <td>9.272336</td>\n",
       "      <td>0.240077</td>\n",
       "    </tr>\n",
       "    <tr>\n",
       "      <th>3</th>\n",
       "      <td>old</td>\n",
       "      <td>0.728192</td>\n",
       "      <td>0.106737</td>\n",
       "      <td>0.388407</td>\n",
       "      <td>2.595746</td>\n",
       "      <td>-2.239555</td>\n",
       "      <td>0.621455</td>\n",
       "    </tr>\n",
       "    <tr>\n",
       "      <th>4</th>\n",
       "      <td>old</td>\n",
       "      <td>0.356229</td>\n",
       "      <td>0.091987</td>\n",
       "      <td>1.810674</td>\n",
       "      <td>0.508605</td>\n",
       "      <td>9.825699</td>\n",
       "      <td>0.264241</td>\n",
       "    </tr>\n",
       "  </tbody>\n",
       "</table>\n",
       "</div>"
      ],
      "text/plain": [
       "  subjID        A+        A-         K     BetaF     BetaP     A+-A-\n",
       "0    old  0.324444  0.068862  1.502130  2.523191 -5.547480  0.255581\n",
       "1    old  0.885744  0.120145  0.012591  3.193244 -9.159800  0.765598\n",
       "2    old  0.318205  0.078128  1.927309  0.615708  9.272336  0.240077\n",
       "3    old  0.728192  0.106737  0.388407  2.595746 -2.239555  0.621455\n",
       "4    old  0.356229  0.091987  1.810674  0.508605  9.825699  0.264241"
      ]
     },
     "execution_count": 13,
     "metadata": {},
     "output_type": "execute_result"
    }
   ],
   "source": [
    "df_orl.head()"
   ]
  },
  {
   "cell_type": "markdown",
   "metadata": {},
   "source": [
    "#### Processing\n",
    "In order to ensure the datsets are symmetrical, a SubID column is created and used as the index, as above. Due to the absence of the SubID column in this dataset however, this index can not be used to identify subjects across the three dataframes."
   ]
  },
  {
   "cell_type": "code",
   "execution_count": 14,
   "metadata": {},
   "outputs": [
    {
     "data": {
      "text/html": [
       "<div>\n",
       "<style scoped>\n",
       "    .dataframe tbody tr th:only-of-type {\n",
       "        vertical-align: middle;\n",
       "    }\n",
       "\n",
       "    .dataframe tbody tr th {\n",
       "        vertical-align: top;\n",
       "    }\n",
       "\n",
       "    .dataframe thead th {\n",
       "        text-align: right;\n",
       "    }\n",
       "</style>\n",
       "<table border=\"1\" class=\"dataframe\">\n",
       "  <thead>\n",
       "    <tr style=\"text-align: right;\">\n",
       "      <th></th>\n",
       "      <th>group</th>\n",
       "      <th>A+</th>\n",
       "      <th>A-</th>\n",
       "      <th>K</th>\n",
       "      <th>BetaF</th>\n",
       "      <th>BetaP</th>\n",
       "      <th>A+-A-</th>\n",
       "    </tr>\n",
       "    <tr>\n",
       "      <th>SubID</th>\n",
       "      <th></th>\n",
       "      <th></th>\n",
       "      <th></th>\n",
       "      <th></th>\n",
       "      <th></th>\n",
       "      <th></th>\n",
       "      <th></th>\n",
       "    </tr>\n",
       "  </thead>\n",
       "  <tbody>\n",
       "    <tr>\n",
       "      <th>1</th>\n",
       "      <td>old</td>\n",
       "      <td>0.324444</td>\n",
       "      <td>0.068862</td>\n",
       "      <td>1.502130</td>\n",
       "      <td>2.523191</td>\n",
       "      <td>-5.547480</td>\n",
       "      <td>0.255581</td>\n",
       "    </tr>\n",
       "    <tr>\n",
       "      <th>2</th>\n",
       "      <td>old</td>\n",
       "      <td>0.885744</td>\n",
       "      <td>0.120145</td>\n",
       "      <td>0.012591</td>\n",
       "      <td>3.193244</td>\n",
       "      <td>-9.159800</td>\n",
       "      <td>0.765598</td>\n",
       "    </tr>\n",
       "    <tr>\n",
       "      <th>3</th>\n",
       "      <td>old</td>\n",
       "      <td>0.318205</td>\n",
       "      <td>0.078128</td>\n",
       "      <td>1.927309</td>\n",
       "      <td>0.615708</td>\n",
       "      <td>9.272336</td>\n",
       "      <td>0.240077</td>\n",
       "    </tr>\n",
       "    <tr>\n",
       "      <th>4</th>\n",
       "      <td>old</td>\n",
       "      <td>0.728192</td>\n",
       "      <td>0.106737</td>\n",
       "      <td>0.388407</td>\n",
       "      <td>2.595746</td>\n",
       "      <td>-2.239555</td>\n",
       "      <td>0.621455</td>\n",
       "    </tr>\n",
       "    <tr>\n",
       "      <th>5</th>\n",
       "      <td>old</td>\n",
       "      <td>0.356229</td>\n",
       "      <td>0.091987</td>\n",
       "      <td>1.810674</td>\n",
       "      <td>0.508605</td>\n",
       "      <td>9.825699</td>\n",
       "      <td>0.264241</td>\n",
       "    </tr>\n",
       "  </tbody>\n",
       "</table>\n",
       "</div>"
      ],
      "text/plain": [
       "      group        A+        A-         K     BetaF     BetaP     A+-A-\n",
       "SubID                                                                  \n",
       "1       old  0.324444  0.068862  1.502130  2.523191 -5.547480  0.255581\n",
       "2       old  0.885744  0.120145  0.012591  3.193244 -9.159800  0.765598\n",
       "3       old  0.318205  0.078128  1.927309  0.615708  9.272336  0.240077\n",
       "4       old  0.728192  0.106737  0.388407  2.595746 -2.239555  0.621455\n",
       "5       old  0.356229  0.091987  1.810674  0.508605  9.825699  0.264241"
      ]
     },
     "execution_count": 14,
     "metadata": {},
     "output_type": "execute_result"
    }
   ],
   "source": [
    "df_orl.rename(columns={'subjID':'group'}, inplace=True)\n",
    "index = pd.DataFrame({'SubID': [i for i in range(1, 154)]})\n",
    "df_orl = pd.concat([df_orl, index], axis=1)\n",
    "df_orl.set_index('SubID', drop=True, inplace=True)\n",
    "df_orl.head()"
   ]
  },
  {
   "cell_type": "markdown",
   "metadata": {},
   "source": [
    "### Read in data from the VPP "
   ]
  },
  {
   "cell_type": "code",
   "execution_count": 15,
   "metadata": {},
   "outputs": [],
   "source": [
    "df_vpp = pd.read_csv(\"./data/parameters_igt_vpp.csv\")"
   ]
  },
  {
   "cell_type": "markdown",
   "metadata": {},
   "source": [
    "#### Inspect the data"
   ]
  },
  {
   "cell_type": "code",
   "execution_count": 16,
   "metadata": {
    "scrolled": true
   },
   "outputs": [
    {
     "data": {
      "text/html": [
       "<div>\n",
       "<style scoped>\n",
       "    .dataframe tbody tr th:only-of-type {\n",
       "        vertical-align: middle;\n",
       "    }\n",
       "\n",
       "    .dataframe tbody tr th {\n",
       "        vertical-align: top;\n",
       "    }\n",
       "\n",
       "    .dataframe thead th {\n",
       "        text-align: right;\n",
       "    }\n",
       "</style>\n",
       "<table border=\"1\" class=\"dataframe\">\n",
       "  <thead>\n",
       "    <tr style=\"text-align: right;\">\n",
       "      <th></th>\n",
       "      <th>group</th>\n",
       "      <th>SubID</th>\n",
       "      <th>LR</th>\n",
       "      <th>Out_Sens</th>\n",
       "      <th>Res_Cons</th>\n",
       "      <th>Loss_Aver</th>\n",
       "      <th>Gain_Impa</th>\n",
       "      <th>Loss_Impa</th>\n",
       "      <th>Deca_Rate</th>\n",
       "      <th>RL_weight</th>\n",
       "    </tr>\n",
       "  </thead>\n",
       "  <tbody>\n",
       "    <tr>\n",
       "      <th>0</th>\n",
       "      <td>young</td>\n",
       "      <td>1</td>\n",
       "      <td>0.038441</td>\n",
       "      <td>0.630402</td>\n",
       "      <td>1.207295</td>\n",
       "      <td>1.050323</td>\n",
       "      <td>-0.535035</td>\n",
       "      <td>-1.913099</td>\n",
       "      <td>0.669323</td>\n",
       "      <td>0.660446</td>\n",
       "    </tr>\n",
       "    <tr>\n",
       "      <th>1</th>\n",
       "      <td>young</td>\n",
       "      <td>2</td>\n",
       "      <td>0.045673</td>\n",
       "      <td>0.630331</td>\n",
       "      <td>1.628191</td>\n",
       "      <td>0.205205</td>\n",
       "      <td>-0.133367</td>\n",
       "      <td>-1.423580</td>\n",
       "      <td>0.427207</td>\n",
       "      <td>0.719352</td>\n",
       "    </tr>\n",
       "    <tr>\n",
       "      <th>2</th>\n",
       "      <td>young</td>\n",
       "      <td>3</td>\n",
       "      <td>0.045468</td>\n",
       "      <td>0.602974</td>\n",
       "      <td>1.395572</td>\n",
       "      <td>0.383055</td>\n",
       "      <td>-0.344822</td>\n",
       "      <td>-1.719826</td>\n",
       "      <td>0.493249</td>\n",
       "      <td>0.688723</td>\n",
       "    </tr>\n",
       "    <tr>\n",
       "      <th>3</th>\n",
       "      <td>young</td>\n",
       "      <td>4</td>\n",
       "      <td>0.035789</td>\n",
       "      <td>0.635677</td>\n",
       "      <td>1.067831</td>\n",
       "      <td>0.823790</td>\n",
       "      <td>-0.229192</td>\n",
       "      <td>-1.484455</td>\n",
       "      <td>0.625835</td>\n",
       "      <td>0.675971</td>\n",
       "    </tr>\n",
       "    <tr>\n",
       "      <th>4</th>\n",
       "      <td>young</td>\n",
       "      <td>5</td>\n",
       "      <td>0.060655</td>\n",
       "      <td>0.636276</td>\n",
       "      <td>1.802964</td>\n",
       "      <td>0.329246</td>\n",
       "      <td>-0.616020</td>\n",
       "      <td>-2.561017</td>\n",
       "      <td>0.439912</td>\n",
       "      <td>0.655563</td>\n",
       "    </tr>\n",
       "  </tbody>\n",
       "</table>\n",
       "</div>"
      ],
      "text/plain": [
       "   group  SubID        LR  Out_Sens  Res_Cons  Loss_Aver  Gain_Impa  \\\n",
       "0  young      1  0.038441  0.630402  1.207295   1.050323  -0.535035   \n",
       "1  young      2  0.045673  0.630331  1.628191   0.205205  -0.133367   \n",
       "2  young      3  0.045468  0.602974  1.395572   0.383055  -0.344822   \n",
       "3  young      4  0.035789  0.635677  1.067831   0.823790  -0.229192   \n",
       "4  young      5  0.060655  0.636276  1.802964   0.329246  -0.616020   \n",
       "\n",
       "   Loss_Impa  Deca_Rate  RL_weight  \n",
       "0  -1.913099   0.669323   0.660446  \n",
       "1  -1.423580   0.427207   0.719352  \n",
       "2  -1.719826   0.493249   0.688723  \n",
       "3  -1.484455   0.625835   0.675971  \n",
       "4  -2.561017   0.439912   0.655563  "
      ]
     },
     "execution_count": 16,
     "metadata": {},
     "output_type": "execute_result"
    }
   ],
   "source": [
    "df_vpp.head()"
   ]
  },
  {
   "cell_type": "code",
   "execution_count": 17,
   "metadata": {},
   "outputs": [
    {
     "data": {
      "text/html": [
       "<div>\n",
       "<style scoped>\n",
       "    .dataframe tbody tr th:only-of-type {\n",
       "        vertical-align: middle;\n",
       "    }\n",
       "\n",
       "    .dataframe tbody tr th {\n",
       "        vertical-align: top;\n",
       "    }\n",
       "\n",
       "    .dataframe thead th {\n",
       "        text-align: right;\n",
       "    }\n",
       "</style>\n",
       "<table border=\"1\" class=\"dataframe\">\n",
       "  <thead>\n",
       "    <tr style=\"text-align: right;\">\n",
       "      <th></th>\n",
       "      <th>SubID</th>\n",
       "      <th>LR</th>\n",
       "      <th>Out_Sens</th>\n",
       "      <th>Res_Cons</th>\n",
       "      <th>Loss_Aver</th>\n",
       "      <th>Gain_Impa</th>\n",
       "      <th>Loss_Impa</th>\n",
       "      <th>Deca_Rate</th>\n",
       "      <th>RL_weight</th>\n",
       "    </tr>\n",
       "  </thead>\n",
       "  <tbody>\n",
       "    <tr>\n",
       "      <th>count</th>\n",
       "      <td>153.000000</td>\n",
       "      <td>153.000000</td>\n",
       "      <td>153.000000</td>\n",
       "      <td>153.000000</td>\n",
       "      <td>153.000000</td>\n",
       "      <td>153.000000</td>\n",
       "      <td>153.000000</td>\n",
       "      <td>153.000000</td>\n",
       "      <td>153.000000</td>\n",
       "    </tr>\n",
       "    <tr>\n",
       "      <th>mean</th>\n",
       "      <td>77.000000</td>\n",
       "      <td>0.070824</td>\n",
       "      <td>0.560575</td>\n",
       "      <td>1.329323</td>\n",
       "      <td>0.952138</td>\n",
       "      <td>0.460940</td>\n",
       "      <td>-0.720379</td>\n",
       "      <td>0.406367</td>\n",
       "      <td>0.622995</td>\n",
       "    </tr>\n",
       "    <tr>\n",
       "      <th>std</th>\n",
       "      <td>44.311398</td>\n",
       "      <td>0.064683</td>\n",
       "      <td>0.111139</td>\n",
       "      <td>0.198041</td>\n",
       "      <td>0.580621</td>\n",
       "      <td>1.185591</td>\n",
       "      <td>1.102656</td>\n",
       "      <td>0.187483</td>\n",
       "      <td>0.066657</td>\n",
       "    </tr>\n",
       "    <tr>\n",
       "      <th>min</th>\n",
       "      <td>1.000000</td>\n",
       "      <td>0.027454</td>\n",
       "      <td>0.352471</td>\n",
       "      <td>0.879707</td>\n",
       "      <td>0.193857</td>\n",
       "      <td>-2.977630</td>\n",
       "      <td>-2.912838</td>\n",
       "      <td>0.042780</td>\n",
       "      <td>0.452978</td>\n",
       "    </tr>\n",
       "    <tr>\n",
       "      <th>25%</th>\n",
       "      <td>39.000000</td>\n",
       "      <td>0.038294</td>\n",
       "      <td>0.448811</td>\n",
       "      <td>1.202790</td>\n",
       "      <td>0.528927</td>\n",
       "      <td>-0.287230</td>\n",
       "      <td>-1.634716</td>\n",
       "      <td>0.256420</td>\n",
       "      <td>0.569390</td>\n",
       "    </tr>\n",
       "    <tr>\n",
       "      <th>50%</th>\n",
       "      <td>77.000000</td>\n",
       "      <td>0.050247</td>\n",
       "      <td>0.590334</td>\n",
       "      <td>1.316736</td>\n",
       "      <td>0.760613</td>\n",
       "      <td>0.593115</td>\n",
       "      <td>-0.779120</td>\n",
       "      <td>0.439912</td>\n",
       "      <td>0.640917</td>\n",
       "    </tr>\n",
       "    <tr>\n",
       "      <th>75%</th>\n",
       "      <td>115.000000</td>\n",
       "      <td>0.078495</td>\n",
       "      <td>0.646090</td>\n",
       "      <td>1.428836</td>\n",
       "      <td>1.292569</td>\n",
       "      <td>1.419412</td>\n",
       "      <td>0.137599</td>\n",
       "      <td>0.565139</td>\n",
       "      <td>0.675971</td>\n",
       "    </tr>\n",
       "    <tr>\n",
       "      <th>max</th>\n",
       "      <td>153.000000</td>\n",
       "      <td>0.617431</td>\n",
       "      <td>0.818137</td>\n",
       "      <td>1.938694</td>\n",
       "      <td>2.698527</td>\n",
       "      <td>2.559126</td>\n",
       "      <td>1.583109</td>\n",
       "      <td>0.858421</td>\n",
       "      <td>0.744017</td>\n",
       "    </tr>\n",
       "  </tbody>\n",
       "</table>\n",
       "</div>"
      ],
      "text/plain": [
       "            SubID          LR    Out_Sens    Res_Cons   Loss_Aver   Gain_Impa  \\\n",
       "count  153.000000  153.000000  153.000000  153.000000  153.000000  153.000000   \n",
       "mean    77.000000    0.070824    0.560575    1.329323    0.952138    0.460940   \n",
       "std     44.311398    0.064683    0.111139    0.198041    0.580621    1.185591   \n",
       "min      1.000000    0.027454    0.352471    0.879707    0.193857   -2.977630   \n",
       "25%     39.000000    0.038294    0.448811    1.202790    0.528927   -0.287230   \n",
       "50%     77.000000    0.050247    0.590334    1.316736    0.760613    0.593115   \n",
       "75%    115.000000    0.078495    0.646090    1.428836    1.292569    1.419412   \n",
       "max    153.000000    0.617431    0.818137    1.938694    2.698527    2.559126   \n",
       "\n",
       "        Loss_Impa   Deca_Rate   RL_weight  \n",
       "count  153.000000  153.000000  153.000000  \n",
       "mean    -0.720379    0.406367    0.622995  \n",
       "std      1.102656    0.187483    0.066657  \n",
       "min     -2.912838    0.042780    0.452978  \n",
       "25%     -1.634716    0.256420    0.569390  \n",
       "50%     -0.779120    0.439912    0.640917  \n",
       "75%      0.137599    0.565139    0.675971  \n",
       "max      1.583109    0.858421    0.744017  "
      ]
     },
     "execution_count": 17,
     "metadata": {},
     "output_type": "execute_result"
    }
   ],
   "source": [
    "df_vpp.describe()"
   ]
  },
  {
   "cell_type": "markdown",
   "metadata": {},
   "source": [
    "#### Processing\n",
    "Same format as previous two data frames is used."
   ]
  },
  {
   "cell_type": "code",
   "execution_count": 18,
   "metadata": {},
   "outputs": [
    {
     "data": {
      "text/html": [
       "<div>\n",
       "<style scoped>\n",
       "    .dataframe tbody tr th:only-of-type {\n",
       "        vertical-align: middle;\n",
       "    }\n",
       "\n",
       "    .dataframe tbody tr th {\n",
       "        vertical-align: top;\n",
       "    }\n",
       "\n",
       "    .dataframe thead th {\n",
       "        text-align: right;\n",
       "    }\n",
       "</style>\n",
       "<table border=\"1\" class=\"dataframe\">\n",
       "  <thead>\n",
       "    <tr style=\"text-align: right;\">\n",
       "      <th></th>\n",
       "      <th>group</th>\n",
       "      <th>LR</th>\n",
       "      <th>Out_Sens</th>\n",
       "      <th>Res_Cons</th>\n",
       "      <th>Loss_Aver</th>\n",
       "      <th>Gain_Impa</th>\n",
       "      <th>Loss_Impa</th>\n",
       "      <th>Deca_Rate</th>\n",
       "      <th>RL_weight</th>\n",
       "    </tr>\n",
       "    <tr>\n",
       "      <th>SubID</th>\n",
       "      <th></th>\n",
       "      <th></th>\n",
       "      <th></th>\n",
       "      <th></th>\n",
       "      <th></th>\n",
       "      <th></th>\n",
       "      <th></th>\n",
       "      <th></th>\n",
       "      <th></th>\n",
       "    </tr>\n",
       "  </thead>\n",
       "  <tbody>\n",
       "    <tr>\n",
       "      <th>1</th>\n",
       "      <td>young</td>\n",
       "      <td>0.038441</td>\n",
       "      <td>0.630402</td>\n",
       "      <td>1.207295</td>\n",
       "      <td>1.050323</td>\n",
       "      <td>-0.535035</td>\n",
       "      <td>-1.913099</td>\n",
       "      <td>0.669323</td>\n",
       "      <td>0.660446</td>\n",
       "    </tr>\n",
       "    <tr>\n",
       "      <th>2</th>\n",
       "      <td>young</td>\n",
       "      <td>0.045673</td>\n",
       "      <td>0.630331</td>\n",
       "      <td>1.628191</td>\n",
       "      <td>0.205205</td>\n",
       "      <td>-0.133367</td>\n",
       "      <td>-1.423580</td>\n",
       "      <td>0.427207</td>\n",
       "      <td>0.719352</td>\n",
       "    </tr>\n",
       "    <tr>\n",
       "      <th>3</th>\n",
       "      <td>young</td>\n",
       "      <td>0.045468</td>\n",
       "      <td>0.602974</td>\n",
       "      <td>1.395572</td>\n",
       "      <td>0.383055</td>\n",
       "      <td>-0.344822</td>\n",
       "      <td>-1.719826</td>\n",
       "      <td>0.493249</td>\n",
       "      <td>0.688723</td>\n",
       "    </tr>\n",
       "    <tr>\n",
       "      <th>4</th>\n",
       "      <td>young</td>\n",
       "      <td>0.035789</td>\n",
       "      <td>0.635677</td>\n",
       "      <td>1.067831</td>\n",
       "      <td>0.823790</td>\n",
       "      <td>-0.229192</td>\n",
       "      <td>-1.484455</td>\n",
       "      <td>0.625835</td>\n",
       "      <td>0.675971</td>\n",
       "    </tr>\n",
       "    <tr>\n",
       "      <th>5</th>\n",
       "      <td>young</td>\n",
       "      <td>0.060655</td>\n",
       "      <td>0.636276</td>\n",
       "      <td>1.802964</td>\n",
       "      <td>0.329246</td>\n",
       "      <td>-0.616020</td>\n",
       "      <td>-2.561017</td>\n",
       "      <td>0.439912</td>\n",
       "      <td>0.655563</td>\n",
       "    </tr>\n",
       "  </tbody>\n",
       "</table>\n",
       "</div>"
      ],
      "text/plain": [
       "       group        LR  Out_Sens  Res_Cons  Loss_Aver  Gain_Impa  Loss_Impa  \\\n",
       "SubID                                                                         \n",
       "1      young  0.038441  0.630402  1.207295   1.050323  -0.535035  -1.913099   \n",
       "2      young  0.045673  0.630331  1.628191   0.205205  -0.133367  -1.423580   \n",
       "3      young  0.045468  0.602974  1.395572   0.383055  -0.344822  -1.719826   \n",
       "4      young  0.035789  0.635677  1.067831   0.823790  -0.229192  -1.484455   \n",
       "5      young  0.060655  0.636276  1.802964   0.329246  -0.616020  -2.561017   \n",
       "\n",
       "       Deca_Rate  RL_weight  \n",
       "SubID                        \n",
       "1       0.669323   0.660446  \n",
       "2       0.427207   0.719352  \n",
       "3       0.493249   0.688723  \n",
       "4       0.625835   0.675971  \n",
       "5       0.439912   0.655563  "
      ]
     },
     "execution_count": 18,
     "metadata": {},
     "output_type": "execute_result"
    }
   ],
   "source": [
    "df_vpp.set_index('SubID', drop=True, inplace=True)\n",
    "df_vpp.head()"
   ]
  },
  {
   "cell_type": "markdown",
   "metadata": {},
   "source": [
    "## Determining the best number of clusters"
   ]
  },
  {
   "cell_type": "markdown",
   "metadata": {},
   "source": [
    "#### Set up the data for clustering"
   ]
  },
  {
   "cell_type": "code",
   "execution_count": 14,
   "metadata": {},
   "outputs": [],
   "source": [
    "train_x = df_pvl_delta.iloc[:, 2:]"
   ]
  },
  {
   "cell_type": "code",
   "execution_count": 15,
   "metadata": {},
   "outputs": [
    {
     "data": {
      "text/html": [
       "<div>\n",
       "<style scoped>\n",
       "    .dataframe tbody tr th:only-of-type {\n",
       "        vertical-align: middle;\n",
       "    }\n",
       "\n",
       "    .dataframe tbody tr th {\n",
       "        vertical-align: top;\n",
       "    }\n",
       "\n",
       "    .dataframe thead th {\n",
       "        text-align: right;\n",
       "    }\n",
       "</style>\n",
       "<table border=\"1\" class=\"dataframe\">\n",
       "  <thead>\n",
       "    <tr style=\"text-align: right;\">\n",
       "      <th></th>\n",
       "      <th>LR</th>\n",
       "      <th>Outcome_Sens</th>\n",
       "      <th>Response_cons</th>\n",
       "      <th>Loss_Aver</th>\n",
       "    </tr>\n",
       "  </thead>\n",
       "  <tbody>\n",
       "    <tr>\n",
       "      <th>0</th>\n",
       "      <td>0.159011</td>\n",
       "      <td>0.487522</td>\n",
       "      <td>0.686815</td>\n",
       "      <td>0.954498</td>\n",
       "    </tr>\n",
       "    <tr>\n",
       "      <th>1</th>\n",
       "      <td>0.064666</td>\n",
       "      <td>0.511008</td>\n",
       "      <td>1.391790</td>\n",
       "      <td>0.295529</td>\n",
       "    </tr>\n",
       "    <tr>\n",
       "      <th>2</th>\n",
       "      <td>0.113089</td>\n",
       "      <td>0.465141</td>\n",
       "      <td>0.918734</td>\n",
       "      <td>0.533232</td>\n",
       "    </tr>\n",
       "    <tr>\n",
       "      <th>3</th>\n",
       "      <td>0.089273</td>\n",
       "      <td>0.500391</td>\n",
       "      <td>0.703737</td>\n",
       "      <td>0.869859</td>\n",
       "    </tr>\n",
       "    <tr>\n",
       "      <th>4</th>\n",
       "      <td>0.233898</td>\n",
       "      <td>0.488053</td>\n",
       "      <td>0.897867</td>\n",
       "      <td>0.511095</td>\n",
       "    </tr>\n",
       "  </tbody>\n",
       "</table>\n",
       "</div>"
      ],
      "text/plain": [
       "         LR  Outcome_Sens  Response_cons  Loss_Aver\n",
       "0  0.159011      0.487522       0.686815   0.954498\n",
       "1  0.064666      0.511008       1.391790   0.295529\n",
       "2  0.113089      0.465141       0.918734   0.533232\n",
       "3  0.089273      0.500391       0.703737   0.869859\n",
       "4  0.233898      0.488053       0.897867   0.511095"
      ]
     },
     "execution_count": 15,
     "metadata": {},
     "output_type": "execute_result"
    }
   ],
   "source": [
    "train_x.head()"
   ]
  },
  {
   "cell_type": "code",
   "execution_count": 16,
   "metadata": {},
   "outputs": [
    {
     "data": {
      "text/html": [
       "<div>\n",
       "<style scoped>\n",
       "    .dataframe tbody tr th:only-of-type {\n",
       "        vertical-align: middle;\n",
       "    }\n",
       "\n",
       "    .dataframe tbody tr th {\n",
       "        vertical-align: top;\n",
       "    }\n",
       "\n",
       "    .dataframe thead th {\n",
       "        text-align: right;\n",
       "    }\n",
       "</style>\n",
       "<table border=\"1\" class=\"dataframe\">\n",
       "  <thead>\n",
       "    <tr style=\"text-align: right;\">\n",
       "      <th></th>\n",
       "      <th>LR</th>\n",
       "      <th>Outcome_Sens</th>\n",
       "      <th>Response_cons</th>\n",
       "      <th>Loss_Aver</th>\n",
       "    </tr>\n",
       "  </thead>\n",
       "  <tbody>\n",
       "    <tr>\n",
       "      <th>count</th>\n",
       "      <td>153.000000</td>\n",
       "      <td>153.000000</td>\n",
       "      <td>153.000000</td>\n",
       "      <td>153.000000</td>\n",
       "    </tr>\n",
       "    <tr>\n",
       "      <th>mean</th>\n",
       "      <td>0.254555</td>\n",
       "      <td>0.490149</td>\n",
       "      <td>1.047426</td>\n",
       "      <td>0.771240</td>\n",
       "    </tr>\n",
       "    <tr>\n",
       "      <th>std</th>\n",
       "      <td>0.237008</td>\n",
       "      <td>0.155386</td>\n",
       "      <td>0.400147</td>\n",
       "      <td>0.651220</td>\n",
       "    </tr>\n",
       "    <tr>\n",
       "      <th>min</th>\n",
       "      <td>0.024038</td>\n",
       "      <td>0.049304</td>\n",
       "      <td>0.590758</td>\n",
       "      <td>0.043900</td>\n",
       "    </tr>\n",
       "    <tr>\n",
       "      <th>25%</th>\n",
       "      <td>0.089273</td>\n",
       "      <td>0.401523</td>\n",
       "      <td>0.730751</td>\n",
       "      <td>0.282991</td>\n",
       "    </tr>\n",
       "    <tr>\n",
       "      <th>50%</th>\n",
       "      <td>0.158341</td>\n",
       "      <td>0.490751</td>\n",
       "      <td>0.918049</td>\n",
       "      <td>0.660665</td>\n",
       "    </tr>\n",
       "    <tr>\n",
       "      <th>75%</th>\n",
       "      <td>0.294708</td>\n",
       "      <td>0.560787</td>\n",
       "      <td>1.284732</td>\n",
       "      <td>1.054360</td>\n",
       "    </tr>\n",
       "    <tr>\n",
       "      <th>max</th>\n",
       "      <td>0.942930</td>\n",
       "      <td>0.925102</td>\n",
       "      <td>2.449047</td>\n",
       "      <td>4.084854</td>\n",
       "    </tr>\n",
       "  </tbody>\n",
       "</table>\n",
       "</div>"
      ],
      "text/plain": [
       "               LR  Outcome_Sens  Response_cons   Loss_Aver\n",
       "count  153.000000    153.000000     153.000000  153.000000\n",
       "mean     0.254555      0.490149       1.047426    0.771240\n",
       "std      0.237008      0.155386       0.400147    0.651220\n",
       "min      0.024038      0.049304       0.590758    0.043900\n",
       "25%      0.089273      0.401523       0.730751    0.282991\n",
       "50%      0.158341      0.490751       0.918049    0.660665\n",
       "75%      0.294708      0.560787       1.284732    1.054360\n",
       "max      0.942930      0.925102       2.449047    4.084854"
      ]
     },
     "execution_count": 16,
     "metadata": {},
     "output_type": "execute_result"
    }
   ],
   "source": [
    "train_x.describe()"
   ]
  },
  {
   "cell_type": "markdown",
   "metadata": {},
   "source": [
    "## Create an elbow curve to determine the best number of clusters"
   ]
  },
  {
   "cell_type": "code",
   "execution_count": 17,
   "metadata": {
    "scrolled": true
   },
   "outputs": [
    {
     "data": {
      "image/png": "[encoded data removed]",
      "text/plain": [
       "<Figure size 432x288 with 1 Axes>"
      ]
     },
     "metadata": {
      "needs_background": "light"
     },
     "output_type": "display_data"
    }
   ],
   "source": [
    "col_1 = train_x.iloc[:, 0]\n",
    "col_2 = train_x.iloc[:, 1]\n",
    "\n",
    "# create new plot and data\n",
    "X = np.array(list(zip(col_1, col_2))).reshape(len(col_1), 2)\n",
    "\n",
    "# k means determine k\n",
    "distortions = []\n",
    "K = range(1,10)\n",
    "for k in K:\n",
    "    kmeanModel = KMeans(n_clusters=k).fit(X)\n",
    "    kmeanModel.fit(X)\n",
    "    distortions.append(sum(np.min(cdist(X, kmeanModel.cluster_centers_, 'euclidean'), axis=1)) / X.shape[0])\n",
    "\n",
    "# Plot the elbow\n",
    "plt.plot(K, distortions, 'bx-')\n",
    "plt.xlabel('# Clusters')\n",
    "plt.ylabel('Distortion')\n",
    "plt.ylim([0, 0.25])\n",
    "plt.title('The Elbow Method showing the optimal number of clusters')\n",
    "plt.show()"
   ]
  },
  {
   "cell_type": "markdown",
   "metadata": {},
   "source": [
    "### Use the above graph to set the number of clusters"
   ]
  },
  {
   "cell_type": "code",
   "execution_count": 18,
   "metadata": {},
   "outputs": [],
   "source": [
    "num_clusters = 7"
   ]
  },
  {
   "cell_type": "markdown",
   "metadata": {},
   "source": [
    "## Find out which of the 7 clusters each df row is in"
   ]
  },
  {
   "cell_type": "markdown",
   "metadata": {},
   "source": [
    "#### Cluster the data"
   ]
  },
  {
   "cell_type": "code",
   "execution_count": 19,
   "metadata": {},
   "outputs": [],
   "source": [
    "clustering = SpectralClustering(n_clusters=num_clusters, assign_labels=\"discretize\", random_state=0).fit(train_x)\n",
    "clusters_label = pd.DataFrame(clustering.labels_).rename(columns={0: \"Cluster\"})"
   ]
  },
  {
   "cell_type": "markdown",
   "metadata": {},
   "source": [
    "#### Add a new column to the original data with the cluster each row is in"
   ]
  },
  {
   "cell_type": "code",
   "execution_count": 20,
   "metadata": {
    "scrolled": true
   },
   "outputs": [],
   "source": [
    "full_df = pd.concat([df_pvl_delta, clusters_label], axis=1)"
   ]
  },
  {
   "cell_type": "code",
   "execution_count": 21,
   "metadata": {
    "scrolled": true
   },
   "outputs": [
    {
     "data": {
      "text/html": [
       "<div>\n",
       "<style scoped>\n",
       "    .dataframe tbody tr th:only-of-type {\n",
       "        vertical-align: middle;\n",
       "    }\n",
       "\n",
       "    .dataframe tbody tr th {\n",
       "        vertical-align: top;\n",
       "    }\n",
       "\n",
       "    .dataframe thead th {\n",
       "        text-align: right;\n",
       "    }\n",
       "</style>\n",
       "<table border=\"1\" class=\"dataframe\">\n",
       "  <thead>\n",
       "    <tr style=\"text-align: right;\">\n",
       "      <th></th>\n",
       "      <th>group</th>\n",
       "      <th>SubID</th>\n",
       "      <th>LR</th>\n",
       "      <th>Outcome_Sens</th>\n",
       "      <th>Response_cons</th>\n",
       "      <th>Loss_Aver</th>\n",
       "      <th>Cluster</th>\n",
       "    </tr>\n",
       "  </thead>\n",
       "  <tbody>\n",
       "    <tr>\n",
       "      <th>0</th>\n",
       "      <td>young</td>\n",
       "      <td>1</td>\n",
       "      <td>0.159011</td>\n",
       "      <td>0.487522</td>\n",
       "      <td>0.686815</td>\n",
       "      <td>0.954498</td>\n",
       "      <td>4</td>\n",
       "    </tr>\n",
       "    <tr>\n",
       "      <th>1</th>\n",
       "      <td>young</td>\n",
       "      <td>2</td>\n",
       "      <td>0.064666</td>\n",
       "      <td>0.511008</td>\n",
       "      <td>1.391790</td>\n",
       "      <td>0.295529</td>\n",
       "      <td>6</td>\n",
       "    </tr>\n",
       "    <tr>\n",
       "      <th>2</th>\n",
       "      <td>young</td>\n",
       "      <td>3</td>\n",
       "      <td>0.113089</td>\n",
       "      <td>0.465141</td>\n",
       "      <td>0.918734</td>\n",
       "      <td>0.533232</td>\n",
       "      <td>4</td>\n",
       "    </tr>\n",
       "    <tr>\n",
       "      <th>3</th>\n",
       "      <td>young</td>\n",
       "      <td>4</td>\n",
       "      <td>0.089273</td>\n",
       "      <td>0.500391</td>\n",
       "      <td>0.703737</td>\n",
       "      <td>0.869859</td>\n",
       "      <td>4</td>\n",
       "    </tr>\n",
       "    <tr>\n",
       "      <th>4</th>\n",
       "      <td>young</td>\n",
       "      <td>5</td>\n",
       "      <td>0.233898</td>\n",
       "      <td>0.488053</td>\n",
       "      <td>0.897867</td>\n",
       "      <td>0.511095</td>\n",
       "      <td>4</td>\n",
       "    </tr>\n",
       "  </tbody>\n",
       "</table>\n",
       "</div>"
      ],
      "text/plain": [
       "   group  SubID        LR  Outcome_Sens  Response_cons  Loss_Aver  Cluster\n",
       "0  young      1  0.159011      0.487522       0.686815   0.954498        4\n",
       "1  young      2  0.064666      0.511008       1.391790   0.295529        6\n",
       "2  young      3  0.113089      0.465141       0.918734   0.533232        4\n",
       "3  young      4  0.089273      0.500391       0.703737   0.869859        4\n",
       "4  young      5  0.233898      0.488053       0.897867   0.511095        4"
      ]
     },
     "execution_count": 21,
     "metadata": {},
     "output_type": "execute_result"
    }
   ],
   "source": [
    "full_df.head()"
   ]
  },
  {
   "cell_type": "markdown",
   "metadata": {},
   "source": [
    "## Principal Component Analysis\n",
    "According to Lili's paper, the best-fitting model was the VPP model. There are eight parameters in this model so princiapl component analysis is performed below on the data before performing Spectral clustering."
   ]
  },
  {
   "cell_type": "markdown",
   "metadata": {},
   "source": [
    "#### Inspect dataframe which PCA is being performed on"
   ]
  },
  {
   "cell_type": "code",
   "execution_count": 25,
   "metadata": {},
   "outputs": [
    {
     "data": {
      "text/html": [
       "<div>\n",
       "<style scoped>\n",
       "    .dataframe tbody tr th:only-of-type {\n",
       "        vertical-align: middle;\n",
       "    }\n",
       "\n",
       "    .dataframe tbody tr th {\n",
       "        vertical-align: top;\n",
       "    }\n",
       "\n",
       "    .dataframe thead th {\n",
       "        text-align: right;\n",
       "    }\n",
       "</style>\n",
       "<table border=\"1\" class=\"dataframe\">\n",
       "  <thead>\n",
       "    <tr style=\"text-align: right;\">\n",
       "      <th></th>\n",
       "      <th>group</th>\n",
       "      <th>LR</th>\n",
       "      <th>Out_Sens</th>\n",
       "      <th>Res_Cons</th>\n",
       "      <th>Loss_Aver</th>\n",
       "      <th>Gain_Impa</th>\n",
       "      <th>Loss_Impa</th>\n",
       "      <th>Deca_Rate</th>\n",
       "      <th>RL_weight</th>\n",
       "    </tr>\n",
       "    <tr>\n",
       "      <th>SubID</th>\n",
       "      <th></th>\n",
       "      <th></th>\n",
       "      <th></th>\n",
       "      <th></th>\n",
       "      <th></th>\n",
       "      <th></th>\n",
       "      <th></th>\n",
       "      <th></th>\n",
       "      <th></th>\n",
       "    </tr>\n",
       "  </thead>\n",
       "  <tbody>\n",
       "    <tr>\n",
       "      <th>1</th>\n",
       "      <td>young</td>\n",
       "      <td>0.038441</td>\n",
       "      <td>0.630402</td>\n",
       "      <td>1.207295</td>\n",
       "      <td>1.050323</td>\n",
       "      <td>-0.535035</td>\n",
       "      <td>-1.913099</td>\n",
       "      <td>0.669323</td>\n",
       "      <td>0.660446</td>\n",
       "    </tr>\n",
       "    <tr>\n",
       "      <th>2</th>\n",
       "      <td>young</td>\n",
       "      <td>0.045673</td>\n",
       "      <td>0.630331</td>\n",
       "      <td>1.628191</td>\n",
       "      <td>0.205205</td>\n",
       "      <td>-0.133367</td>\n",
       "      <td>-1.423580</td>\n",
       "      <td>0.427207</td>\n",
       "      <td>0.719352</td>\n",
       "    </tr>\n",
       "    <tr>\n",
       "      <th>3</th>\n",
       "      <td>young</td>\n",
       "      <td>0.045468</td>\n",
       "      <td>0.602974</td>\n",
       "      <td>1.395572</td>\n",
       "      <td>0.383055</td>\n",
       "      <td>-0.344822</td>\n",
       "      <td>-1.719826</td>\n",
       "      <td>0.493249</td>\n",
       "      <td>0.688723</td>\n",
       "    </tr>\n",
       "    <tr>\n",
       "      <th>4</th>\n",
       "      <td>young</td>\n",
       "      <td>0.035789</td>\n",
       "      <td>0.635677</td>\n",
       "      <td>1.067831</td>\n",
       "      <td>0.823790</td>\n",
       "      <td>-0.229192</td>\n",
       "      <td>-1.484455</td>\n",
       "      <td>0.625835</td>\n",
       "      <td>0.675971</td>\n",
       "    </tr>\n",
       "    <tr>\n",
       "      <th>5</th>\n",
       "      <td>young</td>\n",
       "      <td>0.060655</td>\n",
       "      <td>0.636276</td>\n",
       "      <td>1.802964</td>\n",
       "      <td>0.329246</td>\n",
       "      <td>-0.616020</td>\n",
       "      <td>-2.561017</td>\n",
       "      <td>0.439912</td>\n",
       "      <td>0.655563</td>\n",
       "    </tr>\n",
       "  </tbody>\n",
       "</table>\n",
       "</div>"
      ],
      "text/plain": [
       "       group        LR  Out_Sens  Res_Cons  Loss_Aver  Gain_Impa  Loss_Impa  \\\n",
       "SubID                                                                         \n",
       "1      young  0.038441  0.630402  1.207295   1.050323  -0.535035  -1.913099   \n",
       "2      young  0.045673  0.630331  1.628191   0.205205  -0.133367  -1.423580   \n",
       "3      young  0.045468  0.602974  1.395572   0.383055  -0.344822  -1.719826   \n",
       "4      young  0.035789  0.635677  1.067831   0.823790  -0.229192  -1.484455   \n",
       "5      young  0.060655  0.636276  1.802964   0.329246  -0.616020  -2.561017   \n",
       "\n",
       "       Deca_Rate  RL_weight  \n",
       "SubID                        \n",
       "1       0.669323   0.660446  \n",
       "2       0.427207   0.719352  \n",
       "3       0.493249   0.688723  \n",
       "4       0.625835   0.675971  \n",
       "5       0.439912   0.655563  "
      ]
     },
     "execution_count": 25,
     "metadata": {},
     "output_type": "execute_result"
    }
   ],
   "source": [
    "df_vpp.head()"
   ]
  },
  {
   "cell_type": "markdown",
   "metadata": {},
   "source": [
    "#### Standardising the data"
   ]
  },
  {
   "cell_type": "code",
   "execution_count": 26,
   "metadata": {},
   "outputs": [],
   "source": [
    "#List of features with 'group' and 'A+-A-' fields excluded; the latter is excluded as it is an aggregation of 'A+' and 'A-'\n",
    "features = df_vpp.columns[1:-1]\n",
    "\n",
    "# Forming an array of features\n",
    "x = df_vpp.loc[:, features].values\n",
    "# Separating out the target\n",
    "#y = df_orl.loc[:,['group']].values\n",
    "\n",
    "# Standardizing the features\n",
    "x = StandardScaler().fit_transform(x)"
   ]
  },
  {
   "cell_type": "markdown",
   "metadata": {},
   "source": [
    "#### PCA projection to 2D"
   ]
  },
  {
   "cell_type": "code",
   "execution_count": 27,
   "metadata": {},
   "outputs": [],
   "source": [
    "pca = PCA(n_components=2)\n",
    "\n",
    "principalComponents = pca.fit_transform(x)\n",
    "\n",
    "principalDf = pd.DataFrame(data = principalComponents, columns = ['Principal Component 1', 'Principal Component 2'])\n",
    "\n",
    "finalDf = pd.concat([principalDf, df_vpp[['group']]], axis = 1)"
   ]
  },
  {
   "cell_type": "markdown",
   "metadata": {},
   "source": [
    "#### Visualise 2D projection"
   ]
  },
  {
   "cell_type": "code",
   "execution_count": 28,
   "metadata": {},
   "outputs": [
    {
     "data": {
      "image/png": "[encoded data removed]",
      "text/plain": [
       "<Figure size 576x576 with 1 Axes>"
      ]
     },
     "metadata": {
      "needs_background": "light"
     },
     "output_type": "display_data"
    }
   ],
   "source": [
    "fig = plt.figure(figsize = (8,8))\n",
    "ax = fig.add_subplot(1,1,1)\n",
    "\n",
    "ax.set_xlabel('Principal Component 1', fontsize = 15)\n",
    "ax.set_ylabel('Principal Component 2', fontsize = 15)\n",
    "ax.set_title('2 Component PCA', fontsize = 20)\n",
    "\n",
    "targets = ['young', 'old']\n",
    "colors = ['b', 'y']\n",
    "\n",
    "for target, color in zip(targets,colors):\n",
    "    indicesToKeep = finalDf['group'] == target\n",
    "    ax.scatter(finalDf.loc[indicesToKeep, 'Principal Component 1']\n",
    "               , finalDf.loc[indicesToKeep, 'Principal Component 2']\n",
    "               , c = color\n",
    "               , s = 50)\n",
    "ax.legend(targets)\n",
    "ax.grid()"
   ]
  },
  {
   "cell_type": "markdown",
   "metadata": {},
   "source": [
    "#### Explained Variance"
   ]
  },
  {
   "cell_type": "code",
   "execution_count": 29,
   "metadata": {},
   "outputs": [
    {
     "data": {
      "text/plain": [
       "array([0.32732893, 0.28173918])"
      ]
     },
     "execution_count": 29,
     "metadata": {},
     "output_type": "execute_result"
    }
   ],
   "source": [
    "pca.explained_variance_ratio_"
   ]
  },
  {
   "cell_type": "markdown",
   "metadata": {},
   "source": [
    "## Plot the clusters"
   ]
  },
  {
   "cell_type": "markdown",
   "metadata": {},
   "source": [
    "#### Choose the columns to plot"
   ]
  },
  {
   "cell_type": "code",
   "execution_count": 27,
   "metadata": {},
   "outputs": [],
   "source": [
    "x = full_df.iloc[:, 2]\n",
    "y = full_df.iloc[:, 3]"
   ]
  },
  {
   "cell_type": "markdown",
   "metadata": {},
   "source": [
    "#### Plot the original data"
   ]
  },
  {
   "cell_type": "code",
   "execution_count": 28,
   "metadata": {
    "scrolled": true
   },
   "outputs": [
    {
     "data": {
      "image/png": "[encoded data removed]",
      "text/plain": [
       "<Figure size 432x288 with 1 Axes>"
      ]
     },
     "metadata": {
      "needs_background": "light"
     },
     "output_type": "display_data"
    }
   ],
   "source": [
    "plt.plot()\n",
    "plt.xlim([0, 1])\n",
    "plt.ylim([0, 1])\n",
    "plt.title('Dataset')\n",
    "plt.scatter(x, y)\n",
    "plt.show()"
   ]
  },
  {
   "cell_type": "markdown",
   "metadata": {},
   "source": [
    "#### Plot this data with the clusters"
   ]
  },
  {
   "cell_type": "code",
   "execution_count": 29,
   "metadata": {
    "scrolled": true
   },
   "outputs": [
    {
     "data": {
      "text/plain": [
       "<matplotlib.collections.PathCollection at 0x22fe622bb20>"
      ]
     },
     "execution_count": 29,
     "metadata": {},
     "output_type": "execute_result"
    },
    {
     "data": {
      "image/png": "[encoded data removed]",
      "text/plain": [
       "<Figure size 432x288 with 1 Axes>"
      ]
     },
     "metadata": {
      "needs_background": "light"
     },
     "output_type": "display_data"
    }
   ],
   "source": [
    "plt.scatter(x, y, c=full_df[\"Cluster\"])"
   ]
  },
  {
   "cell_type": "markdown",
   "metadata": {},
   "source": [
    "#### Plot this data with the clusters and their centroids"
   ]
  },
  {
   "cell_type": "code",
   "execution_count": 30,
   "metadata": {},
   "outputs": [
    {
     "data": {
      "image/png": "[encoded data removed]",
      "text/plain": [
       "<Figure size 432x288 with 1 Axes>"
      ]
     },
     "metadata": {
      "needs_background": "light"
     },
     "output_type": "display_data"
    }
   ],
   "source": [
    "kmeans = KMeans(n_clusters=num_clusters).fit(train_x)\n",
    "centroids = kmeans.cluster_centers_\n",
    "\n",
    "plt.scatter(x, y, c= kmeans.labels_.astype(float), s=50, alpha=0.5)\n",
    "plt.scatter(centroids[:, 0], centroids[:, 1], c='red', s=50)\n",
    "plt.show()"
   ]
  },
  {
   "cell_type": "code",
   "execution_count": null,
   "metadata": {},
   "outputs": [],
   "source": []
  },
  {
   "cell_type": "markdown",
   "metadata": {},
   "source": [
    "## See how the 'Old' and 'Young' fall into these clusters"
   ]
  },
  {
   "cell_type": "code",
   "execution_count": 31,
   "metadata": {},
   "outputs": [
    {
     "data": {
      "text/html": [
       "<div>\n",
       "<style scoped>\n",
       "    .dataframe tbody tr th:only-of-type {\n",
       "        vertical-align: middle;\n",
       "    }\n",
       "\n",
       "    .dataframe tbody tr th {\n",
       "        vertical-align: top;\n",
       "    }\n",
       "\n",
       "    .dataframe thead th {\n",
       "        text-align: right;\n",
       "    }\n",
       "</style>\n",
       "<table border=\"1\" class=\"dataframe\">\n",
       "  <thead>\n",
       "    <tr style=\"text-align: right;\">\n",
       "      <th></th>\n",
       "      <th>group</th>\n",
       "      <th>SubID</th>\n",
       "      <th>LR</th>\n",
       "      <th>Outcome_Sens</th>\n",
       "      <th>Response_cons</th>\n",
       "      <th>Loss_Aver</th>\n",
       "      <th>Cluster</th>\n",
       "    </tr>\n",
       "  </thead>\n",
       "  <tbody>\n",
       "    <tr>\n",
       "      <th>0</th>\n",
       "      <td>young</td>\n",
       "      <td>1</td>\n",
       "      <td>0.159011</td>\n",
       "      <td>0.487522</td>\n",
       "      <td>0.686815</td>\n",
       "      <td>0.954498</td>\n",
       "      <td>4</td>\n",
       "    </tr>\n",
       "    <tr>\n",
       "      <th>1</th>\n",
       "      <td>young</td>\n",
       "      <td>2</td>\n",
       "      <td>0.064666</td>\n",
       "      <td>0.511008</td>\n",
       "      <td>1.391790</td>\n",
       "      <td>0.295529</td>\n",
       "      <td>6</td>\n",
       "    </tr>\n",
       "    <tr>\n",
       "      <th>2</th>\n",
       "      <td>young</td>\n",
       "      <td>3</td>\n",
       "      <td>0.113089</td>\n",
       "      <td>0.465141</td>\n",
       "      <td>0.918734</td>\n",
       "      <td>0.533232</td>\n",
       "      <td>4</td>\n",
       "    </tr>\n",
       "    <tr>\n",
       "      <th>3</th>\n",
       "      <td>young</td>\n",
       "      <td>4</td>\n",
       "      <td>0.089273</td>\n",
       "      <td>0.500391</td>\n",
       "      <td>0.703737</td>\n",
       "      <td>0.869859</td>\n",
       "      <td>4</td>\n",
       "    </tr>\n",
       "    <tr>\n",
       "      <th>4</th>\n",
       "      <td>young</td>\n",
       "      <td>5</td>\n",
       "      <td>0.233898</td>\n",
       "      <td>0.488053</td>\n",
       "      <td>0.897867</td>\n",
       "      <td>0.511095</td>\n",
       "      <td>4</td>\n",
       "    </tr>\n",
       "  </tbody>\n",
       "</table>\n",
       "</div>"
      ],
      "text/plain": [
       "   group  SubID        LR  Outcome_Sens  Response_cons  Loss_Aver  Cluster\n",
       "0  young      1  0.159011      0.487522       0.686815   0.954498        4\n",
       "1  young      2  0.064666      0.511008       1.391790   0.295529        6\n",
       "2  young      3  0.113089      0.465141       0.918734   0.533232        4\n",
       "3  young      4  0.089273      0.500391       0.703737   0.869859        4\n",
       "4  young      5  0.233898      0.488053       0.897867   0.511095        4"
      ]
     },
     "execution_count": 31,
     "metadata": {},
     "output_type": "execute_result"
    }
   ],
   "source": [
    "full_df.head()"
   ]
  },
  {
   "cell_type": "markdown",
   "metadata": {},
   "source": [
    "#### Create a dataframe showing how many people people fell into each cluster"
   ]
  },
  {
   "cell_type": "code",
   "execution_count": 32,
   "metadata": {},
   "outputs": [],
   "source": [
    "all_cluster_df = pd.DataFrame(full_df[[\"group\", \"Cluster\"]].groupby(\"Cluster\").count()).rename(columns={\"group\": \"All\"})"
   ]
  },
  {
   "cell_type": "markdown",
   "metadata": {},
   "source": [
    "#### Change 'young' to 1 and 'old' to np.nan"
   ]
  },
  {
   "cell_type": "code",
   "execution_count": 33,
   "metadata": {
    "scrolled": true
   },
   "outputs": [
    {
     "data": {
      "text/html": [
       "<div>\n",
       "<style scoped>\n",
       "    .dataframe tbody tr th:only-of-type {\n",
       "        vertical-align: middle;\n",
       "    }\n",
       "\n",
       "    .dataframe tbody tr th {\n",
       "        vertical-align: top;\n",
       "    }\n",
       "\n",
       "    .dataframe thead th {\n",
       "        text-align: right;\n",
       "    }\n",
       "</style>\n",
       "<table border=\"1\" class=\"dataframe\">\n",
       "  <thead>\n",
       "    <tr style=\"text-align: right;\">\n",
       "      <th></th>\n",
       "      <th>group</th>\n",
       "      <th>SubID</th>\n",
       "      <th>LR</th>\n",
       "      <th>Outcome_Sens</th>\n",
       "      <th>Response_cons</th>\n",
       "      <th>Loss_Aver</th>\n",
       "      <th>Cluster</th>\n",
       "    </tr>\n",
       "  </thead>\n",
       "  <tbody>\n",
       "    <tr>\n",
       "      <th>0</th>\n",
       "      <td>1.0</td>\n",
       "      <td>1</td>\n",
       "      <td>0.159011</td>\n",
       "      <td>0.487522</td>\n",
       "      <td>0.686815</td>\n",
       "      <td>0.954498</td>\n",
       "      <td>4</td>\n",
       "    </tr>\n",
       "    <tr>\n",
       "      <th>1</th>\n",
       "      <td>1.0</td>\n",
       "      <td>2</td>\n",
       "      <td>0.064666</td>\n",
       "      <td>0.511008</td>\n",
       "      <td>1.391790</td>\n",
       "      <td>0.295529</td>\n",
       "      <td>6</td>\n",
       "    </tr>\n",
       "    <tr>\n",
       "      <th>2</th>\n",
       "      <td>1.0</td>\n",
       "      <td>3</td>\n",
       "      <td>0.113089</td>\n",
       "      <td>0.465141</td>\n",
       "      <td>0.918734</td>\n",
       "      <td>0.533232</td>\n",
       "      <td>4</td>\n",
       "    </tr>\n",
       "    <tr>\n",
       "      <th>3</th>\n",
       "      <td>1.0</td>\n",
       "      <td>4</td>\n",
       "      <td>0.089273</td>\n",
       "      <td>0.500391</td>\n",
       "      <td>0.703737</td>\n",
       "      <td>0.869859</td>\n",
       "      <td>4</td>\n",
       "    </tr>\n",
       "    <tr>\n",
       "      <th>4</th>\n",
       "      <td>1.0</td>\n",
       "      <td>5</td>\n",
       "      <td>0.233898</td>\n",
       "      <td>0.488053</td>\n",
       "      <td>0.897867</td>\n",
       "      <td>0.511095</td>\n",
       "      <td>4</td>\n",
       "    </tr>\n",
       "  </tbody>\n",
       "</table>\n",
       "</div>"
      ],
      "text/plain": [
       "   group  SubID        LR  Outcome_Sens  Response_cons  Loss_Aver  Cluster\n",
       "0    1.0      1  0.159011      0.487522       0.686815   0.954498        4\n",
       "1    1.0      2  0.064666      0.511008       1.391790   0.295529        6\n",
       "2    1.0      3  0.113089      0.465141       0.918734   0.533232        4\n",
       "3    1.0      4  0.089273      0.500391       0.703737   0.869859        4\n",
       "4    1.0      5  0.233898      0.488053       0.897867   0.511095        4"
      ]
     },
     "execution_count": 33,
     "metadata": {},
     "output_type": "execute_result"
    }
   ],
   "source": [
    "full_df[\"group\"] = full_df[\"group\"].replace('old', np.nan).replace('young', 1)\n",
    "full_df.head()"
   ]
  },
  {
   "cell_type": "markdown",
   "metadata": {},
   "source": [
    "#### Create a dataframe showing how many young people fell into each cluster"
   ]
  },
  {
   "cell_type": "code",
   "execution_count": 34,
   "metadata": {},
   "outputs": [],
   "source": [
    "young_cluster_df = pd.DataFrame(full_df[[\"group\", \"Cluster\"]].groupby(\"Cluster\").count()).rename(columns={\"group\": \"Young\"})"
   ]
  },
  {
   "cell_type": "markdown",
   "metadata": {},
   "source": [
    "#### Create a dataframe showing how many old people fell into each cluster"
   ]
  },
  {
   "cell_type": "code",
   "execution_count": 35,
   "metadata": {
    "scrolled": true
   },
   "outputs": [],
   "source": [
    "old_cluster_df = pd.DataFrame(full_df[\"group\"].isnull().groupby(full_df[\"Cluster\"]).sum().astype(int)).rename(columns={\"group\": \"Old\"})"
   ]
  },
  {
   "cell_type": "markdown",
   "metadata": {},
   "source": [
    "#### Output how many 'young' and 'old' people fell into each cluster"
   ]
  },
  {
   "cell_type": "code",
   "execution_count": 36,
   "metadata": {},
   "outputs": [
    {
     "data": {
      "text/html": [
       "<div>\n",
       "<style scoped>\n",
       "    .dataframe tbody tr th:only-of-type {\n",
       "        vertical-align: middle;\n",
       "    }\n",
       "\n",
       "    .dataframe tbody tr th {\n",
       "        vertical-align: top;\n",
       "    }\n",
       "\n",
       "    .dataframe thead th {\n",
       "        text-align: right;\n",
       "    }\n",
       "</style>\n",
       "<table border=\"1\" class=\"dataframe\">\n",
       "  <thead>\n",
       "    <tr style=\"text-align: right;\">\n",
       "      <th></th>\n",
       "      <th>All</th>\n",
       "      <th>Young</th>\n",
       "      <th>Old</th>\n",
       "    </tr>\n",
       "    <tr>\n",
       "      <th>Cluster</th>\n",
       "      <th></th>\n",
       "      <th></th>\n",
       "      <th></th>\n",
       "    </tr>\n",
       "  </thead>\n",
       "  <tbody>\n",
       "    <tr>\n",
       "      <th>0</th>\n",
       "      <td>7</td>\n",
       "      <td>4</td>\n",
       "      <td>3</td>\n",
       "    </tr>\n",
       "    <tr>\n",
       "      <th>1</th>\n",
       "      <td>8</td>\n",
       "      <td>5</td>\n",
       "      <td>3</td>\n",
       "    </tr>\n",
       "    <tr>\n",
       "      <th>2</th>\n",
       "      <td>51</td>\n",
       "      <td>26</td>\n",
       "      <td>25</td>\n",
       "    </tr>\n",
       "    <tr>\n",
       "      <th>3</th>\n",
       "      <td>3</td>\n",
       "      <td>3</td>\n",
       "      <td>0</td>\n",
       "    </tr>\n",
       "    <tr>\n",
       "      <th>4</th>\n",
       "      <td>67</td>\n",
       "      <td>48</td>\n",
       "      <td>19</td>\n",
       "    </tr>\n",
       "    <tr>\n",
       "      <th>6</th>\n",
       "      <td>17</td>\n",
       "      <td>4</td>\n",
       "      <td>13</td>\n",
       "    </tr>\n",
       "  </tbody>\n",
       "</table>\n",
       "</div>"
      ],
      "text/plain": [
       "         All  Young  Old\n",
       "Cluster                 \n",
       "0          7      4    3\n",
       "1          8      5    3\n",
       "2         51     26   25\n",
       "3          3      3    0\n",
       "4         67     48   19\n",
       "6         17      4   13"
      ]
     },
     "execution_count": 36,
     "metadata": {},
     "output_type": "execute_result"
    }
   ],
   "source": [
    "pd.merge(all_cluster_df, pd.merge(young_cluster_df, old_cluster_df, how=\"inner\", on=\"Cluster\"), how=\"inner\", on=\"Cluster\")"
   ]
  },
  {
   "cell_type": "code",
   "execution_count": null,
   "metadata": {},
   "outputs": [],
   "source": []
  }
 ],
 "metadata": {
  "kernelspec": {
   "display_name": "Python 3",
   "language": "python",
   "name": "python3"
  },
  "language_info": {
   "codemirror_mode": {
    "name": "ipython",
    "version": 3
   },
   "file_extension": ".py",
   "mimetype": "text/x-python",
   "name": "python",
   "nbconvert_exporter": "python",
   "pygments_lexer": "ipython3",
   "version": "3.8.5"
  }
 },
 "nbformat": 4,
 "nbformat_minor": 2
}
