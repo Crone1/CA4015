{
 "cells": [
  {
   "cell_type": "markdown",
   "metadata": {},
   "source": [
    "## Importing Relevant Libraries"
   ]
  },
  {
   "cell_type": "markdown",
   "metadata": {},
   "source": [
    "#### General"
   ]
  },
  {
   "cell_type": "code",
   "execution_count": 1,
   "metadata": {},
   "outputs": [],
   "source": [
    "import pandas as pd\n",
    "import numpy as np"
   ]
  },
  {
   "cell_type": "markdown",
   "metadata": {},
   "source": [
    "#### For clustering"
   ]
  },
  {
   "cell_type": "code",
   "execution_count": 28,
   "metadata": {},
   "outputs": [],
   "source": [
    "from sklearn.cluster import KMeans\n",
    "from sklearn.cluster import SpectralClustering\n",
    "from sklearn import metrics\n",
    "from scipy.spatial.distance import cdist\n",
    "from sklearn.metrics import silhouette_score"
   ]
  },
  {
   "cell_type": "markdown",
   "metadata": {},
   "source": [
    "#### For principal component analysis"
   ]
  },
  {
   "cell_type": "code",
   "execution_count": 3,
   "metadata": {},
   "outputs": [],
   "source": [
    "from sklearn.preprocessing import StandardScaler\n",
    "from sklearn.decomposition import PCA"
   ]
  },
  {
   "cell_type": "markdown",
   "metadata": {},
   "source": [
    "#### For plotting"
   ]
  },
  {
   "cell_type": "code",
   "execution_count": 4,
   "metadata": {},
   "outputs": [],
   "source": [
    "import matplotlib.pyplot as plt"
   ]
  },
  {
   "cell_type": "markdown",
   "metadata": {},
   "source": [
    "# ============================================================="
   ]
  },
  {
   "cell_type": "markdown",
   "metadata": {},
   "source": [
    "# 1. Reading in the data"
   ]
  },
  {
   "cell_type": "markdown",
   "metadata": {},
   "source": [
    "# ============================================================="
   ]
  },
  {
   "cell_type": "markdown",
   "metadata": {},
   "source": [
    "### Read in data from PVL-Delta model"
   ]
  },
  {
   "cell_type": "code",
   "execution_count": 5,
   "metadata": {},
   "outputs": [],
   "source": [
    "df_pvl_delta = pd.read_csv(\"./data/parameter_igt_pvl_delta.csv\")"
   ]
  },
  {
   "cell_type": "markdown",
   "metadata": {},
   "source": [
    "#### Inspect the data"
   ]
  },
  {
   "cell_type": "code",
   "execution_count": 6,
   "metadata": {
    "scrolled": true
   },
   "outputs": [
    {
     "data": {
      "text/html": [
       "<div>\n",
       "<style scoped>\n",
       "    .dataframe tbody tr th:only-of-type {\n",
       "        vertical-align: middle;\n",
       "    }\n",
       "\n",
       "    .dataframe tbody tr th {\n",
       "        vertical-align: top;\n",
       "    }\n",
       "\n",
       "    .dataframe thead th {\n",
       "        text-align: right;\n",
       "    }\n",
       "</style>\n",
       "<table border=\"1\" class=\"dataframe\">\n",
       "  <thead>\n",
       "    <tr style=\"text-align: right;\">\n",
       "      <th></th>\n",
       "      <th>group</th>\n",
       "      <th>SubID</th>\n",
       "      <th>LR</th>\n",
       "      <th>Outcome_Sens</th>\n",
       "      <th>Response_cons</th>\n",
       "      <th>Loss_Aver</th>\n",
       "    </tr>\n",
       "  </thead>\n",
       "  <tbody>\n",
       "    <tr>\n",
       "      <th>0</th>\n",
       "      <td>young</td>\n",
       "      <td>1</td>\n",
       "      <td>0.159011</td>\n",
       "      <td>0.487522</td>\n",
       "      <td>0.686815</td>\n",
       "      <td>0.954498</td>\n",
       "    </tr>\n",
       "    <tr>\n",
       "      <th>1</th>\n",
       "      <td>young</td>\n",
       "      <td>2</td>\n",
       "      <td>0.064666</td>\n",
       "      <td>0.511008</td>\n",
       "      <td>1.391790</td>\n",
       "      <td>0.295529</td>\n",
       "    </tr>\n",
       "    <tr>\n",
       "      <th>2</th>\n",
       "      <td>young</td>\n",
       "      <td>3</td>\n",
       "      <td>0.113089</td>\n",
       "      <td>0.465141</td>\n",
       "      <td>0.918734</td>\n",
       "      <td>0.533232</td>\n",
       "    </tr>\n",
       "    <tr>\n",
       "      <th>3</th>\n",
       "      <td>young</td>\n",
       "      <td>4</td>\n",
       "      <td>0.089273</td>\n",
       "      <td>0.500391</td>\n",
       "      <td>0.703737</td>\n",
       "      <td>0.869859</td>\n",
       "    </tr>\n",
       "    <tr>\n",
       "      <th>4</th>\n",
       "      <td>young</td>\n",
       "      <td>5</td>\n",
       "      <td>0.233898</td>\n",
       "      <td>0.488053</td>\n",
       "      <td>0.897867</td>\n",
       "      <td>0.511095</td>\n",
       "    </tr>\n",
       "  </tbody>\n",
       "</table>\n",
       "</div>"
      ],
      "text/plain": [
       "   group  SubID        LR  Outcome_Sens  Response_cons  Loss_Aver\n",
       "0  young      1  0.159011      0.487522       0.686815   0.954498\n",
       "1  young      2  0.064666      0.511008       1.391790   0.295529\n",
       "2  young      3  0.113089      0.465141       0.918734   0.533232\n",
       "3  young      4  0.089273      0.500391       0.703737   0.869859\n",
       "4  young      5  0.233898      0.488053       0.897867   0.511095"
      ]
     },
     "execution_count": 6,
     "metadata": {},
     "output_type": "execute_result"
    }
   ],
   "source": [
    "df_pvl_delta.head()"
   ]
  },
  {
   "cell_type": "code",
   "execution_count": 7,
   "metadata": {},
   "outputs": [
    {
     "data": {
      "text/plain": [
       "<matplotlib.collections.PathCollection at 0x25c4dfc1430>"
      ]
     },
     "execution_count": 7,
     "metadata": {},
     "output_type": "execute_result"
    },
    {
     "data": {
      "image/png": "[encoded data removed]",
      "text/plain": [
       "<Figure size 432x288 with 1 Axes>"
      ]
     },
     "metadata": {
      "needs_background": "light"
     },
     "output_type": "display_data"
    }
   ],
   "source": [
    "plt.scatter(df_pvl_delta[\"LR\"], df_pvl_delta[\"Outcome_Sens\"])"
   ]
  },
  {
   "cell_type": "markdown",
   "metadata": {},
   "source": [
    "#### Processing\n",
    "'SubID' column can be dropped as it is not used for analysis."
   ]
  },
  {
   "cell_type": "code",
   "execution_count": 8,
   "metadata": {},
   "outputs": [],
   "source": [
    "df_pvl_delta.drop(columns=['SubID'], inplace=True)"
   ]
  },
  {
   "cell_type": "code",
   "execution_count": 9,
   "metadata": {},
   "outputs": [
    {
     "data": {
      "text/html": [
       "<div>\n",
       "<style scoped>\n",
       "    .dataframe tbody tr th:only-of-type {\n",
       "        vertical-align: middle;\n",
       "    }\n",
       "\n",
       "    .dataframe tbody tr th {\n",
       "        vertical-align: top;\n",
       "    }\n",
       "\n",
       "    .dataframe thead th {\n",
       "        text-align: right;\n",
       "    }\n",
       "</style>\n",
       "<table border=\"1\" class=\"dataframe\">\n",
       "  <thead>\n",
       "    <tr style=\"text-align: right;\">\n",
       "      <th></th>\n",
       "      <th>group</th>\n",
       "      <th>LR</th>\n",
       "      <th>Outcome_Sens</th>\n",
       "      <th>Response_cons</th>\n",
       "      <th>Loss_Aver</th>\n",
       "    </tr>\n",
       "  </thead>\n",
       "  <tbody>\n",
       "    <tr>\n",
       "      <th>0</th>\n",
       "      <td>young</td>\n",
       "      <td>0.159011</td>\n",
       "      <td>0.487522</td>\n",
       "      <td>0.686815</td>\n",
       "      <td>0.954498</td>\n",
       "    </tr>\n",
       "    <tr>\n",
       "      <th>1</th>\n",
       "      <td>young</td>\n",
       "      <td>0.064666</td>\n",
       "      <td>0.511008</td>\n",
       "      <td>1.391790</td>\n",
       "      <td>0.295529</td>\n",
       "    </tr>\n",
       "    <tr>\n",
       "      <th>2</th>\n",
       "      <td>young</td>\n",
       "      <td>0.113089</td>\n",
       "      <td>0.465141</td>\n",
       "      <td>0.918734</td>\n",
       "      <td>0.533232</td>\n",
       "    </tr>\n",
       "    <tr>\n",
       "      <th>3</th>\n",
       "      <td>young</td>\n",
       "      <td>0.089273</td>\n",
       "      <td>0.500391</td>\n",
       "      <td>0.703737</td>\n",
       "      <td>0.869859</td>\n",
       "    </tr>\n",
       "    <tr>\n",
       "      <th>4</th>\n",
       "      <td>young</td>\n",
       "      <td>0.233898</td>\n",
       "      <td>0.488053</td>\n",
       "      <td>0.897867</td>\n",
       "      <td>0.511095</td>\n",
       "    </tr>\n",
       "  </tbody>\n",
       "</table>\n",
       "</div>"
      ],
      "text/plain": [
       "   group        LR  Outcome_Sens  Response_cons  Loss_Aver\n",
       "0  young  0.159011      0.487522       0.686815   0.954498\n",
       "1  young  0.064666      0.511008       1.391790   0.295529\n",
       "2  young  0.113089      0.465141       0.918734   0.533232\n",
       "3  young  0.089273      0.500391       0.703737   0.869859\n",
       "4  young  0.233898      0.488053       0.897867   0.511095"
      ]
     },
     "execution_count": 9,
     "metadata": {},
     "output_type": "execute_result"
    }
   ],
   "source": [
    "df_pvl_delta.head()"
   ]
  },
  {
   "cell_type": "markdown",
   "metadata": {},
   "source": [
    "### Read in data from the ORL model"
   ]
  },
  {
   "cell_type": "code",
   "execution_count": 10,
   "metadata": {},
   "outputs": [],
   "source": [
    "df_orl = pd.read_csv(\"./data/parameter_igt_orl.csv\")"
   ]
  },
  {
   "cell_type": "markdown",
   "metadata": {},
   "source": [
    "#### Inspect the data"
   ]
  },
  {
   "cell_type": "code",
   "execution_count": 11,
   "metadata": {
    "scrolled": true
   },
   "outputs": [
    {
     "data": {
      "text/html": [
       "<div>\n",
       "<style scoped>\n",
       "    .dataframe tbody tr th:only-of-type {\n",
       "        vertical-align: middle;\n",
       "    }\n",
       "\n",
       "    .dataframe tbody tr th {\n",
       "        vertical-align: top;\n",
       "    }\n",
       "\n",
       "    .dataframe thead th {\n",
       "        text-align: right;\n",
       "    }\n",
       "</style>\n",
       "<table border=\"1\" class=\"dataframe\">\n",
       "  <thead>\n",
       "    <tr style=\"text-align: right;\">\n",
       "      <th></th>\n",
       "      <th>subjID</th>\n",
       "      <th>A+</th>\n",
       "      <th>A-</th>\n",
       "      <th>K</th>\n",
       "      <th>BetaF</th>\n",
       "      <th>BetaP</th>\n",
       "      <th>A+-A-</th>\n",
       "    </tr>\n",
       "  </thead>\n",
       "  <tbody>\n",
       "    <tr>\n",
       "      <th>0</th>\n",
       "      <td>old</td>\n",
       "      <td>0.324444</td>\n",
       "      <td>0.068862</td>\n",
       "      <td>1.502130</td>\n",
       "      <td>2.523191</td>\n",
       "      <td>-5.547480</td>\n",
       "      <td>0.255581</td>\n",
       "    </tr>\n",
       "    <tr>\n",
       "      <th>1</th>\n",
       "      <td>old</td>\n",
       "      <td>0.885744</td>\n",
       "      <td>0.120145</td>\n",
       "      <td>0.012591</td>\n",
       "      <td>3.193244</td>\n",
       "      <td>-9.159800</td>\n",
       "      <td>0.765598</td>\n",
       "    </tr>\n",
       "    <tr>\n",
       "      <th>2</th>\n",
       "      <td>old</td>\n",
       "      <td>0.318205</td>\n",
       "      <td>0.078128</td>\n",
       "      <td>1.927309</td>\n",
       "      <td>0.615708</td>\n",
       "      <td>9.272336</td>\n",
       "      <td>0.240077</td>\n",
       "    </tr>\n",
       "    <tr>\n",
       "      <th>3</th>\n",
       "      <td>old</td>\n",
       "      <td>0.728192</td>\n",
       "      <td>0.106737</td>\n",
       "      <td>0.388407</td>\n",
       "      <td>2.595746</td>\n",
       "      <td>-2.239555</td>\n",
       "      <td>0.621455</td>\n",
       "    </tr>\n",
       "    <tr>\n",
       "      <th>4</th>\n",
       "      <td>old</td>\n",
       "      <td>0.356229</td>\n",
       "      <td>0.091987</td>\n",
       "      <td>1.810674</td>\n",
       "      <td>0.508605</td>\n",
       "      <td>9.825699</td>\n",
       "      <td>0.264241</td>\n",
       "    </tr>\n",
       "  </tbody>\n",
       "</table>\n",
       "</div>"
      ],
      "text/plain": [
       "  subjID        A+        A-         K     BetaF     BetaP     A+-A-\n",
       "0    old  0.324444  0.068862  1.502130  2.523191 -5.547480  0.255581\n",
       "1    old  0.885744  0.120145  0.012591  3.193244 -9.159800  0.765598\n",
       "2    old  0.318205  0.078128  1.927309  0.615708  9.272336  0.240077\n",
       "3    old  0.728192  0.106737  0.388407  2.595746 -2.239555  0.621455\n",
       "4    old  0.356229  0.091987  1.810674  0.508605  9.825699  0.264241"
      ]
     },
     "execution_count": 11,
     "metadata": {},
     "output_type": "execute_result"
    }
   ],
   "source": [
    "df_orl.head()"
   ]
  },
  {
   "cell_type": "markdown",
   "metadata": {},
   "source": [
    "#### Processing\n",
    "'subjID' column in input file is actually the 'group' column based on its contents. Thus, rename the column as so."
   ]
  },
  {
   "cell_type": "code",
   "execution_count": 12,
   "metadata": {},
   "outputs": [
    {
     "data": {
      "text/html": [
       "<div>\n",
       "<style scoped>\n",
       "    .dataframe tbody tr th:only-of-type {\n",
       "        vertical-align: middle;\n",
       "    }\n",
       "\n",
       "    .dataframe tbody tr th {\n",
       "        vertical-align: top;\n",
       "    }\n",
       "\n",
       "    .dataframe thead th {\n",
       "        text-align: right;\n",
       "    }\n",
       "</style>\n",
       "<table border=\"1\" class=\"dataframe\">\n",
       "  <thead>\n",
       "    <tr style=\"text-align: right;\">\n",
       "      <th></th>\n",
       "      <th>group</th>\n",
       "      <th>A+</th>\n",
       "      <th>A-</th>\n",
       "      <th>K</th>\n",
       "      <th>BetaF</th>\n",
       "      <th>BetaP</th>\n",
       "      <th>A+-A-</th>\n",
       "    </tr>\n",
       "  </thead>\n",
       "  <tbody>\n",
       "    <tr>\n",
       "      <th>0</th>\n",
       "      <td>old</td>\n",
       "      <td>0.324444</td>\n",
       "      <td>0.068862</td>\n",
       "      <td>1.502130</td>\n",
       "      <td>2.523191</td>\n",
       "      <td>-5.547480</td>\n",
       "      <td>0.255581</td>\n",
       "    </tr>\n",
       "    <tr>\n",
       "      <th>1</th>\n",
       "      <td>old</td>\n",
       "      <td>0.885744</td>\n",
       "      <td>0.120145</td>\n",
       "      <td>0.012591</td>\n",
       "      <td>3.193244</td>\n",
       "      <td>-9.159800</td>\n",
       "      <td>0.765598</td>\n",
       "    </tr>\n",
       "    <tr>\n",
       "      <th>2</th>\n",
       "      <td>old</td>\n",
       "      <td>0.318205</td>\n",
       "      <td>0.078128</td>\n",
       "      <td>1.927309</td>\n",
       "      <td>0.615708</td>\n",
       "      <td>9.272336</td>\n",
       "      <td>0.240077</td>\n",
       "    </tr>\n",
       "    <tr>\n",
       "      <th>3</th>\n",
       "      <td>old</td>\n",
       "      <td>0.728192</td>\n",
       "      <td>0.106737</td>\n",
       "      <td>0.388407</td>\n",
       "      <td>2.595746</td>\n",
       "      <td>-2.239555</td>\n",
       "      <td>0.621455</td>\n",
       "    </tr>\n",
       "    <tr>\n",
       "      <th>4</th>\n",
       "      <td>old</td>\n",
       "      <td>0.356229</td>\n",
       "      <td>0.091987</td>\n",
       "      <td>1.810674</td>\n",
       "      <td>0.508605</td>\n",
       "      <td>9.825699</td>\n",
       "      <td>0.264241</td>\n",
       "    </tr>\n",
       "  </tbody>\n",
       "</table>\n",
       "</div>"
      ],
      "text/plain": [
       "  group        A+        A-         K     BetaF     BetaP     A+-A-\n",
       "0   old  0.324444  0.068862  1.502130  2.523191 -5.547480  0.255581\n",
       "1   old  0.885744  0.120145  0.012591  3.193244 -9.159800  0.765598\n",
       "2   old  0.318205  0.078128  1.927309  0.615708  9.272336  0.240077\n",
       "3   old  0.728192  0.106737  0.388407  2.595746 -2.239555  0.621455\n",
       "4   old  0.356229  0.091987  1.810674  0.508605  9.825699  0.264241"
      ]
     },
     "execution_count": 12,
     "metadata": {},
     "output_type": "execute_result"
    }
   ],
   "source": [
    "df_orl.rename(columns={'subjID':'group'}, inplace=True)\n",
    "df_orl.head()"
   ]
  },
  {
   "cell_type": "markdown",
   "metadata": {},
   "source": [
    "### Read in data from the VPP model"
   ]
  },
  {
   "cell_type": "code",
   "execution_count": 13,
   "metadata": {},
   "outputs": [],
   "source": [
    "df_vpp = pd.read_csv(\"./data/parameters_igt_vpp.csv\")"
   ]
  },
  {
   "cell_type": "markdown",
   "metadata": {},
   "source": [
    "#### Inspect the data"
   ]
  },
  {
   "cell_type": "code",
   "execution_count": 14,
   "metadata": {
    "scrolled": true
   },
   "outputs": [
    {
     "data": {
      "text/html": [
       "<div>\n",
       "<style scoped>\n",
       "    .dataframe tbody tr th:only-of-type {\n",
       "        vertical-align: middle;\n",
       "    }\n",
       "\n",
       "    .dataframe tbody tr th {\n",
       "        vertical-align: top;\n",
       "    }\n",
       "\n",
       "    .dataframe thead th {\n",
       "        text-align: right;\n",
       "    }\n",
       "</style>\n",
       "<table border=\"1\" class=\"dataframe\">\n",
       "  <thead>\n",
       "    <tr style=\"text-align: right;\">\n",
       "      <th></th>\n",
       "      <th>group</th>\n",
       "      <th>SubID</th>\n",
       "      <th>LR</th>\n",
       "      <th>Out_Sens</th>\n",
       "      <th>Res_Cons</th>\n",
       "      <th>Loss_Aver</th>\n",
       "      <th>Gain_Impa</th>\n",
       "      <th>Loss_Impa</th>\n",
       "      <th>Deca_Rate</th>\n",
       "      <th>RL_weight</th>\n",
       "    </tr>\n",
       "  </thead>\n",
       "  <tbody>\n",
       "    <tr>\n",
       "      <th>0</th>\n",
       "      <td>young</td>\n",
       "      <td>1</td>\n",
       "      <td>0.038441</td>\n",
       "      <td>0.630402</td>\n",
       "      <td>1.207295</td>\n",
       "      <td>1.050323</td>\n",
       "      <td>-0.535035</td>\n",
       "      <td>-1.913099</td>\n",
       "      <td>0.669323</td>\n",
       "      <td>0.660446</td>\n",
       "    </tr>\n",
       "    <tr>\n",
       "      <th>1</th>\n",
       "      <td>young</td>\n",
       "      <td>2</td>\n",
       "      <td>0.045673</td>\n",
       "      <td>0.630331</td>\n",
       "      <td>1.628191</td>\n",
       "      <td>0.205205</td>\n",
       "      <td>-0.133367</td>\n",
       "      <td>-1.423580</td>\n",
       "      <td>0.427207</td>\n",
       "      <td>0.719352</td>\n",
       "    </tr>\n",
       "    <tr>\n",
       "      <th>2</th>\n",
       "      <td>young</td>\n",
       "      <td>3</td>\n",
       "      <td>0.045468</td>\n",
       "      <td>0.602974</td>\n",
       "      <td>1.395572</td>\n",
       "      <td>0.383055</td>\n",
       "      <td>-0.344822</td>\n",
       "      <td>-1.719826</td>\n",
       "      <td>0.493249</td>\n",
       "      <td>0.688723</td>\n",
       "    </tr>\n",
       "    <tr>\n",
       "      <th>3</th>\n",
       "      <td>young</td>\n",
       "      <td>4</td>\n",
       "      <td>0.035789</td>\n",
       "      <td>0.635677</td>\n",
       "      <td>1.067831</td>\n",
       "      <td>0.823790</td>\n",
       "      <td>-0.229192</td>\n",
       "      <td>-1.484455</td>\n",
       "      <td>0.625835</td>\n",
       "      <td>0.675971</td>\n",
       "    </tr>\n",
       "    <tr>\n",
       "      <th>4</th>\n",
       "      <td>young</td>\n",
       "      <td>5</td>\n",
       "      <td>0.060655</td>\n",
       "      <td>0.636276</td>\n",
       "      <td>1.802964</td>\n",
       "      <td>0.329246</td>\n",
       "      <td>-0.616020</td>\n",
       "      <td>-2.561017</td>\n",
       "      <td>0.439912</td>\n",
       "      <td>0.655563</td>\n",
       "    </tr>\n",
       "  </tbody>\n",
       "</table>\n",
       "</div>"
      ],
      "text/plain": [
       "   group  SubID        LR  Out_Sens  Res_Cons  Loss_Aver  Gain_Impa  \\\n",
       "0  young      1  0.038441  0.630402  1.207295   1.050323  -0.535035   \n",
       "1  young      2  0.045673  0.630331  1.628191   0.205205  -0.133367   \n",
       "2  young      3  0.045468  0.602974  1.395572   0.383055  -0.344822   \n",
       "3  young      4  0.035789  0.635677  1.067831   0.823790  -0.229192   \n",
       "4  young      5  0.060655  0.636276  1.802964   0.329246  -0.616020   \n",
       "\n",
       "   Loss_Impa  Deca_Rate  RL_weight  \n",
       "0  -1.913099   0.669323   0.660446  \n",
       "1  -1.423580   0.427207   0.719352  \n",
       "2  -1.719826   0.493249   0.688723  \n",
       "3  -1.484455   0.625835   0.675971  \n",
       "4  -2.561017   0.439912   0.655563  "
      ]
     },
     "execution_count": 14,
     "metadata": {},
     "output_type": "execute_result"
    }
   ],
   "source": [
    "df_vpp.head()"
   ]
  },
  {
   "cell_type": "markdown",
   "metadata": {},
   "source": [
    "#### Processing\n",
    "'SubID' column is dropped as done for PVL-Delta dataset."
   ]
  },
  {
   "cell_type": "code",
   "execution_count": 15,
   "metadata": {},
   "outputs": [
    {
     "data": {
      "text/html": [
       "<div>\n",
       "<style scoped>\n",
       "    .dataframe tbody tr th:only-of-type {\n",
       "        vertical-align: middle;\n",
       "    }\n",
       "\n",
       "    .dataframe tbody tr th {\n",
       "        vertical-align: top;\n",
       "    }\n",
       "\n",
       "    .dataframe thead th {\n",
       "        text-align: right;\n",
       "    }\n",
       "</style>\n",
       "<table border=\"1\" class=\"dataframe\">\n",
       "  <thead>\n",
       "    <tr style=\"text-align: right;\">\n",
       "      <th></th>\n",
       "      <th>group</th>\n",
       "      <th>LR</th>\n",
       "      <th>Out_Sens</th>\n",
       "      <th>Res_Cons</th>\n",
       "      <th>Loss_Aver</th>\n",
       "      <th>Gain_Impa</th>\n",
       "      <th>Loss_Impa</th>\n",
       "      <th>Deca_Rate</th>\n",
       "      <th>RL_weight</th>\n",
       "    </tr>\n",
       "  </thead>\n",
       "  <tbody>\n",
       "    <tr>\n",
       "      <th>0</th>\n",
       "      <td>young</td>\n",
       "      <td>0.038441</td>\n",
       "      <td>0.630402</td>\n",
       "      <td>1.207295</td>\n",
       "      <td>1.050323</td>\n",
       "      <td>-0.535035</td>\n",
       "      <td>-1.913099</td>\n",
       "      <td>0.669323</td>\n",
       "      <td>0.660446</td>\n",
       "    </tr>\n",
       "    <tr>\n",
       "      <th>1</th>\n",
       "      <td>young</td>\n",
       "      <td>0.045673</td>\n",
       "      <td>0.630331</td>\n",
       "      <td>1.628191</td>\n",
       "      <td>0.205205</td>\n",
       "      <td>-0.133367</td>\n",
       "      <td>-1.423580</td>\n",
       "      <td>0.427207</td>\n",
       "      <td>0.719352</td>\n",
       "    </tr>\n",
       "    <tr>\n",
       "      <th>2</th>\n",
       "      <td>young</td>\n",
       "      <td>0.045468</td>\n",
       "      <td>0.602974</td>\n",
       "      <td>1.395572</td>\n",
       "      <td>0.383055</td>\n",
       "      <td>-0.344822</td>\n",
       "      <td>-1.719826</td>\n",
       "      <td>0.493249</td>\n",
       "      <td>0.688723</td>\n",
       "    </tr>\n",
       "    <tr>\n",
       "      <th>3</th>\n",
       "      <td>young</td>\n",
       "      <td>0.035789</td>\n",
       "      <td>0.635677</td>\n",
       "      <td>1.067831</td>\n",
       "      <td>0.823790</td>\n",
       "      <td>-0.229192</td>\n",
       "      <td>-1.484455</td>\n",
       "      <td>0.625835</td>\n",
       "      <td>0.675971</td>\n",
       "    </tr>\n",
       "    <tr>\n",
       "      <th>4</th>\n",
       "      <td>young</td>\n",
       "      <td>0.060655</td>\n",
       "      <td>0.636276</td>\n",
       "      <td>1.802964</td>\n",
       "      <td>0.329246</td>\n",
       "      <td>-0.616020</td>\n",
       "      <td>-2.561017</td>\n",
       "      <td>0.439912</td>\n",
       "      <td>0.655563</td>\n",
       "    </tr>\n",
       "  </tbody>\n",
       "</table>\n",
       "</div>"
      ],
      "text/plain": [
       "   group        LR  Out_Sens  Res_Cons  Loss_Aver  Gain_Impa  Loss_Impa  \\\n",
       "0  young  0.038441  0.630402  1.207295   1.050323  -0.535035  -1.913099   \n",
       "1  young  0.045673  0.630331  1.628191   0.205205  -0.133367  -1.423580   \n",
       "2  young  0.045468  0.602974  1.395572   0.383055  -0.344822  -1.719826   \n",
       "3  young  0.035789  0.635677  1.067831   0.823790  -0.229192  -1.484455   \n",
       "4  young  0.060655  0.636276  1.802964   0.329246  -0.616020  -2.561017   \n",
       "\n",
       "   Deca_Rate  RL_weight  \n",
       "0   0.669323   0.660446  \n",
       "1   0.427207   0.719352  \n",
       "2   0.493249   0.688723  \n",
       "3   0.625835   0.675971  \n",
       "4   0.439912   0.655563  "
      ]
     },
     "execution_count": 15,
     "metadata": {},
     "output_type": "execute_result"
    }
   ],
   "source": [
    "df_vpp.drop(columns=['SubID'], inplace=True)\n",
    "df_vpp.head()"
   ]
  },
  {
   "cell_type": "markdown",
   "metadata": {},
   "source": [
    "# ============================================================="
   ]
  },
  {
   "cell_type": "markdown",
   "metadata": {},
   "source": [
    "# 2. Standardising the Data"
   ]
  },
  {
   "cell_type": "markdown",
   "metadata": {},
   "source": [
    "# ============================================================="
   ]
  },
  {
   "cell_type": "markdown",
   "metadata": {},
   "source": [
    "#### Assign which data source to use"
   ]
  },
  {
   "cell_type": "markdown",
   "metadata": {},
   "source": [
    "According to Lili's paper, the best-fitting model was the VPP model so we will use this data source firstly for analysis."
   ]
  },
  {
   "cell_type": "code",
   "execution_count": 16,
   "metadata": {},
   "outputs": [],
   "source": [
    "original_df = df_vpp"
   ]
  },
  {
   "cell_type": "markdown",
   "metadata": {},
   "source": [
    "#### Exclude the group column"
   ]
  },
  {
   "cell_type": "code",
   "execution_count": 17,
   "metadata": {},
   "outputs": [],
   "source": [
    "train_df = original_df.iloc[:, 1:]"
   ]
  },
  {
   "cell_type": "code",
   "execution_count": 18,
   "metadata": {},
   "outputs": [
    {
     "data": {
      "text/html": [
       "<div>\n",
       "<style scoped>\n",
       "    .dataframe tbody tr th:only-of-type {\n",
       "        vertical-align: middle;\n",
       "    }\n",
       "\n",
       "    .dataframe tbody tr th {\n",
       "        vertical-align: top;\n",
       "    }\n",
       "\n",
       "    .dataframe thead th {\n",
       "        text-align: right;\n",
       "    }\n",
       "</style>\n",
       "<table border=\"1\" class=\"dataframe\">\n",
       "  <thead>\n",
       "    <tr style=\"text-align: right;\">\n",
       "      <th></th>\n",
       "      <th>LR</th>\n",
       "      <th>Out_Sens</th>\n",
       "      <th>Res_Cons</th>\n",
       "      <th>Loss_Aver</th>\n",
       "      <th>Gain_Impa</th>\n",
       "      <th>Loss_Impa</th>\n",
       "      <th>Deca_Rate</th>\n",
       "      <th>RL_weight</th>\n",
       "    </tr>\n",
       "  </thead>\n",
       "  <tbody>\n",
       "    <tr>\n",
       "      <th>count</th>\n",
       "      <td>153.000000</td>\n",
       "      <td>153.000000</td>\n",
       "      <td>153.000000</td>\n",
       "      <td>153.000000</td>\n",
       "      <td>153.000000</td>\n",
       "      <td>153.000000</td>\n",
       "      <td>153.000000</td>\n",
       "      <td>153.000000</td>\n",
       "    </tr>\n",
       "    <tr>\n",
       "      <th>mean</th>\n",
       "      <td>0.070824</td>\n",
       "      <td>0.560575</td>\n",
       "      <td>1.329323</td>\n",
       "      <td>0.952138</td>\n",
       "      <td>0.460940</td>\n",
       "      <td>-0.720379</td>\n",
       "      <td>0.406367</td>\n",
       "      <td>0.622995</td>\n",
       "    </tr>\n",
       "    <tr>\n",
       "      <th>std</th>\n",
       "      <td>0.064683</td>\n",
       "      <td>0.111139</td>\n",
       "      <td>0.198041</td>\n",
       "      <td>0.580621</td>\n",
       "      <td>1.185591</td>\n",
       "      <td>1.102656</td>\n",
       "      <td>0.187483</td>\n",
       "      <td>0.066657</td>\n",
       "    </tr>\n",
       "    <tr>\n",
       "      <th>min</th>\n",
       "      <td>0.027454</td>\n",
       "      <td>0.352471</td>\n",
       "      <td>0.879707</td>\n",
       "      <td>0.193857</td>\n",
       "      <td>-2.977630</td>\n",
       "      <td>-2.912838</td>\n",
       "      <td>0.042780</td>\n",
       "      <td>0.452978</td>\n",
       "    </tr>\n",
       "    <tr>\n",
       "      <th>25%</th>\n",
       "      <td>0.038294</td>\n",
       "      <td>0.448811</td>\n",
       "      <td>1.202790</td>\n",
       "      <td>0.528927</td>\n",
       "      <td>-0.287230</td>\n",
       "      <td>-1.634716</td>\n",
       "      <td>0.256420</td>\n",
       "      <td>0.569390</td>\n",
       "    </tr>\n",
       "    <tr>\n",
       "      <th>50%</th>\n",
       "      <td>0.050247</td>\n",
       "      <td>0.590334</td>\n",
       "      <td>1.316736</td>\n",
       "      <td>0.760613</td>\n",
       "      <td>0.593115</td>\n",
       "      <td>-0.779120</td>\n",
       "      <td>0.439912</td>\n",
       "      <td>0.640917</td>\n",
       "    </tr>\n",
       "    <tr>\n",
       "      <th>75%</th>\n",
       "      <td>0.078495</td>\n",
       "      <td>0.646090</td>\n",
       "      <td>1.428836</td>\n",
       "      <td>1.292569</td>\n",
       "      <td>1.419412</td>\n",
       "      <td>0.137599</td>\n",
       "      <td>0.565139</td>\n",
       "      <td>0.675971</td>\n",
       "    </tr>\n",
       "    <tr>\n",
       "      <th>max</th>\n",
       "      <td>0.617431</td>\n",
       "      <td>0.818137</td>\n",
       "      <td>1.938694</td>\n",
       "      <td>2.698527</td>\n",
       "      <td>2.559126</td>\n",
       "      <td>1.583109</td>\n",
       "      <td>0.858421</td>\n",
       "      <td>0.744017</td>\n",
       "    </tr>\n",
       "  </tbody>\n",
       "</table>\n",
       "</div>"
      ],
      "text/plain": [
       "               LR    Out_Sens    Res_Cons   Loss_Aver   Gain_Impa   Loss_Impa  \\\n",
       "count  153.000000  153.000000  153.000000  153.000000  153.000000  153.000000   \n",
       "mean     0.070824    0.560575    1.329323    0.952138    0.460940   -0.720379   \n",
       "std      0.064683    0.111139    0.198041    0.580621    1.185591    1.102656   \n",
       "min      0.027454    0.352471    0.879707    0.193857   -2.977630   -2.912838   \n",
       "25%      0.038294    0.448811    1.202790    0.528927   -0.287230   -1.634716   \n",
       "50%      0.050247    0.590334    1.316736    0.760613    0.593115   -0.779120   \n",
       "75%      0.078495    0.646090    1.428836    1.292569    1.419412    0.137599   \n",
       "max      0.617431    0.818137    1.938694    2.698527    2.559126    1.583109   \n",
       "\n",
       "        Deca_Rate   RL_weight  \n",
       "count  153.000000  153.000000  \n",
       "mean     0.406367    0.622995  \n",
       "std      0.187483    0.066657  \n",
       "min      0.042780    0.452978  \n",
       "25%      0.256420    0.569390  \n",
       "50%      0.439912    0.640917  \n",
       "75%      0.565139    0.675971  \n",
       "max      0.858421    0.744017  "
      ]
     },
     "execution_count": 18,
     "metadata": {},
     "output_type": "execute_result"
    }
   ],
   "source": [
    "train_df.describe()"
   ]
  },
  {
   "cell_type": "markdown",
   "metadata": {},
   "source": [
    "#### Standardising the features"
   ]
  },
  {
   "cell_type": "code",
   "execution_count": 19,
   "metadata": {},
   "outputs": [],
   "source": [
    "standardised_train_array = StandardScaler().fit_transform(train_df)\n",
    "\n",
    "standardised_train_df = pd.DataFrame(standardised_train_array, columns=train_df.columns)"
   ]
  },
  {
   "cell_type": "code",
   "execution_count": 20,
   "metadata": {},
   "outputs": [
    {
     "data": {
      "text/html": [
       "<div>\n",
       "<style scoped>\n",
       "    .dataframe tbody tr th:only-of-type {\n",
       "        vertical-align: middle;\n",
       "    }\n",
       "\n",
       "    .dataframe tbody tr th {\n",
       "        vertical-align: top;\n",
       "    }\n",
       "\n",
       "    .dataframe thead th {\n",
       "        text-align: right;\n",
       "    }\n",
       "</style>\n",
       "<table border=\"1\" class=\"dataframe\">\n",
       "  <thead>\n",
       "    <tr style=\"text-align: right;\">\n",
       "      <th></th>\n",
       "      <th>LR</th>\n",
       "      <th>Out_Sens</th>\n",
       "      <th>Res_Cons</th>\n",
       "      <th>Loss_Aver</th>\n",
       "      <th>Gain_Impa</th>\n",
       "      <th>Loss_Impa</th>\n",
       "      <th>Deca_Rate</th>\n",
       "      <th>RL_weight</th>\n",
       "    </tr>\n",
       "  </thead>\n",
       "  <tbody>\n",
       "    <tr>\n",
       "      <th>count</th>\n",
       "      <td>153.000000</td>\n",
       "      <td>1.530000e+02</td>\n",
       "      <td>1.530000e+02</td>\n",
       "      <td>1.530000e+02</td>\n",
       "      <td>1.530000e+02</td>\n",
       "      <td>1.530000e+02</td>\n",
       "      <td>1.530000e+02</td>\n",
       "      <td>1.530000e+02</td>\n",
       "    </tr>\n",
       "    <tr>\n",
       "      <th>mean</th>\n",
       "      <td>0.000000</td>\n",
       "      <td>1.393221e-16</td>\n",
       "      <td>2.786442e-16</td>\n",
       "      <td>2.322035e-17</td>\n",
       "      <td>1.161018e-17</td>\n",
       "      <td>2.322035e-17</td>\n",
       "      <td>-1.393221e-16</td>\n",
       "      <td>-3.715256e-16</td>\n",
       "    </tr>\n",
       "    <tr>\n",
       "      <th>std</th>\n",
       "      <td>1.003284</td>\n",
       "      <td>1.003284e+00</td>\n",
       "      <td>1.003284e+00</td>\n",
       "      <td>1.003284e+00</td>\n",
       "      <td>1.003284e+00</td>\n",
       "      <td>1.003284e+00</td>\n",
       "      <td>1.003284e+00</td>\n",
       "      <td>1.003284e+00</td>\n",
       "    </tr>\n",
       "    <tr>\n",
       "      <th>min</th>\n",
       "      <td>-0.672716</td>\n",
       "      <td>-1.878615e+00</td>\n",
       "      <td>-2.277774e+00</td>\n",
       "      <td>-1.310273e+00</td>\n",
       "      <td>-2.909824e+00</td>\n",
       "      <td>-1.994874e+00</td>\n",
       "      <td>-1.945674e+00</td>\n",
       "      <td>-2.558982e+00</td>\n",
       "    </tr>\n",
       "    <tr>\n",
       "      <th>25%</th>\n",
       "      <td>-0.504571</td>\n",
       "      <td>-1.008928e+00</td>\n",
       "      <td>-6.410213e-01</td>\n",
       "      <td>-7.312885e-01</td>\n",
       "      <td>-6.331242e-01</td>\n",
       "      <td>-8.319367e-01</td>\n",
       "      <td>-8.024148e-01</td>\n",
       "      <td>-8.068266e-01</td>\n",
       "    </tr>\n",
       "    <tr>\n",
       "      <th>50%</th>\n",
       "      <td>-0.319165</td>\n",
       "      <td>2.686431e-01</td>\n",
       "      <td>-6.376586e-02</td>\n",
       "      <td>-3.309464e-01</td>\n",
       "      <td>1.118507e-01</td>\n",
       "      <td>-5.344755e-02</td>\n",
       "      <td>1.795116e-01</td>\n",
       "      <td>2.697515e-01</td>\n",
       "    </tr>\n",
       "    <tr>\n",
       "      <th>75%</th>\n",
       "      <td>0.118975</td>\n",
       "      <td>7.719602e-01</td>\n",
       "      <td>5.041357e-01</td>\n",
       "      <td>5.882480e-01</td>\n",
       "      <td>8.110895e-01</td>\n",
       "      <td>7.806565e-01</td>\n",
       "      <td>8.496451e-01</td>\n",
       "      <td>7.973600e-01</td>\n",
       "    </tr>\n",
       "    <tr>\n",
       "      <th>max</th>\n",
       "      <td>8.478293</td>\n",
       "      <td>2.325082e+00</td>\n",
       "      <td>3.087106e+00</td>\n",
       "      <td>3.017676e+00</td>\n",
       "      <td>1.775551e+00</td>\n",
       "      <td>2.095897e+00</td>\n",
       "      <td>2.419090e+00</td>\n",
       "      <td>1.821545e+00</td>\n",
       "    </tr>\n",
       "  </tbody>\n",
       "</table>\n",
       "</div>"
      ],
      "text/plain": [
       "               LR      Out_Sens      Res_Cons     Loss_Aver     Gain_Impa  \\\n",
       "count  153.000000  1.530000e+02  1.530000e+02  1.530000e+02  1.530000e+02   \n",
       "mean     0.000000  1.393221e-16  2.786442e-16  2.322035e-17  1.161018e-17   \n",
       "std      1.003284  1.003284e+00  1.003284e+00  1.003284e+00  1.003284e+00   \n",
       "min     -0.672716 -1.878615e+00 -2.277774e+00 -1.310273e+00 -2.909824e+00   \n",
       "25%     -0.504571 -1.008928e+00 -6.410213e-01 -7.312885e-01 -6.331242e-01   \n",
       "50%     -0.319165  2.686431e-01 -6.376586e-02 -3.309464e-01  1.118507e-01   \n",
       "75%      0.118975  7.719602e-01  5.041357e-01  5.882480e-01  8.110895e-01   \n",
       "max      8.478293  2.325082e+00  3.087106e+00  3.017676e+00  1.775551e+00   \n",
       "\n",
       "          Loss_Impa     Deca_Rate     RL_weight  \n",
       "count  1.530000e+02  1.530000e+02  1.530000e+02  \n",
       "mean   2.322035e-17 -1.393221e-16 -3.715256e-16  \n",
       "std    1.003284e+00  1.003284e+00  1.003284e+00  \n",
       "min   -1.994874e+00 -1.945674e+00 -2.558982e+00  \n",
       "25%   -8.319367e-01 -8.024148e-01 -8.068266e-01  \n",
       "50%   -5.344755e-02  1.795116e-01  2.697515e-01  \n",
       "75%    7.806565e-01  8.496451e-01  7.973600e-01  \n",
       "max    2.095897e+00  2.419090e+00  1.821545e+00  "
      ]
     },
     "execution_count": 20,
     "metadata": {},
     "output_type": "execute_result"
    }
   ],
   "source": [
    "standardised_train_df.describe()"
   ]
  },
  {
   "cell_type": "markdown",
   "metadata": {},
   "source": [
    "#### Add the group feature back in"
   ]
  },
  {
   "cell_type": "code",
   "execution_count": 21,
   "metadata": {},
   "outputs": [],
   "source": [
    "standardised_df = pd.concat([original_df.iloc[:, 0], standardised_train_df], axis=1)"
   ]
  },
  {
   "cell_type": "code",
   "execution_count": 22,
   "metadata": {},
   "outputs": [
    {
     "data": {
      "text/html": [
       "<div>\n",
       "<style scoped>\n",
       "    .dataframe tbody tr th:only-of-type {\n",
       "        vertical-align: middle;\n",
       "    }\n",
       "\n",
       "    .dataframe tbody tr th {\n",
       "        vertical-align: top;\n",
       "    }\n",
       "\n",
       "    .dataframe thead th {\n",
       "        text-align: right;\n",
       "    }\n",
       "</style>\n",
       "<table border=\"1\" class=\"dataframe\">\n",
       "  <thead>\n",
       "    <tr style=\"text-align: right;\">\n",
       "      <th></th>\n",
       "      <th>group</th>\n",
       "      <th>LR</th>\n",
       "      <th>Out_Sens</th>\n",
       "      <th>Res_Cons</th>\n",
       "      <th>Loss_Aver</th>\n",
       "      <th>Gain_Impa</th>\n",
       "      <th>Loss_Impa</th>\n",
       "      <th>Deca_Rate</th>\n",
       "      <th>RL_weight</th>\n",
       "    </tr>\n",
       "  </thead>\n",
       "  <tbody>\n",
       "    <tr>\n",
       "      <th>0</th>\n",
       "      <td>young</td>\n",
       "      <td>-0.502291</td>\n",
       "      <td>0.630340</td>\n",
       "      <td>-0.618199</td>\n",
       "      <td>0.169659</td>\n",
       "      <td>-0.842824</td>\n",
       "      <td>-1.085232</td>\n",
       "      <td>1.407168</td>\n",
       "      <td>0.563691</td>\n",
       "    </tr>\n",
       "    <tr>\n",
       "      <th>1</th>\n",
       "      <td>young</td>\n",
       "      <td>-0.390124</td>\n",
       "      <td>0.629703</td>\n",
       "      <td>1.514082</td>\n",
       "      <td>-1.290663</td>\n",
       "      <td>-0.502920</td>\n",
       "      <td>-0.639829</td>\n",
       "      <td>0.111524</td>\n",
       "      <td>1.450305</td>\n",
       "    </tr>\n",
       "    <tr>\n",
       "      <th>2</th>\n",
       "      <td>young</td>\n",
       "      <td>-0.393302</td>\n",
       "      <td>0.382748</td>\n",
       "      <td>0.335619</td>\n",
       "      <td>-0.983347</td>\n",
       "      <td>-0.681861</td>\n",
       "      <td>-0.909377</td>\n",
       "      <td>0.464937</td>\n",
       "      <td>0.989304</td>\n",
       "    </tr>\n",
       "    <tr>\n",
       "      <th>3</th>\n",
       "      <td>young</td>\n",
       "      <td>-0.543427</td>\n",
       "      <td>0.677963</td>\n",
       "      <td>-1.324734</td>\n",
       "      <td>-0.221779</td>\n",
       "      <td>-0.584010</td>\n",
       "      <td>-0.695217</td>\n",
       "      <td>1.174449</td>\n",
       "      <td>0.797360</td>\n",
       "    </tr>\n",
       "    <tr>\n",
       "      <th>4</th>\n",
       "      <td>young</td>\n",
       "      <td>-0.157737</td>\n",
       "      <td>0.683369</td>\n",
       "      <td>2.399490</td>\n",
       "      <td>-1.076327</td>\n",
       "      <td>-0.911356</td>\n",
       "      <td>-1.674759</td>\n",
       "      <td>0.179512</td>\n",
       "      <td>0.490205</td>\n",
       "    </tr>\n",
       "  </tbody>\n",
       "</table>\n",
       "</div>"
      ],
      "text/plain": [
       "   group        LR  Out_Sens  Res_Cons  Loss_Aver  Gain_Impa  Loss_Impa  \\\n",
       "0  young -0.502291  0.630340 -0.618199   0.169659  -0.842824  -1.085232   \n",
       "1  young -0.390124  0.629703  1.514082  -1.290663  -0.502920  -0.639829   \n",
       "2  young -0.393302  0.382748  0.335619  -0.983347  -0.681861  -0.909377   \n",
       "3  young -0.543427  0.677963 -1.324734  -0.221779  -0.584010  -0.695217   \n",
       "4  young -0.157737  0.683369  2.399490  -1.076327  -0.911356  -1.674759   \n",
       "\n",
       "   Deca_Rate  RL_weight  \n",
       "0   1.407168   0.563691  \n",
       "1   0.111524   1.450305  \n",
       "2   0.464937   0.989304  \n",
       "3   1.174449   0.797360  \n",
       "4   0.179512   0.490205  "
      ]
     },
     "execution_count": 22,
     "metadata": {},
     "output_type": "execute_result"
    }
   ],
   "source": [
    "standardised_df.head()"
   ]
  },
  {
   "cell_type": "markdown",
   "metadata": {},
   "source": [
    "# Consideration of Clustering Algorithms"
   ]
  },
  {
   "cell_type": "markdown",
   "metadata": {},
   "source": [
    "There are a number of clustering algorithms which we could implement. Below, we try the KMeans and Spectral Clustering algorithms and analyse how these perform on the data in question. \n",
    "\n",
    "To determine which algorithm is more appropriate to the dataset, we will measure their performance using the Silhouette Coefficient. The Silhouette Coefficien of a data point quantifies how similar a data point is to its own cluster compared to other clusters. We will use the mean Silhouette Coefficient across all data points to compare the performace of both algorithms.\n",
    "\n",
    "The Silhouette Coefficient for a particular data point is calculated by the below formula:\n",
    "\n",
    "$$(b - a) / max(a, b)$$\n",
    "\n",
    "Where a is a measure of mean intra-cluster distance\n",
    "and b is a measure of mean nearest-cluster distance\n",
    "https://scikit-learn.org/stable/modules/generated/sklearn.metrics.silhouette_score.html\n",
    "\n",
    "\n",
    "Give details of what silhouette score range is."
   ]
  },
  {
   "cell_type": "code",
   "execution_count": 26,
   "metadata": {},
   "outputs": [],
   "source": [
    "df_clustering = standardised_train_df"
   ]
  },
  {
   "cell_type": "markdown",
   "metadata": {},
   "source": [
    "## Silhouette Scores for KMeans algorithm"
   ]
  },
  {
   "cell_type": "code",
   "execution_count": 30,
   "metadata": {},
   "outputs": [
    {
     "name": "stdout",
     "output_type": "stream",
     "text": [
      "[0.29512958858192134, 0.25423117504467807, 0.2512191223986945, 0.26050618124682656, 0.26941439411225426, 0.2470056598135745, 0.25152542658151855, 0.24204010620225624, 0.24216602394171305]\n"
     ]
    },
    {
     "data": {
      "image/png": "[encoded data removed]",
      "text/plain": [
       "<Figure size 432x288 with 1 Axes>"
      ]
     },
     "metadata": {
      "needs_background": "light"
     },
     "output_type": "display_data"
    }
   ],
   "source": [
    "# List of Silhouette Scores for KMeans model\n",
    "s_scores_km = []\n",
    "num_clusters_to_iter = range(2, 11)\n",
    "\n",
    "# Finding the optimal number of cluster for the KMeans appraoch\n",
    "for k in num_clusters_to_iter:\n",
    "    \n",
    "    # Building the clustering model \n",
    "    km_model = KMeans(n_clusters = k)\n",
    "\n",
    "    # Training the model and Storing the predicted cluster labels\n",
    "    km_labels = km_model.fit_predict(df_clustering)\n",
    "    \n",
    "    # Evaluating the performance \n",
    "    s_scores_km.append(silhouette_score(df_clustering, km_labels))\n",
    "\n",
    "print(s_scores_km)\n",
    "\n",
    "plt.plot(range(2,11), s_scores_km, 'bx-')\n",
    "plt.xlabel('# Clusters')\n",
    "plt.ylabel('Silhouette Scores')\n",
    "plt.title('Silhouette Scores for Different Numbers of Clusters')\n",
    "plt.show()"
   ]
  },
  {
   "cell_type": "markdown",
   "metadata": {},
   "source": [
    "#### Plot the elbow curve of the distortion that each cluster number gives"
   ]
  },
  {
   "cell_type": "code",
   "execution_count": null,
   "metadata": {
    "scrolled": true
   },
   "outputs": [],
   "source": [
    "plt.plot(num_clusters_to_iterate, distortions, 'bx-')\n",
    "plt.xlabel('# Clusters')\n",
    "plt.ylabel('Distortion')\n",
    "plt.title('The Elbow Method displaying the optimal number of clusters')\n",
    "plt.show()"
   ]
  },
  {
   "cell_type": "markdown",
   "metadata": {},
   "source": [
    "## Silhouette Scores for Spectral Clustering algorithm"
   ]
  },
  {
   "cell_type": "code",
   "execution_count": 31,
   "metadata": {},
   "outputs": [
    {
     "name": "stdout",
     "output_type": "stream",
     "text": [
      "[0.29512958858192134, 0.2534970159912942, 0.21487469022831432, 0.2384824882187726, 0.08464472121418931, 0.230062961545574, 0.23211173577006772, 0.21372259860106319, 0.21726827717565467]\n"
     ]
    },
    {
     "data": {
      "image/png": "[encoded data removed]",
      "text/plain": [
       "<Figure size 432x288 with 1 Axes>"
      ]
     },
     "metadata": {
      "needs_background": "light"
     },
     "output_type": "display_data"
    }
   ],
   "source": [
    "# List of Silhouette Scores for Spectral method with affinity rbf\n",
    "s_scores_rbf = []\n",
    "num_clusters_to_iter = range(2, 11)\n",
    "\n",
    "# Finding the optimal number of cluster for the rbf basis appraoch\n",
    "for k in num_clusters_to_iter:\n",
    "    \n",
    "    # Building the clustering model \n",
    "    spectral_model_rbf = SpectralClustering(n_clusters = k, affinity ='rbf')\n",
    "\n",
    "    # Training the model and Storing the predicted cluster labels\n",
    "    labels_rbf = spectral_model_rbf.fit_predict(df_clustering)\n",
    "    \n",
    "    # Evaluating the performance \n",
    "    s_scores_rbf.append(silhouette_score(df_clustering, labels_rbf))\n",
    "\n",
    "print(s_scores_rbf)\n",
    "\n",
    "plt.plot(range(2,11), s_scores_rbf, 'bx-')\n",
    "plt.xlabel('# Clusters')\n",
    "plt.ylabel('Silhouette Scores')\n",
    "plt.title('Silhouette Scores for Different Numbers of Clusters')\n",
    "plt.show()"
   ]
  },
  {
   "cell_type": "code",
   "execution_count": 33,
   "metadata": {},
   "outputs": [
    {
     "name": "stdout",
     "output_type": "stream",
     "text": [
      "[0.29512958858192134, 0.25576500302229266, 0.2437643549631677, 0.24603325864533168, 0.23242006686111438, 0.2371155387821377, 0.21224274296652562, 0.1961069405018411, 0.18732183675207448]\n"
     ]
    },
    {
     "data": {
      "image/png": "[encoded data removed]",
      "text/plain": [
       "<Figure size 432x288 with 1 Axes>"
      ]
     },
     "metadata": {
      "needs_background": "light"
     },
     "output_type": "display_data"
    }
   ],
   "source": [
    "# List of Silhouette Scores for Spectral method with affinity nn\n",
    "s_scores_nn = []\n",
    "num_clusters_to_iter = range(2, 11)\n",
    "\n",
    "# Finding the optimal number of clusters for the nearest_neighbor appraoch\n",
    "for k in num_clusters_to_iter:\n",
    "    \n",
    "    # Building the clustering model \n",
    "    spectral_model_nn = SpectralClustering(n_clusters = k, affinity ='nearest_neighbors')\n",
    "\n",
    "    # Training the model and storing the predicted cluster labels\n",
    "    labels_nn = spectral_model_nn.fit_predict(df_clustering)\n",
    "    \n",
    "    # Evaluating the performance \n",
    "    s_scores_nn.append(silhouette_score(df_clustering, labels_nn))\n",
    "\n",
    "print(s_scores_nn)\n",
    "\n",
    "plt.plot(range(2,11), s_scores_nn, 'bx-')\n",
    "plt.xlabel('# Clusters')\n",
    "plt.ylabel('Silhouette Scores')\n",
    "plt.title('Silhouette Scores for Different Numbers of Clusters')\n",
    "plt.show()"
   ]
  },
  {
   "cell_type": "markdown",
   "metadata": {},
   "source": [
    "From the Silhouette scores displayed above, it's clear that there is two distinct groups present in the dataset, which intuitively should represent the 'young' and 'old' subjects in the dataset. The Silhouette Coefficient is the exact same across the three models using two clusters, therefore any model can be used. We will test the Spectral Clustering with rbf algorithm using two clusters."
   ]
  },
  {
   "cell_type": "code",
   "execution_count": null,
   "metadata": {},
   "outputs": [],
   "source": [
    "#Do Spectral with 2 clusters\n",
    "#Check which group each subject falls into. If it's 'young' and 'old', then try more clusters.\n",
    "\n",
    "kmeans = KMeans(n_clusters=2).fit(standard_train_array)\n",
    "centroids = kmeans.cluster_centers_"
   ]
  },
  {
   "cell_type": "code",
   "execution_count": null,
   "metadata": {},
   "outputs": [],
   "source": [
    "#Choose more clusters\n",
    "#The next most suitable combination of num_clusters/model is kmeans with 6 clusters\n",
    "#Confirm this with elbow curve\n",
    "\n",
    "kmeans = KMeans(n_clusters=6).fit(standard_train_array)\n",
    "centroids = kmeans.cluster_centers_"
   ]
  },
  {
   "cell_type": "code",
   "execution_count": null,
   "metadata": {},
   "outputs": [],
   "source": []
  },
  {
   "cell_type": "markdown",
   "metadata": {},
   "source": [
    "# ============================================================="
   ]
  },
  {
   "cell_type": "markdown",
   "metadata": {},
   "source": [
    "# 4. Cluster the data"
   ]
  },
  {
   "cell_type": "markdown",
   "metadata": {},
   "source": [
    "# ============================================================="
   ]
  },
  {
   "cell_type": "markdown",
   "metadata": {},
   "source": [
    "### Use the above graph to set the number of clusters"
   ]
  },
  {
   "cell_type": "code",
   "execution_count": null,
   "metadata": {},
   "outputs": [],
   "source": [
    "num_clusters = 8"
   ]
  },
  {
   "cell_type": "markdown",
   "metadata": {},
   "source": [
    "## Find out which of the clusters each df row is in"
   ]
  },
  {
   "cell_type": "markdown",
   "metadata": {},
   "source": [
    "#### Cluster the data"
   ]
  },
  {
   "cell_type": "code",
   "execution_count": null,
   "metadata": {},
   "outputs": [],
   "source": [
    "clustering = SpectralClustering(n_clusters=num_clusters, assign_labels=\"discretize\", random_state=0).fit(standard_train_array)\n",
    "clusters_label = pd.DataFrame(clustering.labels_).rename(columns={0: \"Cluster\"})"
   ]
  },
  {
   "cell_type": "markdown",
   "metadata": {},
   "source": [
    "#### Calculate the centroids of the clusters"
   ]
  },
  {
   "cell_type": "code",
   "execution_count": null,
   "metadata": {},
   "outputs": [],
   "source": [
    "kmeans = KMeans(n_clusters=num_clusters).fit(standard_train_array)\n",
    "centroids = kmeans.cluster_centers_"
   ]
  },
  {
   "cell_type": "markdown",
   "metadata": {},
   "source": [
    "#### Add a new column to the original data with the cluster each row is in"
   ]
  },
  {
   "cell_type": "code",
   "execution_count": null,
   "metadata": {
    "scrolled": true
   },
   "outputs": [],
   "source": [
    "full_df_nd_cluster = pd.concat([original_df, clusters_label], axis=1)"
   ]
  },
  {
   "cell_type": "code",
   "execution_count": null,
   "metadata": {
    "scrolled": true
   },
   "outputs": [],
   "source": [
    "full_df_nd_cluster.head()"
   ]
  },
  {
   "cell_type": "markdown",
   "metadata": {},
   "source": [
    "# ============================================================="
   ]
  },
  {
   "cell_type": "markdown",
   "metadata": {},
   "source": [
    "# 5. Principal Component Analysis"
   ]
  },
  {
   "cell_type": "markdown",
   "metadata": {},
   "source": [
    "# ============================================================="
   ]
  },
  {
   "cell_type": "markdown",
   "metadata": {},
   "source": [
    "There are eight parameters in this model so principal component analysis is performed below on the data before performing Spectral clustering."
   ]
  },
  {
   "cell_type": "markdown",
   "metadata": {},
   "source": [
    "#### Inspect dataframe which PCA is being performed on"
   ]
  },
  {
   "cell_type": "code",
   "execution_count": null,
   "metadata": {},
   "outputs": [],
   "source": [
    "original_df.head()"
   ]
  },
  {
   "cell_type": "markdown",
   "metadata": {},
   "source": [
    "#### Use PCA to project the data to 2 dimensions"
   ]
  },
  {
   "cell_type": "code",
   "execution_count": null,
   "metadata": {},
   "outputs": [],
   "source": [
    "pca = PCA(n_components=2)\n",
    "\n",
    "principal_components_array = pca.fit_transform(standard_train_array)"
   ]
  },
  {
   "cell_type": "markdown",
   "metadata": {},
   "source": [
    "#### Look at how much variance these 2 axes explain"
   ]
  },
  {
   "cell_type": "code",
   "execution_count": null,
   "metadata": {},
   "outputs": [],
   "source": [
    "pca.explained_variance_ratio_"
   ]
  },
  {
   "cell_type": "markdown",
   "metadata": {},
   "source": [
    "#### Add these principal component columns to the rest of the data"
   ]
  },
  {
   "cell_type": "code",
   "execution_count": null,
   "metadata": {},
   "outputs": [],
   "source": [
    "principal_df = pd.DataFrame(data = principal_components_array, columns = ['Principal_Component_1', 'Principal_Component_2'])\n",
    "principal_df.head()"
   ]
  },
  {
   "cell_type": "code",
   "execution_count": null,
   "metadata": {},
   "outputs": [],
   "source": [
    "final_df = pd.concat([full_df_nd_cluster, principal_df], axis = 1)"
   ]
  },
  {
   "cell_type": "code",
   "execution_count": null,
   "metadata": {
    "scrolled": true
   },
   "outputs": [],
   "source": [
    "final_df.head()"
   ]
  },
  {
   "cell_type": "markdown",
   "metadata": {},
   "source": [
    "# ============================================================="
   ]
  },
  {
   "cell_type": "markdown",
   "metadata": {},
   "source": [
    "# 6. Plot the clusters with the PCA axes"
   ]
  },
  {
   "cell_type": "markdown",
   "metadata": {},
   "source": [
    "# ============================================================="
   ]
  },
  {
   "cell_type": "markdown",
   "metadata": {},
   "source": [
    "## Plot the clusters"
   ]
  },
  {
   "cell_type": "markdown",
   "metadata": {},
   "source": [
    "#### Choose the columns to plot"
   ]
  },
  {
   "cell_type": "code",
   "execution_count": null,
   "metadata": {},
   "outputs": [],
   "source": [
    "pc1 = final_df['Principal_Component_1']\n",
    "pc2 = final_df['Principal_Component_2']\n",
    "group = final_df[\"group\"]\n",
    "cluster = final_df[\"Cluster\"]"
   ]
  },
  {
   "cell_type": "markdown",
   "metadata": {},
   "source": [
    "#### Visualise 2D projection"
   ]
  },
  {
   "cell_type": "code",
   "execution_count": null,
   "metadata": {},
   "outputs": [],
   "source": [
    "fig = plt.figure(figsize = (8,8))\n",
    "ax = fig.add_subplot(1,1,1)\n",
    "\n",
    "ax.set_xlabel('Principal Component 1', fontsize = 15)\n",
    "ax.set_ylabel('Principal Component 2', fontsize = 15)\n",
    "ax.set_title('Plotting the dataset accross the 2 principal components', fontsize = 20)\n",
    "\n",
    "targets = ['young', 'old']\n",
    "colors = ['b', 'y']\n",
    "\n",
    "for target, color in zip(targets, colors):\n",
    "    ax.scatter(pc1.loc[target == group], pc2.loc[target == group], c = color, s = 50)\n",
    "    \n",
    "ax.legend(targets)\n",
    "ax.grid()"
   ]
  },
  {
   "cell_type": "markdown",
   "metadata": {},
   "source": [
    "#### Plot the original data"
   ]
  },
  {
   "cell_type": "code",
   "execution_count": null,
   "metadata": {
    "scrolled": true
   },
   "outputs": [],
   "source": [
    "plt.scatter(pc1, pc2)"
   ]
  },
  {
   "cell_type": "markdown",
   "metadata": {},
   "source": [
    "#### Plot the data colouring the different groups"
   ]
  },
  {
   "cell_type": "code",
   "execution_count": null,
   "metadata": {
    "scrolled": true
   },
   "outputs": [],
   "source": [
    "plt.scatter(pc1, pc2, c=np.where(0, 1, group==\"young\"), s=50)"
   ]
  },
  {
   "cell_type": "markdown",
   "metadata": {},
   "source": [
    "#### Plot this data colouring the different clusters"
   ]
  },
  {
   "cell_type": "code",
   "execution_count": null,
   "metadata": {
    "scrolled": true
   },
   "outputs": [],
   "source": [
    "plt.scatter(pc1, pc2, c=cluster, s=50)"
   ]
  },
  {
   "cell_type": "markdown",
   "metadata": {},
   "source": [
    "#### Plot this data with the clusters and their centroids"
   ]
  },
  {
   "cell_type": "code",
   "execution_count": null,
   "metadata": {
    "scrolled": true
   },
   "outputs": [],
   "source": [
    "plt.scatter(pc1, pc2, c=kmeans.labels_.astype(float), s=50, alpha=0.5)\n",
    "plt.scatter(centroids[:, 0], centroids[:, 1], c='red', s=50)\n",
    "plt.show()"
   ]
  },
  {
   "cell_type": "markdown",
   "metadata": {},
   "source": [
    "# ============================================================="
   ]
  },
  {
   "cell_type": "markdown",
   "metadata": {},
   "source": [
    "# 7. Analyse the clusters"
   ]
  },
  {
   "cell_type": "markdown",
   "metadata": {},
   "source": [
    "# ============================================================="
   ]
  },
  {
   "cell_type": "markdown",
   "metadata": {},
   "source": [
    "## See how the 'Old' and 'Young' fall into these clusters"
   ]
  },
  {
   "cell_type": "code",
   "execution_count": null,
   "metadata": {},
   "outputs": [],
   "source": [
    "final_df.head()"
   ]
  },
  {
   "cell_type": "markdown",
   "metadata": {},
   "source": [
    "#### Create a dataframe showing how many people people fell into each cluster"
   ]
  },
  {
   "cell_type": "code",
   "execution_count": null,
   "metadata": {},
   "outputs": [],
   "source": [
    "all_cluster_df = pd.DataFrame(final_df[[\"group\", \"Cluster\"]].groupby(\"Cluster\").count()).rename(columns={\"group\": \"All\"})"
   ]
  },
  {
   "cell_type": "markdown",
   "metadata": {},
   "source": [
    "#### Change 'young' to 1 and 'old' to np.nan"
   ]
  },
  {
   "cell_type": "code",
   "execution_count": null,
   "metadata": {},
   "outputs": [],
   "source": [
    "final_df[\"group\"] = final_df[\"group\"].replace('old', np.nan).replace('young', 1)"
   ]
  },
  {
   "cell_type": "markdown",
   "metadata": {},
   "source": [
    "#### Create a dataframe showing how many young people fell into each cluster"
   ]
  },
  {
   "cell_type": "code",
   "execution_count": null,
   "metadata": {},
   "outputs": [],
   "source": [
    "young_cluster_df = pd.DataFrame(final_df[[\"group\", \"Cluster\"]].groupby(\"Cluster\").count()).rename(columns={\"group\": \"Young\"})"
   ]
  },
  {
   "cell_type": "markdown",
   "metadata": {},
   "source": [
    "#### Create a dataframe showing how many old people fell into each cluster"
   ]
  },
  {
   "cell_type": "code",
   "execution_count": null,
   "metadata": {
    "scrolled": true
   },
   "outputs": [],
   "source": [
    "old_cluster_df = pd.DataFrame(final_df[\"group\"].isnull().groupby(final_df[\"Cluster\"]).sum().astype(int)).rename(columns={\"group\": \"Old\"})"
   ]
  },
  {
   "cell_type": "markdown",
   "metadata": {},
   "source": [
    "#### Output how many 'young' and 'old' people fell into each cluster"
   ]
  },
  {
   "cell_type": "code",
   "execution_count": null,
   "metadata": {},
   "outputs": [],
   "source": [
    "pd.merge(all_cluster_df, pd.merge(young_cluster_df, old_cluster_df, how=\"inner\", on=\"Cluster\"), how=\"inner\", on=\"Cluster\")"
   ]
  },
  {
   "cell_type": "code",
   "execution_count": null,
   "metadata": {},
   "outputs": [],
   "source": []
  }
 ],
 "metadata": {
  "kernelspec": {
   "display_name": "Python 3",
   "language": "python",
   "name": "python3"
  },
  "language_info": {
   "codemirror_mode": {
    "name": "ipython",
    "version": 3
   },
   "file_extension": ".py",
   "mimetype": "text/x-python",
   "name": "python",
   "nbconvert_exporter": "python",
   "pygments_lexer": "ipython3",
   "version": "3.8.5"
  }
 },
 "nbformat": 4,
 "nbformat_minor": 2
}
